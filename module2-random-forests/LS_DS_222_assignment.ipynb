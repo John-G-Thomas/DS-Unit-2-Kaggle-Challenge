{
  "nbformat": 4,
  "nbformat_minor": 0,
  "metadata": {
    "kernelspec": {
      "display_name": "Python 3",
      "language": "python",
      "name": "python3"
    },
    "language_info": {
      "codemirror_mode": {
        "name": "ipython",
        "version": 3
      },
      "file_extension": ".py",
      "mimetype": "text/x-python",
      "name": "python",
      "nbconvert_exporter": "python",
      "pygments_lexer": "ipython3",
      "version": "3.7.3"
    },
    "colab": {
      "name": "LS_DS_222_assignment.ipynb",
      "provenance": [],
      "collapsed_sections": [],
      "include_colab_link": true
    },
    "widgets": {
      "application/vnd.jupyter.widget-state+json": {
        "833f957afd7c49bb8df9cc7aa814e327": {
          "model_module": "@jupyter-widgets/controls",
          "model_name": "VBoxModel",
          "state": {
            "_view_name": "VBoxView",
            "_dom_classes": [
              "widget-interact"
            ],
            "_model_name": "VBoxModel",
            "_view_module": "@jupyter-widgets/controls",
            "_model_module_version": "1.5.0",
            "_view_count": null,
            "_view_module_version": "1.5.0",
            "box_style": "",
            "layout": "IPY_MODEL_2bf12ac9f2614d9aaf2fc240d4f41994",
            "_model_module": "@jupyter-widgets/controls",
            "children": [
              "IPY_MODEL_afedc40f2abe40aab55d48cc15eb5c00",
              "IPY_MODEL_81cebee055844451aa7cc5fdbb610337",
              "IPY_MODEL_e0c7b0dc6db74771aa1158c551be8562"
            ]
          }
        },
        "2bf12ac9f2614d9aaf2fc240d4f41994": {
          "model_module": "@jupyter-widgets/base",
          "model_name": "LayoutModel",
          "state": {
            "_view_name": "LayoutView",
            "grid_template_rows": null,
            "right": null,
            "justify_content": null,
            "_view_module": "@jupyter-widgets/base",
            "overflow": null,
            "_model_module_version": "1.2.0",
            "_view_count": null,
            "flex_flow": null,
            "width": null,
            "min_width": null,
            "border": null,
            "align_items": null,
            "bottom": null,
            "_model_module": "@jupyter-widgets/base",
            "top": null,
            "grid_column": null,
            "overflow_y": null,
            "overflow_x": null,
            "grid_auto_flow": null,
            "grid_area": null,
            "grid_template_columns": null,
            "flex": null,
            "_model_name": "LayoutModel",
            "justify_items": null,
            "grid_row": null,
            "max_height": null,
            "align_content": null,
            "visibility": null,
            "align_self": null,
            "height": null,
            "min_height": null,
            "padding": null,
            "grid_auto_rows": null,
            "grid_gap": null,
            "max_width": null,
            "order": null,
            "_view_module_version": "1.2.0",
            "grid_template_areas": null,
            "object_position": null,
            "object_fit": null,
            "grid_auto_columns": null,
            "margin": null,
            "display": null,
            "left": null
          }
        },
        "afedc40f2abe40aab55d48cc15eb5c00": {
          "model_module": "@jupyter-widgets/controls",
          "model_name": "IntSliderModel",
          "state": {
            "_view_name": "IntSliderView",
            "style": "IPY_MODEL_6127f8904993430fb846c8346747dd8c",
            "_dom_classes": [],
            "description": "max_depth",
            "step": 1,
            "_model_name": "IntSliderModel",
            "orientation": "horizontal",
            "max": 6,
            "_view_module": "@jupyter-widgets/controls",
            "_model_module_version": "1.5.0",
            "value": 1,
            "_view_count": null,
            "disabled": false,
            "_view_module_version": "1.5.0",
            "min": 1,
            "continuous_update": true,
            "readout_format": "d",
            "description_tooltip": null,
            "readout": true,
            "_model_module": "@jupyter-widgets/controls",
            "layout": "IPY_MODEL_a4f1f31699ae4056b7128b07ceaae49d"
          }
        },
        "81cebee055844451aa7cc5fdbb610337": {
          "model_module": "@jupyter-widgets/controls",
          "model_name": "IntSliderModel",
          "state": {
            "_view_name": "IntSliderView",
            "style": "IPY_MODEL_bcf7b3fa1c12400882a7fcae05a54c78",
            "_dom_classes": [],
            "description": "n_estimators",
            "step": 10,
            "_model_name": "IntSliderModel",
            "orientation": "horizontal",
            "max": 40,
            "_view_module": "@jupyter-widgets/controls",
            "_model_module_version": "1.5.0",
            "value": 10,
            "_view_count": null,
            "disabled": false,
            "_view_module_version": "1.5.0",
            "min": 10,
            "continuous_update": true,
            "readout_format": "d",
            "description_tooltip": null,
            "readout": true,
            "_model_module": "@jupyter-widgets/controls",
            "layout": "IPY_MODEL_423806b1fc4946ecb4fa2fcc3f57858e"
          }
        },
        "e0c7b0dc6db74771aa1158c551be8562": {
          "model_module": "@jupyter-widgets/output",
          "model_name": "OutputModel",
          "state": {
            "_view_name": "OutputView",
            "msg_id": "",
            "_dom_classes": [],
            "_model_name": "OutputModel",
            "outputs": [
              {
                "output_type": "display_data",
                "metadata": {
                  "tags": [],
                  "needs_background": "light"
                },
                "image/png": "iVBORw0KGgoAAAANSUhEUgAAAYIAAAEWCAYAAABrDZDcAAAABHNCSVQICAgIfAhkiAAAAAlwSFlzAAALEgAACxIB0t1+/AAAADh0RVh0U29mdHdhcmUAbWF0cGxvdGxpYiB2ZXJzaW9uMy4yLjIsIGh0dHA6Ly9tYXRwbG90bGliLm9yZy+WH4yJAAAgAElEQVR4nO3df5xWdZ338dd7YBwmBxVhtpQBNaVcbJHcUSv64b2loXdBu/QD+7H+Smo3WtvaBaxuar23e5PautvW3TQz061Fk7skFyPLfrllAQZT4KKIJkNaSCCQMA7N5/7jnHEPl9cMB+Y613XNXO/n43E9OD++55zPdebifK7v+Z7r+1VEYGZmjaup1gGYmVltORGYmTU4JwIzswbnRGBm1uCcCMzMGpwTgZlZg3MisLol6U5JF+Uot0fS86sRk9lI5ERgQybpEUl7Je2WtFPSjyS9W9KQPl8RcX5EfClHubaI2DyUY0lanyaUPZJ+L2lfZv6DQ9l3yXFulPR0ut/fSrpL0qmV2r/Z4XAisEp5fUSMBU4APg4sBL5Q25Dyi4jT0oTSBvwQmN8/HxH/p7+cpNEVONyS9DgTga0UcJ4qFOdQjq+hfhGw6vEfyioqIp6MiOXAW4CLJL1IUoukT0p6VNKvJX1OUmv/NpJmS1oraZekhyTNTJd/T9I70+lTJH1f0pOSnpB0S2b7kHRKOn20pJskbZP0S0kf7r8gSbpY0j1pLDskPSzp/MHej6QT0/1fJulR4O50+aWS7k/3s1LSCZltTk2/6f9W0kZJbx7gXO0FbgWmZ7Y9XtKyNP6HJf1VZl2rpC+lx7xf0gJJ3Zn1j0haKKkL+J2k0ZJektbQdkpaJ+mcTPmLJW1Oa3IPS3pbjnP9Mkmr0nWrJL0ss+57kj4m6T+BpwDfrhsuIsIvv4b0Ah4BXlNm+aPAXwCfBpYDxwJjgW8A/5CWOQt4EjiX5IvJRODUdN33gHem0/8OfCgtMwZ4eeY4AZySTt8E3J4e50TgAeCydN3FQC9wOTAqje1XgErizh73xHT/NwFHAq3AbGAT8IfAaODDwI/S8kcCW4BL0nUvBp4ApqbrbwT+PlP2ZmBdOt8ErAEWA0eQXEg3A69N138c+D4wDugAuoDukr/DWmBSGudEYDtwQbrvc9P59vTYu4AXptseB5w22LlO/347gHek7+3CdH585rw9CpyWrm+u9WfTr5z/h2sdgF/D/8XAieDe9ILyO+DkzPKXAg+n09cCnx5gv9kL8k3AdUBHmXIBnJJe3J/uv+im694FfC+dvhjYlFn3nHTb5w1y3P5E8PzM+jtJk0s630TyDfgEkprQD0v2dy3wkXT6RmAfsBPoAx4GpqXrzgYeLdn2SuCL6fQzSSGdf2eZRHBpZn4hcHPJ/lYCF6WJYCcwB2gtKVP2XKcJ4Kcly34MXJw5b1fV+vPo16G/fGvIijSR5Jvhc4A16e2JncA3Sb6VQvLt9aEc+1oACPhp2rB7aZkyE4Bm4JeZZb9M4+j3eP9ERDyVTrblOP6WzPQJwGcy7+e3aWwT03Vn969L178NeF5m+09GxDEkSWYv8MLMfo8v2faDwHPT9ceXxJGdHijON5Xs7+XAcRHxO5Kk9W7gMUn/kWm0HuhcH8+B5xaefX7LxWR1rqYNSjZySTqT5ALxdZJvpqdFxNYyRbcAJx9sfxHxOMktHSS9HPi2pB9ExKZMsSdIbv2cAGxIl00maZAdqmw3vVuAj0XEl0sLpW0F34+Icw+6w4hHJV0BfEnSHel+H46IKQNs8hjJLaH+9zYpR5w3R8TlAxx/JbAyba/5e+DzwCsGOtckt9FOKNnNZJLEXu74Nky4RmAVJekoSa8DlgL/FhHrSC4wn5b0B2mZiZJem27yBeASSa+W1JSue9bjlJLeJKkjnd1BcsHpy5aJiN+TNL5+TNLY9KL8fuDfKvw2PwdcKem0NLajJb0pXXcH8AJJ75DUnL7OlPSH5XYUEXeRXGDnAT8FdqcNvq2SRilpbD8zLX5retxxkiYC8w8S578Br5f02nRfYySdI6lD0nOVNNIfCfQAe0jP5yDnekX63t6aNkS/BZiavmcbxpwIrFK+IWk3ybfQDwGfImkwhaRGsAm4V9Iu4Nukt0Mi4qdpuU+TNBp/n2d/6wQ4E/iJpD0kDc9XRPnfDryXpE1iM3AP8BXghkq8wX4R8TXgamBp+n5+AZyfrtsNnAfMJbnAP56WbRlkl58guR0zGngdyVNED5PUcK4Hjk7LXQV0p+u+DdxGchEfKM4tJA3bHwS2kfxt/pbk/30TSZL8FcmtrVeRNJ7DAOc6Iran8X2ApNF5AfC6iHhisPNl9U8RrsmZDUeS/gKYGxGvqnUsNry5RmA2TEg6TtKM9BbaC0m+mX+t1nHZ8OfGYrPh4wiSR1FPInn0cynwLzWNyEYE3xoyM2twvjVkZtbght2toQkTJsSJJ55Y6zDMzIaVNWvWPBER7eXWDbtEcOKJJ7J69epah2FmNqxIKv1V+DN8a8jMrME5EZiZNTgnAjOzBudEYGbW4JwIzMwaXMMkgu17eli3ZSfb9wzYR5eZWUMado+PHo7b125l4bIumpua6O3rY8mcacyaPvHgG5qZNYARXyPYvqeHhcu62Nfbx+6e/ezr7WPBsi7XDMzMUiM+EXTv2Etz04Fvs7mpie4de2sUkZlZfRnxiaBjXCu9fQcMZEVvXx8d41prFJGZWX0Z8YlgfFsLS+ZMY0xzE2NbRjOmuYklc6Yxvm2wAaPMzBpHQzQWz5o+kRmnTKB7x146xrU6CZiZZTREIoCkZuAEYGb2bIXeGpI0U9JGSZskLSqz/gRJ35HUJel7kjqKjMfMzJ6tsEQgaRRwDXA+MBW4UNLUkmKfBG6KiGnAVcA/FBWPmZmVV2SN4CxgU0RsjoinScZXnV1SZipwdzr93TLrzcysYEUmgonAlsx8d7osax3wZ+n0nwJjJY0v3ZGkeZJWS1q9bdu2QoI1M2tUtX589G+AV0n6GfAqYCvw+9JCEXFdRHRGRGd7e9mR1szM7DAV+dTQVmBSZr4jXfaMiPgVaY1AUhswJyJ2FhiTmZmVKLJGsAqYIukkSUcAc4Hl2QKSJkjqj+FK4IYC4zEzszIKSwQRsR+YD6wE7gdujYj1kq6SNCstdg6wUdIDwHOBjxUVj5mZlaeIqHUMh6SzszNWr15d6zDMzIYVSWsiorPculo3FpuZWY05EZiZNTgnAjOzBudEYGbW4JwIzMwanBOBmVmDcyIwM2twTgRmZg3OieAQbN/Tw7otO9m+p6fWoZiZVUzDDFU5VLev3crCZV00NzXR29fHkjnTmDW9tFdtM7PhxzWCHLbv6WHhsi729faxu2c/+3r7WLCsyzUDMxsRnAhy6N6xl+amA09Vc1MT3Tv21igiM7PKcSLIoWNcK719fQcs6+3ro2Nca40iMjOrHCeCHMa3tbBkzjTGNDcxtmU0Y5qbWDJnGuPbWmodmpnZkLmxOKdZ0ycy45QJdO/YS8e4VicBMxsxnAgOwfi2FicAMxtxCr01JGmmpI2SNklaVGb9ZEnflfQzSV2SLigyHjMze7bCEoGkUcA1wPnAVOBCSVNLin2YZAjLF5OMafwvRcVjZmblFVkjOAvYFBGbI+JpYCkwu6RMAEel00cDvyowHjMzK6PIRDAR2JKZ706XZX0UeLukbmAF8N5yO5I0T9JqSau3bdtWRKxmZg2r1o+PXgjcGBEdwAXAzZKeFVNEXBcRnRHR2d7eXvUgzcxGsiITwVZgUma+I12WdRlwK0BE/BgYA0woMCYzMytRZCJYBUyRdJKkI0gag5eXlHkUeDWApD8kSQS+92NmVkWFJYKI2A/MB1YC95M8HbRe0lWSZqXFPgBcLmkd8O/AxRERRcVkZmbPVugPyiJiBUkjcHbZ4sz0BmBGkTGYmdngat1YbGZmNeZEYGbW4JwIzMwanBOBmVmDcyIwM2twTgRmZg3OiaDKtu/pYd2WnR743szqhgemqaLb125l4bIumpua6O3rY8mcacyaXtoPn5lZdblGUCXb9/SwcFkX+3r72N2zn329fSxY1uWagZnVnBNBlXTv2Etz04Gnu7mpie4de2sUkZlZwomgSjrGtdLb13fAst6+PjrGtdYoIjOzhBNBlYxva2HJnGmMaW5ibMtoxjQ3sWTONMa3tdQ6NDNrcG4srqJZ0ycy45QJdO/YS8e4VicBM6sLTgRVNr6txQnAzOqKbw2ZmTU4JwIzswZXaCKQNFPSRkmbJC0qs/7Tktamrwck7SwyHjMze7bC2ggkjQKuAc4FuoFVkpano5IBEBF/nSn/XuDFRcVjZmblFVkjOAvYFBGbI+JpYCkwe5DyF5KMW2xmZlVUZCKYCGzJzHeny55F0gnAScDdA6yfJ2m1pNXbtm2reKBmZo2sXhqL5wK3RcTvy62MiOsiojMiOtvb26scmpnZyFZkItgKTMrMd6TLypmLbwuZmdVEkYlgFTBF0kmSjiC52C8vLSTpVGAc8OMCYzEzswEUlggiYj8wH1gJ3A/cGhHrJV0laVam6FxgaUREUbGYmdnACu1iIiJWACtKli0umf9okTGYmdngDlojkHSFpKOU+IKk+ySdV43gzMyseHluDV0aEbuA80ju5b8D+HihUZmZWdXkuTWk9N8LgJvT+/wabIN69HffWM+GX+2qdRh2GGZPn8hbz55c6zDMRqw8NYI1kr5FkghWShoL9B1kG7OK2PDYLm5fO9BTx2ZWCXlqBJcB04HNEfGUpGOBS4oNq/I+8vrTah2CHYa3XOunis2KlqdG8FJgY0TslPR24MPAk8WGZWZm1ZInEfwr8JSk04EPAA8BNxUalZmZVU2eRLA//bHXbOCfI+IaYGyxYZmZWbXkaSPYLelKksdGXyGpCWguNiwzM6uWPDWCtwA9JL8neJyk87hPFBqVmZlVzUETQXrxXwa0pIueAL5WZFBmZlY9ebqYuBy4Dbg2XTQR+HqRQZmZWfXkuTX0HmAGsAsgIh4E/qDIoMzMrHryJIKedMxhACSNBtxltJnZCJEnEXxf0geBVknnAl8FvlFsWGZmVi15EsEiYBvwc+BdJOMLfDjPziXNlLRR0iZJiwYo82ZJGyStl/SVvIGbmVll5PkdQStwQ0R8HkDSqHTZU4NtlJa7BjgX6AZWSVoeERsyZaYAVwIzImKHJLc9mJlVWZ4awXdILvz9WoFv59juLGBTRGxO2xiWkvw6Oety4JqI2AEQEb/JsV8zM6ugPIlgTETs6Z9Jp5+TY7uJwJbMfHe6LOsFwAsk/aekeyXNzLHfhrd9Tw/rtuxk+56eWodiZiNAnltDv5N0RkTcByDpj4G9FTz+FOAckl8s/0DSH0XEzmwhSfOAeQCTJzf2ACW3r93KwmVdNDc10dvXx5I505g1vTS/mpnll6dG8D7gq5J+KOke4BZgfo7ttgKTMvMd6bKsbmB5RPRGxMPAAySJ4QARcV1EdEZEZ3t7e45Dj0zb9/SwcFkX+3r72N2zn329fSxY1uWagZkNyUFrBBGxStKpwAvTRRsjojfHvlcBUySdRJIA5gJvLSnzdeBC4IuSJpDcKtqcN/hG071jL81NTezLDBDX3NRE9469jG9rGWRLM7OB5eli4j3AkRHxi4j4BdAm6S8Ptl1E7CepOawE7gduTcc7vkrSrLTYSmC7pA3Ad4G/jYjth/tmRrqOca309h04SmhvXx8d41oH2MLM7ODy3Bq6PHvPPn3C5/I8O4+IFRHxgog4OSI+li5bHBHL0+mIiPdHxNSI+KOIWHo4b6JRjG9rYcmcaYxpbmJsy2jGNDexZM401wbMbEjyNBaPkqR0cJr+3wccUWxYNpBZ0ycy45QJdO/YS8e4VicBMxuyPIngm8Atkvp7H31XusxqZHxbixOAmVVMnkSwkOTi/xfp/F3A9YVFZGZmVZXnqaE+kgHs/7X4cMzMrNoOmggkPUyZbqcj4vmFRGRmZlWV59ZQZ2Z6DPAm4NhiwrFq2b6nxw3OZgbkuzVU+lz//5W0BlhcTEhWNHdTYWZZeW4NnZGZbSKpIeSpSVgdynZT0f8L5QXLuphxygTXDMwaVJ4L+j9mpvcDjwBvLiQaK5y7qTCzUnluDf2PagRi1VHJbirczmA2MuTpa+gKSUcpcb2k+ySdV43grPIq1U3F7Wu3MuPqu3n79T9hxtV3s3xtaceyZjZc5Lk1dGlEfEbSa4HxwDuAm4FvFRqZFWao3VS4ncFsZMmTCJT+ewFwU9qDqAbbwOrfULqpcDuD2ciSp/fRNZK+RZIIVkoaC/QdZBsbwdwdttnIkicRXAYsAs6MiKdIeh69pNCorK65O2yzkSVvX0P3Zea3Ax48psG5O2yzkSNPjeCwSZopaaOkTZIWlVl/saRtktamr3cWGY9V1vi2Fk6fdIyTgNkwN2CNQNJJ6YDyhyUdwOYa4FySQepXSVoeERtKit4SEfMP9zhmZjY0g9UIbgOQ9J3D3PdZwKaI2BwRTwNLgdmHuS8zMyvIYG0ETZI+CLxA0vtLV0bEpw6y74nAlsx8N3B2mXJzJL0SeAD464jYUlpA0jxgHsDkyZMPclgzMzsUg9UI5gK/J0kWY8u8KuEbwIkRMY1k5LMvlSsUEddFRGdEdLa3t1fo0GZmBoPUCCJiI3C1pK6IuPMw9r0VmJSZ70iXZY+RffroemDJYRzHzMyGIM9TQz+S9ClJq9PXP0o6Osd2q4Apkk6SdARJDWN5toCk4zKzs4D7c0duZmYVkScR3ADsJul6+s3ALuCLB9soIvYD84GVJBf4W9PuKa6SNCst9leS1ktaB/wVcPGhvwUzMxuKPH0NnRwRczLzfydpbZ6dR8QKYEXJssWZ6SuBK/Psy8zMipGnRrBX0sv7ZyTNAPYWF5KZmVVTnhrBu4GbMu0CO4CLigvJGokHtzGrvTx9Da0DTpd0VDq/q/CorCHcvnYrC5d10dzURG9fH0vmTGPW9Im1Dsus4eTuaygidjkJWKVkB7fZ3bOffb19LFjWxfY9PbUOzazhFNrpnNlA+ge3yeof3MbMqsuJwGrCg9uY1Y88g9c/R9L/kvT5dH6KpNcVH5qNZB7cxqx+5Hlq6IvAGuCl6fxW4KvAHUUFZY3Bg9uY1Ye8Pyh7i6QLASLiKQ9eb5Uyvq3FCcCsxvK0ETwtqRUIAEknA360w8xshMhTI/go8E1gkqQvAzPw4PVmZiNGnh+UfUvSGuAlgIArIuKJwiMzM7OqyPPU0HciYntE/EdE3BERTwxh+EozM6szgw1ePwZ4DjBB0jiS2gDAUSTDUJqZ2Qgw2K2hdwHvA44neXy0PxHsAv654LjMzKxKBhuq8jPAZyS9NyI+W8WYzMysig7aRhARn5X0IklvlvTn/a88O5c0U9JGSZskLRqk3BxJIanzUII3M7OhO+hTQ5I+ApwDTCUZbex84B7gpoNsNwq4BjgX6AZWSVoeERtKyo0FrgB+chjxm5nZEOX5QdkbgVcDj0fEJcDpQJ7B688CNkXE5oh4GlgKzC5T7n8DVwP78oVsZmaVlGuoyojoA/ang9P8BpiUY7uJwJbMfDclTxtJOgOYFBH/MdiOJM2TtFrS6m3btuU4tJmZ5ZUnEayWdAzweZKnh+4DfjzUA0tqAj4FfOBgZSPiuojojIjO9vb2oR7azMwyBm0jSDuX+4eI2Al8TtI3gaMioivHvrdyYM2hI13WbyzwIuB7aR92zwOWS5oVEasP4T2YmdkQDFojiIggaSDun38kZxIAWAVMkXSSpCOAucDyzL6ejIgJEXFiRJwI3As4CZiZVVmeW0P3STrzUHccEfuB+cBK4H7g1ohYL+kqSbMOdX9mZlaMPL2Png28TdIvgd+R/MI4ImLawTaMiBVkahTpssUDlD0nRyxmZlZheRLBawuPwszMaiZPN9S/rEYgZmZWG3naCMzMbARzIjAza3BOBGZmDc6JwMyswTkRmJk1OCcCM2D7nh7WbdnJ9j09tQ7FrOry/I7AbES7fe1WFi7rormpid6+PpbMmcas6R6W2xqHawTW0Lbv6WHhsi729faxu2c/+3r7WLCsyzUDayhOBNbQunfspbnpwP8GzU1NdO/YW6OIzKrPicCGvaHc3+8Y10pvX98By3r7+ugY11qp8MzqnhOBDWu3r93KjKvv5u3X/4QZV9/N8rVbD75Rxvi2FpbMmcaY5ibGtoxmTHMTS+ZMY3xbyyHtx43NNpy5sdiGrez9/X0k3+oXLOtixikTDulCPmv6RGacMoHuHXvpGNd6yElgpDU2b9/Tc9jnwoYnJwIbtvrv7/cnAfjv+/uHegEb39ZyWBe9SiWjejHSkprl41tDNmzVw/39kdTY7CeoGlehiUDSTEkbJW2StKjM+ndL+rmktZLukTS1yHhsZKnU/f2hqIdkVCkjKanZoSns1pCkUcA1wLlAN7BK0vKI2JAp9pWI+FxafhbwKWBmUTHZyDPU+/tD1Z+MFpTcThmOt4VGUlKzQ1NkG8FZwKaI2AwgaSkwG3gmEUTErkz5I4EoMB4boQ73/n6l1DoZVcpISmp2aIpMBBOBLZn5bpLxjw8g6T3A+4EjgD8ptyNJ84B5AJMnT654oGZDVetkVCkjJanZoal5Y3FEXBMRJwMLgQ8PUOa6iOiMiM729vbqBmjWYMa3tXD6pGOcBBpIkYlgKzApM9+RLhvIUuANBcZjZmZlFJkIVgFTJJ0k6QhgLrA8W0DSlMzs/wQeLDAeMzMro7A2gojYL2k+sBIYBdwQEeslXQWsjojlwHxJrwF6gR3ARUXFY2Zm5RX6y+KIWAGsKFm2ODN9RZHHNzOzg6t5Y7GZmdWWE4FZnXAPplYr7nTOrA64szerJdcIzGrMnb1ZrTkRmNWYO3uzWnMiMKsxd/ZmteZEYFZjlexO2w3OdjjcWGxWByrR2ZsbnO1wORGY1Ymh9GA60obMtOryrSGzEcANzjYUTgRmI4AbnG0ofGvI6t6Gx3bxlmt/XOsw6l7HMa089MTvaAL60vm//PJ9tQ7LKmjq8UfxkdefVvH9OhFYXZvtxs7cxre1cHRrMz37+2gZ3cToUa7wWz5OBFbX3nr2ZN56tocnNSuSvzKYmTW4QhOBpJmSNkraJGlRmfXvl7RBUpek70g6och4zMzs2QpLBJJGAdcA5wNTgQslTS0p9jOgMyKmAbcBS4qKx8zMyiuyRnAWsCkiNkfE0ySD08/OFoiI70bEU+nsvSQD3JuZWRUVmQgmAlsy893psoFcBtxZYDxmZlZGXTw1JOntQCfwqgHWzwPmAUye7CdIzMwqqcgawVZgUma+I112AEmvAT4EzIqIsl0mRsR1EdEZEZ3t7e2FBGtm1qiKTASrgCmSTpJ0BDAXWJ4tIOnFwLUkSeA3BcZiZmYDKCwRRMR+YD6wErgfuDUi1ku6StKstNgngDbgq5LWSlo+wO7MzGqiEcZ4KLSNICJWACtKli3OTL+myOObmQ1Fo4zx4F8Wm1nFjYRv0dkxHnb37Gdfbx8LlnUN6/c0kLp4asjMRo6R8i26f4yH/oF+4L/HeBhpg/24RmBmFVNv36KHUjOptzEeiqxluUZgZhVTT9+ih1ozGd/WwpI501hQso9a1AaKrmU5EZhZxdTLt+hKjeE8a/pEZpwyge4de+kY11qTJFCN8ah9a8jMKqb/W/SY5ibGtoxmTHNTTb5FV3IM5/FtLZw+6ZiatQtUYzxq1wjMrKLq4Vt0vdRMKqEa78U1AjOruFp/i66Xmkm/oTT0VuO9KCIqtrNq6OzsjNWrV9c6DDMr2PY9PUOuVVRiH0NVqYbeob4XSWsiorPcOt8aMrO6U6mL5/i2lpo+81/Jht4i34tvDZlZXam33yIMRTUaeivBicDM6spwuXjmMVwarZ0IzKyuDJeLZx711mg9ELcRmFldqadf9FZCPTxOezBOBGZWd4bDxfNQ1LrR+mCcCMysLtX7xXMkKbSNQNJMSRslbZK0qMz6V0q6T9J+SW8sMhYzMyuvsEQgaRRwDXA+MBW4UNLUkmKPAhcDXykqDjMzG1yRt4bOAjZFxGYASUuB2cCG/gIR8Ui6rq/cDszMrHhF3hqaCGzJzHenyw6ZpHmSVktavW3btooEZ2ZmiWHxO4KIuC4iOiOis729vdbhmJmNKEXeGtoKTMrMd6TLhmTNmjVPSPrlUPcziAnAEwXuv1IcZ+UNl1gdZ2UNlzhhaLGeMNCKIhPBKmCKpJNIEsBc4K1D3WlEFFolkLR6oB766onjrLzhEqvjrKzhEicUF2tht4YiYj8wH1gJ3A/cGhHrJV0laRaApDMldQNvAq6VtL6oeMzMrLxCf1AWESuAFSXLFmemV5HcMjIzsxoZFo3FVXZdrQPIyXFW3nCJ1XFW1nCJEwqKddiNUGZmZpXlGoGZWYNzIjAza3ANlwgkTZL0XUkbJK2XdEWZMudIelLS2vS1uNy+qkHSI5J+nsaxusx6SfqntGO/Lkln1CDGF2bO1VpJuyS9r6RMzc6ppBsk/UbSLzLLjpV0l6QH03/HDbDtRWmZByVdVIM4PyHpv9K/7dckHTPAtoN+TqoQ50clbc38fS8YYNtBO6KsQpy3ZGJ8RNLaAbat5vkse02q6mc0IhrqBRwHnJFOjwUeAKaWlDkHuKPWsaaxPAJMGGT9BcCdgICXAD+pcbyjgMeBE+rlnAKvBM4AfpFZtgRYlE4vAq4us92xwOb033Hp9Lgqx3keMDqdvrpcnHk+J1WI86PA3+T4bDwEPB84AlhX+n+v6DhL1v8jsLgOzmfZa1I1P6MNVyOIiMci4r50ejfJbxwOqw+kOjEbuCkS9wLHSDquhvG8GngoIor89fchiYgfAL8tWTwb+FI6/SXgDWU2fS1wV0T8NiJ2AHcBM6sZZ0R8K5Lf5ADcSx08bj3A+czjmY4oI+JpoL8jykIMFqckAW8G/r2o4+c1yDWpap/RhksEWZJOBF4M/KTM6pdKWifpTkmnVTWwAwXwLUlrJM0rs75inftVyFwG/s9VL+cU4LkR8Vg6/Tjw3DJl6u3cXkpS+yvnYJ+Tapif3sK6YYDbGPV0Pl8B/DoiHhxgfU3OZ8k1qWqf0Y3qmLoAAARXSURBVIZNBJLagGXA+yJiV8nq+0hubZwOfBb4erXjy3h5RJxBMq7DeyS9soaxDErSEcAs4KtlVtfTOT1AJHXsun6OWtKHgP3AlwcoUuvPyb8CJwPTgcdIbrvUswsZvDZQ9fM52DWp6M9oQyYCSc0kJ/zLEfH/StdHxK6I2JNOrwCaJU2ocpj9sWxN//0N8DWS6nVWIZ37Habzgfsi4telK+rpnKZ+3X8LLf33N2XK1MW5lXQx8DrgbekF4VlyfE4KFRG/jojfR0Qf8PkBjl8v53M08GfALQOVqfb5HOCaVLXPaMMlgvTe4BeA+yPiUwOUeV5aDklnkZyn7dWL8pk4jpQ0tn+apOHwFyXFlgN/nj499BLgyUx1stoG/JZVL+c0YznQ/4TFRcDtZcqsBM6TNC691XFeuqxqJM0EFgCzIuKpAcrk+ZwUqqRd6k8HOP4zHVGmtce5JH+HansN8F8R0V1uZbXP5yDXpOp9RqvRKl5PL+DlJFWsLmBt+roAeDfw7rTMfGA9yVMN9wIvq1Gsz09jWJfG86F0eTZWkQwJ+hDwc6CzRrEeSXJhPzqzrC7OKUlyegzoJbmHehkwHvgO8CDwbeDYtGwncH1m20uBTenrkhrEuYnkHnD/Z/VzadnjgRWDfU6qHOfN6eevi+QCdlxpnOn8BSRPxTxUizjT5Tf2fy4zZWt5Pge6JlXtM+ouJszMGlzD3RoyM7MDORGYmTU4JwIzswbnRGBm1uCcCMzMGlyhQ1WaDSeSPgrsAY4CfhAR3x6g3BuAByJiQxXDMyuMawRmJSJi8UBJIPUGkt4hzUYEJwJraJI+JOkBSfcAL0yX3Sjpjen0x9N+4rskfVLSy0j6U/pE2lf9yZIul7Qq7VBvmaTnZPbzT5J+JGlz/z7TdQvT/u7XSfp4uuxkSd9MOzr7oaRTq35CrCH51pA1LEl/TNLNwXSS/wv3AWsy68eTdJdwakSEpGMiYqek5SRjK9yWltsZEZ9Pp/+e5Je2n013cxzJL0dPJfnF7W2SzifpYvjsiHhK0rFp2etIfvH6oKSzgX8B/qTAU2AGOBFYY3sF8LVI+/BJL/BZTwL7gC9IugO4Y4D9vChNAMcAbRzY18vXI+mIbYOk/m6EXwN8sf+4EfHbtOfJlwFfTbtkAmgZ0rszy8mJwGwAEbE/7SDv1cAbSfpLKvcN/UbgDRGxLu0p9JzMup7MtBhYE7AzIqYPJWazw+E2AmtkPwDeIKk17W3y9dmV6bf0oyPpNvuvgdPTVbtJhhTsNxZ4LO1K+G05jnsXcEmmLeHYSPqff1jSm9JlknT6YDsxqxQnAmtYkQwPeAtJL5N3knSTnDUWuENSF3AP8P50+VLgbyX9TNLJwP8iGVHqP4H/ynHcb5K0F6xWMnj636Sr3gZcJqm/18vChnE0y3Lvo2ZmDc41AjOzBudEYGbW4JwIzMwanBOBmVmDcyIwM2twTgRmZg3OicDMrMH9f4pbCUzrGxdnAAAAAElFTkSuQmCC\n",
                "text/plain": "<Figure size 432x288 with 1 Axes>"
              },
              {
                "output_type": "display_data",
                "metadata": {
                  "tags": [],
                  "needs_background": "light"
                },
                "image/png": "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\n",
                "text/plain": "<Figure size 432x288 with 1 Axes>"
              }
            ],
            "_view_module": "@jupyter-widgets/output",
            "_model_module_version": "1.0.0",
            "_view_count": null,
            "_view_module_version": "1.0.0",
            "layout": "IPY_MODEL_610d61e16cb1456f9a3dbb2e60baa58f",
            "_model_module": "@jupyter-widgets/output"
          }
        },
        "6127f8904993430fb846c8346747dd8c": {
          "model_module": "@jupyter-widgets/controls",
          "model_name": "SliderStyleModel",
          "state": {
            "_view_name": "StyleView",
            "handle_color": null,
            "_model_name": "SliderStyleModel",
            "description_width": "",
            "_view_module": "@jupyter-widgets/base",
            "_model_module_version": "1.5.0",
            "_view_count": null,
            "_view_module_version": "1.2.0",
            "_model_module": "@jupyter-widgets/controls"
          }
        },
        "a4f1f31699ae4056b7128b07ceaae49d": {
          "model_module": "@jupyter-widgets/base",
          "model_name": "LayoutModel",
          "state": {
            "_view_name": "LayoutView",
            "grid_template_rows": null,
            "right": null,
            "justify_content": null,
            "_view_module": "@jupyter-widgets/base",
            "overflow": null,
            "_model_module_version": "1.2.0",
            "_view_count": null,
            "flex_flow": null,
            "width": null,
            "min_width": null,
            "border": null,
            "align_items": null,
            "bottom": null,
            "_model_module": "@jupyter-widgets/base",
            "top": null,
            "grid_column": null,
            "overflow_y": null,
            "overflow_x": null,
            "grid_auto_flow": null,
            "grid_area": null,
            "grid_template_columns": null,
            "flex": null,
            "_model_name": "LayoutModel",
            "justify_items": null,
            "grid_row": null,
            "max_height": null,
            "align_content": null,
            "visibility": null,
            "align_self": null,
            "height": null,
            "min_height": null,
            "padding": null,
            "grid_auto_rows": null,
            "grid_gap": null,
            "max_width": null,
            "order": null,
            "_view_module_version": "1.2.0",
            "grid_template_areas": null,
            "object_position": null,
            "object_fit": null,
            "grid_auto_columns": null,
            "margin": null,
            "display": null,
            "left": null
          }
        },
        "bcf7b3fa1c12400882a7fcae05a54c78": {
          "model_module": "@jupyter-widgets/controls",
          "model_name": "SliderStyleModel",
          "state": {
            "_view_name": "StyleView",
            "handle_color": null,
            "_model_name": "SliderStyleModel",
            "description_width": "",
            "_view_module": "@jupyter-widgets/base",
            "_model_module_version": "1.5.0",
            "_view_count": null,
            "_view_module_version": "1.2.0",
            "_model_module": "@jupyter-widgets/controls"
          }
        },
        "423806b1fc4946ecb4fa2fcc3f57858e": {
          "model_module": "@jupyter-widgets/base",
          "model_name": "LayoutModel",
          "state": {
            "_view_name": "LayoutView",
            "grid_template_rows": null,
            "right": null,
            "justify_content": null,
            "_view_module": "@jupyter-widgets/base",
            "overflow": null,
            "_model_module_version": "1.2.0",
            "_view_count": null,
            "flex_flow": null,
            "width": null,
            "min_width": null,
            "border": null,
            "align_items": null,
            "bottom": null,
            "_model_module": "@jupyter-widgets/base",
            "top": null,
            "grid_column": null,
            "overflow_y": null,
            "overflow_x": null,
            "grid_auto_flow": null,
            "grid_area": null,
            "grid_template_columns": null,
            "flex": null,
            "_model_name": "LayoutModel",
            "justify_items": null,
            "grid_row": null,
            "max_height": null,
            "align_content": null,
            "visibility": null,
            "align_self": null,
            "height": null,
            "min_height": null,
            "padding": null,
            "grid_auto_rows": null,
            "grid_gap": null,
            "max_width": null,
            "order": null,
            "_view_module_version": "1.2.0",
            "grid_template_areas": null,
            "object_position": null,
            "object_fit": null,
            "grid_auto_columns": null,
            "margin": null,
            "display": null,
            "left": null
          }
        },
        "610d61e16cb1456f9a3dbb2e60baa58f": {
          "model_module": "@jupyter-widgets/base",
          "model_name": "LayoutModel",
          "state": {
            "_view_name": "LayoutView",
            "grid_template_rows": null,
            "right": null,
            "justify_content": null,
            "_view_module": "@jupyter-widgets/base",
            "overflow": null,
            "_model_module_version": "1.2.0",
            "_view_count": null,
            "flex_flow": null,
            "width": null,
            "min_width": null,
            "border": null,
            "align_items": null,
            "bottom": null,
            "_model_module": "@jupyter-widgets/base",
            "top": null,
            "grid_column": null,
            "overflow_y": null,
            "overflow_x": null,
            "grid_auto_flow": null,
            "grid_area": null,
            "grid_template_columns": null,
            "flex": null,
            "_model_name": "LayoutModel",
            "justify_items": null,
            "grid_row": null,
            "max_height": null,
            "align_content": null,
            "visibility": null,
            "align_self": null,
            "height": null,
            "min_height": null,
            "padding": null,
            "grid_auto_rows": null,
            "grid_gap": null,
            "max_width": null,
            "order": null,
            "_view_module_version": "1.2.0",
            "grid_template_areas": null,
            "object_position": null,
            "object_fit": null,
            "grid_auto_columns": null,
            "margin": null,
            "display": null,
            "left": null
          }
        }
      }
    }
  },
  "cells": [
    {
      "cell_type": "markdown",
      "metadata": {
        "id": "view-in-github",
        "colab_type": "text"
      },
      "source": [
        "<a href=\"https://colab.research.google.com/github/John-G-Thomas/DS-Unit-2-Kaggle-Challenge/blob/master/module2-random-forests/LS_DS_222_assignment.ipynb\" target=\"_parent\"><img src=\"https://colab.research.google.com/assets/colab-badge.svg\" alt=\"Open In Colab\"/></a>"
      ]
    },
    {
      "cell_type": "markdown",
      "metadata": {
        "id": "HXJrb7bGQGZb",
        "colab_type": "text"
      },
      "source": [
        "Lambda School Data Science\n",
        "\n",
        "*Unit 2, Sprint 2, Module 2*\n",
        "\n",
        "---"
      ]
    },
    {
      "cell_type": "markdown",
      "metadata": {
        "colab_type": "text",
        "id": "7IXUfiQ2UKj6"
      },
      "source": [
        "# Random Forests\n",
        "\n",
        "## Assignment\n",
        "- [ ] Read [“Adopting a Hypothesis-Driven Workflow”](http://archive.is/Nu3EI), a blog post by a Lambda DS student about the Tanzania Waterpumps challenge.\n",
        "- [ ] Continue to participate in our Kaggle challenge.\n",
        "- [ ] Define a function to wrangle train, validate, and test sets in the same way. Clean outliers and engineer features.\n",
        "- [ ] Try Ordinal Encoding.\n",
        "- [ ] Try a Random Forest Classifier.\n",
        "- [ ] Submit your predictions to our Kaggle competition. (Go to our Kaggle InClass competition webpage. Use the blue **Submit Predictions** button to upload your CSV file. Or you can use the Kaggle API to submit your predictions.)\n",
        "- [ ] Commit your notebook to your fork of the GitHub repo.\n",
        "\n",
        "## Stretch Goals\n",
        "\n",
        "### Doing\n",
        "- [ ] Add your own stretch goal(s) !\n",
        "- [ ] Do more exploratory data analysis, data cleaning, feature engineering, and feature selection.\n",
        "- [ ] Try other [categorical encodings](https://contrib.scikit-learn.org/category_encoders/).\n",
        "- [ ] Get and plot your feature importances.\n",
        "- [ ] Make visualizations and share on Slack.\n",
        "\n",
        "### Reading\n",
        "\n",
        "Top recommendations in _**bold italic:**_\n",
        "\n",
        "#### Decision Trees\n",
        "- A Visual Introduction to Machine Learning, [Part 1: A Decision Tree](http://www.r2d3.us/visual-intro-to-machine-learning-part-1/),  and _**[Part 2: Bias and Variance](http://www.r2d3.us/visual-intro-to-machine-learning-part-2/)**_\n",
        "- [Decision Trees: Advantages & Disadvantages](https://christophm.github.io/interpretable-ml-book/tree.html#advantages-2)\n",
        "- [How a Russian mathematician constructed a decision tree — by hand — to solve a medical problem](http://fastml.com/how-a-russian-mathematician-constructed-a-decision-tree-by-hand-to-solve-a-medical-problem/)\n",
        "- [How decision trees work](https://brohrer.github.io/how_decision_trees_work.html)\n",
        "- [Let’s Write a Decision Tree Classifier from Scratch](https://www.youtube.com/watch?v=LDRbO9a6XPU)\n",
        "\n",
        "#### Random Forests\n",
        "- [_An Introduction to Statistical Learning_](http://www-bcf.usc.edu/~gareth/ISL/), Chapter 8: Tree-Based Methods\n",
        "- [Coloring with Random Forests](http://structuringtheunstructured.blogspot.com/2017/11/coloring-with-random-forests.html)\n",
        "- _**[Random Forests for Complete Beginners: The definitive guide to Random Forests and Decision Trees](https://victorzhou.com/blog/intro-to-random-forests/)**_\n",
        "\n",
        "#### Categorical encoding for trees\n",
        "- [Are categorical variables getting lost in your random forests?](https://roamanalytics.com/2016/10/28/are-categorical-variables-getting-lost-in-your-random-forests/)\n",
        "- [Beyond One-Hot: An Exploration of Categorical Variables](http://www.willmcginnis.com/2015/11/29/beyond-one-hot-an-exploration-of-categorical-variables/)\n",
        "- _**[Categorical Features and Encoding in Decision Trees](https://medium.com/data-design/visiting-categorical-features-and-encoding-in-decision-trees-53400fa65931)**_\n",
        "- _**[Coursera — How to Win a Data Science Competition: Learn from Top Kagglers — Concept of mean encoding](https://www.coursera.org/lecture/competitive-data-science/concept-of-mean-encoding-b5Gxv)**_\n",
        "- [Mean (likelihood) encodings: a comprehensive study](https://www.kaggle.com/vprokopev/mean-likelihood-encodings-a-comprehensive-study)\n",
        "- [The Mechanics of Machine Learning, Chapter 6: Categorically Speaking](https://mlbook.explained.ai/catvars.html)\n",
        "\n",
        "#### Imposter Syndrome\n",
        "- [Effort Shock and Reward Shock (How The Karate Kid Ruined The Modern World)](http://www.tempobook.com/2014/07/09/effort-shock-and-reward-shock/)\n",
        "- [How to manage impostor syndrome in data science](https://towardsdatascience.com/how-to-manage-impostor-syndrome-in-data-science-ad814809f068)\n",
        "- [\"I am not a real data scientist\"](https://brohrer.github.io/imposter_syndrome.html)\n",
        "- _**[Imposter Syndrome in Data Science](https://caitlinhudon.com/2018/01/19/imposter-syndrome-in-data-science/)**_\n",
        "\n",
        "\n",
        "### More Categorical Encodings\n",
        "\n",
        "**1.** The article **[Categorical Features and Encoding in Decision Trees](https://medium.com/data-design/visiting-categorical-features-and-encoding-in-decision-trees-53400fa65931)** mentions 4 encodings:\n",
        "\n",
        "- **\"Categorical Encoding\":** This means using the raw categorical values as-is, not encoded. Scikit-learn doesn't support this, but some tree algorithm implementations do. For example, [Catboost](https://catboost.ai/), or R's [rpart](https://cran.r-project.org/web/packages/rpart/index.html) package.\n",
        "- **Numeric Encoding:** Synonymous with Label Encoding, or \"Ordinal\" Encoding with random order. We can use [category_encoders.OrdinalEncoder](https://contrib.scikit-learn.org/category_encoders/ordinal.html).\n",
        "- **One-Hot Encoding:** We can use [category_encoders.OneHotEncoder](https://contrib.scikit-learn.org/category_encoders/onehot.html).\n",
        "- **Binary Encoding:** We can use [category_encoders.BinaryEncoder](https://contrib.scikit-learn.org/category_encoders/binary.html).\n",
        "\n",
        "\n",
        "**2.** The short video \n",
        "**[Coursera — How to Win a Data Science Competition: Learn from Top Kagglers — Concept of mean encoding](https://www.coursera.org/lecture/competitive-data-science/concept-of-mean-encoding-b5Gxv)** introduces an interesting idea: use both X _and_ y to encode categoricals.\n",
        "\n",
        "Category Encoders has multiple implementations of this general concept:\n",
        "\n",
        "- [CatBoost Encoder](https://contrib.scikit-learn.org/category_encoders/catboost.html)\n",
        "- [Generalized Linear Mixed Model Encoder](https://contrib.scikit-learn.org/category_encoders/glmm.html)\n",
        "- [James-Stein Encoder](https://contrib.scikit-learn.org/category_encoders/jamesstein.html)\n",
        "- [Leave One Out](https://contrib.scikit-learn.org/category_encoders/leaveoneout.html)\n",
        "- [M-estimate](https://contrib.scikit-learn.org/category_encoders/mestimate.html)\n",
        "- [Target Encoder](https://contrib.scikit-learn.org/category_encoders/targetencoder.html)\n",
        "- [Weight of Evidence](https://contrib.scikit-learn.org/category_encoders/woe.html)\n",
        "\n",
        "Category Encoder's mean encoding implementations work for regression problems or binary classification problems. \n",
        "\n",
        "For multi-class classification problems, you will need to temporarily reformulate it as binary classification. For example:\n",
        "\n",
        "```python\n",
        "encoder = ce.TargetEncoder(min_samples_leaf=..., smoothing=...) # Both parameters > 1 to avoid overfitting\n",
        "X_train_encoded = encoder.fit_transform(X_train, y_train=='functional')\n",
        "X_val_encoded = encoder.transform(X_train, y_val=='functional')\n",
        "```\n",
        "\n",
        "For this reason, mean encoding won't work well within pipelines for multi-class classification problems.\n",
        "\n",
        "**3.** The **[dirty_cat](https://dirty-cat.github.io/stable/)** library has a Target Encoder implementation that works with multi-class classification.\n",
        "\n",
        "```python\n",
        " dirty_cat.TargetEncoder(clf_type='multiclass-clf')\n",
        "```\n",
        "It also implements an interesting idea called [\"Similarity Encoder\" for dirty categories](https://www.slideshare.net/GaelVaroquaux/machine-learning-on-non-curated-data-154905090).\n",
        "\n",
        "However, it seems like dirty_cat doesn't handle missing values or unknown categories as well as category_encoders does. And you may need to use it with one column at a time, instead of with your whole dataframe.\n",
        "\n",
        "**4. [Embeddings](https://www.kaggle.com/colinmorris/embedding-layers)** can work well with sparse / high cardinality categoricals.\n",
        "\n",
        "_**I hope it’s not too frustrating or confusing that there’s not one “canonical” way to encode categoricals. It’s an active area of research and experimentation — maybe you can make your own contributions!**_"
      ]
    },
    {
      "cell_type": "markdown",
      "metadata": {
        "id": "eQKwQdSsQGZd",
        "colab_type": "text"
      },
      "source": [
        "### Setup\n",
        "\n",
        "You can work locally (follow the [local setup instructions](https://lambdaschool.github.io/ds/unit2/local/)) or on Colab (run the code cell below)."
      ]
    },
    {
      "cell_type": "code",
      "metadata": {
        "colab_type": "code",
        "id": "o9eSnDYhUGD7",
        "colab": {}
      },
      "source": [
        "%%capture\n",
        "import sys\n",
        "\n",
        "# If you're on Colab:\n",
        "if 'google.colab' in sys.modules:\n",
        "    DATA_PATH = 'https://raw.githubusercontent.com/LambdaSchool/DS-Unit-2-Kaggle-Challenge/master/data/'\n",
        "    !pip install category_encoders==2.*\n",
        "\n",
        "# If you're working locally:\n",
        "else:\n",
        "    DATA_PATH = '../data/'"
      ],
      "execution_count": 1,
      "outputs": []
    },
    {
      "cell_type": "code",
      "metadata": {
        "colab_type": "code",
        "id": "QJBD4ruICm1m",
        "colab": {
          "base_uri": "https://localhost:8080/",
          "height": 34
        },
        "outputId": "330da4f2-bae6-4933-de4d-ecb9b04cac13"
      },
      "source": [
        "import pandas as pd\n",
        "from sklearn.model_selection import train_test_split\n",
        "\n",
        "train = pd.merge(pd.read_csv(DATA_PATH+'waterpumps/train_features.csv'), \n",
        "                 pd.read_csv(DATA_PATH+'waterpumps/train_labels.csv'))\n",
        "test = pd.read_csv(DATA_PATH+'waterpumps/test_features.csv')\n",
        "sample_submission = pd.read_csv(DATA_PATH+'waterpumps/sample_submission.csv')\n",
        "\n",
        "train.shape, test.shape"
      ],
      "execution_count": 2,
      "outputs": [
        {
          "output_type": "execute_result",
          "data": {
            "text/plain": [
              "((59400, 41), (14358, 40))"
            ]
          },
          "metadata": {
            "tags": []
          },
          "execution_count": 2
        }
      ]
    },
    {
      "cell_type": "markdown",
      "metadata": {
        "id": "NHpYR-8FEMXq",
        "colab_type": "text"
      },
      "source": [
        "### 1) Define a function to wrangle train, validate, and test sets in the same way. Clean outliers and engineer features."
      ]
    },
    {
      "cell_type": "markdown",
      "metadata": {
        "id": "r6reKHpCEkGn",
        "colab_type": "text"
      },
      "source": [
        "- imports"
      ]
    },
    {
      "cell_type": "code",
      "metadata": {
        "id": "M8q6F-H5QGZl",
        "colab_type": "code",
        "colab": {
          "base_uri": "https://localhost:8080/",
          "height": 70
        },
        "outputId": "e2d6dad6-cb07-4e95-9170-1eac8f9ab152"
      },
      "source": [
        "import numpy as np\n",
        "import category_encoders as ce\n",
        "from sklearn.impute import SimpleImputer\n",
        "from sklearn.tree import DecisionTreeClassifier\n",
        "from sklearn.pipeline import Pipeline, make_pipeline\n",
        "from sklearn.preprocessing import StandardScaler\n",
        "import matplotlib.pyplot as plt\n",
        "import category_encoders as ce\n",
        "from sklearn.ensemble import RandomForestClassifier\n",
        "from sklearn.impute import SimpleImputer\n",
        "from sklearn.decomposition import PCA\n",
        "from pandas_profiling import ProfileReport\n",
        "import plotly.express as px\n",
        "from category_encoders import OneHotEncoder, OrdinalEncoder\n",
        "from sklearn.feature_selection import SelectKBest"
      ],
      "execution_count": 3,
      "outputs": [
        {
          "output_type": "stream",
          "text": [
            "/usr/local/lib/python3.6/dist-packages/statsmodels/tools/_testing.py:19: FutureWarning: pandas.util.testing is deprecated. Use the functions in the public API at pandas.testing instead.\n",
            "  import pandas.util.testing as tm\n"
          ],
          "name": "stderr"
        }
      ]
    },
    {
      "cell_type": "markdown",
      "metadata": {
        "id": "Vk1ygI8fElWf",
        "colab_type": "text"
      },
      "source": [
        "- split to train and val"
      ]
    },
    {
      "cell_type": "code",
      "metadata": {
        "id": "fWhVu_Nwxvci",
        "colab_type": "code",
        "colab": {}
      },
      "source": [
        "train, val = train_test_split(train, train_size=0.80, test_size=0.20, \n",
        "                              stratify=train['status_group'], random_state=42)"
      ],
      "execution_count": 4,
      "outputs": []
    },
    {
      "cell_type": "code",
      "metadata": {
        "id": "vh1LlB0AE4dU",
        "colab_type": "code",
        "colab": {
          "base_uri": "https://localhost:8080/",
          "height": 34
        },
        "outputId": "ceab33f6-4ca9-4f5f-e0e1-161e11d26e78"
      },
      "source": [
        "train.shape, val.shape, test.shape"
      ],
      "execution_count": 5,
      "outputs": [
        {
          "output_type": "execute_result",
          "data": {
            "text/plain": [
              "((47520, 41), (11880, 41), (14358, 40))"
            ]
          },
          "metadata": {
            "tags": []
          },
          "execution_count": 5
        }
      ]
    },
    {
      "cell_type": "code",
      "metadata": {
        "id": "cXsJPwoEFOBh",
        "colab_type": "code",
        "colab": {
          "base_uri": "https://localhost:8080/",
          "height": 823
        },
        "outputId": "cd61020a-54e9-4d45-cb7a-ce11cf915535"
      },
      "source": [
        "train.info()"
      ],
      "execution_count": 6,
      "outputs": [
        {
          "output_type": "stream",
          "text": [
            "<class 'pandas.core.frame.DataFrame'>\n",
            "Int64Index: 47520 entries, 43360 to 49783\n",
            "Data columns (total 41 columns):\n",
            " #   Column                 Non-Null Count  Dtype  \n",
            "---  ------                 --------------  -----  \n",
            " 0   id                     47520 non-null  int64  \n",
            " 1   amount_tsh             47520 non-null  float64\n",
            " 2   date_recorded          47520 non-null  object \n",
            " 3   funder                 44616 non-null  object \n",
            " 4   gps_height             47520 non-null  int64  \n",
            " 5   installer              44603 non-null  object \n",
            " 6   longitude              47520 non-null  float64\n",
            " 7   latitude               47520 non-null  float64\n",
            " 8   wpt_name               47520 non-null  object \n",
            " 9   num_private            47520 non-null  int64  \n",
            " 10  basin                  47520 non-null  object \n",
            " 11  subvillage             47234 non-null  object \n",
            " 12  region                 47520 non-null  object \n",
            " 13  region_code            47520 non-null  int64  \n",
            " 14  district_code          47520 non-null  int64  \n",
            " 15  lga                    47520 non-null  object \n",
            " 16  ward                   47520 non-null  object \n",
            " 17  population             47520 non-null  int64  \n",
            " 18  public_meeting         44876 non-null  object \n",
            " 19  recorded_by            47520 non-null  object \n",
            " 20  scheme_management      44392 non-null  object \n",
            " 21  scheme_name            24988 non-null  object \n",
            " 22  permit                 45077 non-null  object \n",
            " 23  construction_year      47520 non-null  int64  \n",
            " 24  extraction_type        47520 non-null  object \n",
            " 25  extraction_type_group  47520 non-null  object \n",
            " 26  extraction_type_class  47520 non-null  object \n",
            " 27  management             47520 non-null  object \n",
            " 28  management_group       47520 non-null  object \n",
            " 29  payment                47520 non-null  object \n",
            " 30  payment_type           47520 non-null  object \n",
            " 31  water_quality          47520 non-null  object \n",
            " 32  quality_group          47520 non-null  object \n",
            " 33  quantity               47520 non-null  object \n",
            " 34  quantity_group         47520 non-null  object \n",
            " 35  source                 47520 non-null  object \n",
            " 36  source_type            47520 non-null  object \n",
            " 37  source_class           47520 non-null  object \n",
            " 38  waterpoint_type        47520 non-null  object \n",
            " 39  waterpoint_type_group  47520 non-null  object \n",
            " 40  status_group           47520 non-null  object \n",
            "dtypes: float64(3), int64(7), object(31)\n",
            "memory usage: 15.2+ MB\n"
          ],
          "name": "stdout"
        }
      ]
    },
    {
      "cell_type": "markdown",
      "metadata": {
        "id": "0SeAP94OGREt",
        "colab_type": "text"
      },
      "source": [
        "- Use profile from assignment 1 to figure out the zeros to replace for null values"
      ]
    },
    {
      "cell_type": "code",
      "metadata": {
        "id": "ZY_S1Qs1E5hs",
        "colab_type": "code",
        "colab": {}
      },
      "source": [
        "import numpy as np\n",
        "def clean(X):\n",
        "    X = X.copy()   \n",
        "    # anything around zero needs to be 0 to remove\n",
        "    X['latitude'] = X['latitude'].replace(-2e-08, 0)\n",
        "    # drop duplicates\n",
        "    duplicates = ['quantity_group', 'payment_type']\n",
        "    X = X.drop(columns=duplicates)\n",
        "    # replace the zeros with nulls\n",
        "    cols_with_zeros = ['longitude', 'latitude', 'construction_year', \n",
        "                       'gps_height', 'population']\n",
        "    for col in cols_with_zeros:\n",
        "        X[col] = X[col].replace(0, np.nan)        \n",
        "    # convert date_recorded to datetime\n",
        "    X['date_recorded'] = pd.to_datetime(X['date_recorded'], infer_datetime_format=True)\n",
        "    # Get more precise dates to increase accuracy \n",
        "    X['year_recorded'] = X['date_recorded'].dt.year\n",
        "    X['month_recorded'] = X['date_recorded'].dt.month\n",
        "    X['day_recorded'] = X['date_recorded'].dt.day\n",
        "    X = X.drop(columns='date_recorded')\n",
        "    # Now you can get another important feature based on age since construction\n",
        "    X['years'] = X['year_recorded'] - X['construction_year']\n",
        "    X['age'] = X['years'].isnull()\n",
        "    # Drop High cardinality\n",
        "    X = X.drop(['scheme_name','funder','installer'], axis=1)\n",
        "    # drop low variance column\n",
        "    X = X.drop(['recorded_by'], axis=1)\n",
        "    # return the cleaned dataframe\n",
        "    return X\n",
        "train = clean(train)\n",
        "val = clean(val)\n",
        "test = clean(test)"
      ],
      "execution_count": 7,
      "outputs": []
    },
    {
      "cell_type": "code",
      "metadata": {
        "id": "Tj4khNYSITlr",
        "colab_type": "code",
        "colab": {
          "base_uri": "https://localhost:8080/",
          "height": 34
        },
        "outputId": "28c77117-256d-4aee-819c-fe573a8974c3"
      },
      "source": [
        "train.shape, val.shape, test.shape"
      ],
      "execution_count": 8,
      "outputs": [
        {
          "output_type": "execute_result",
          "data": {
            "text/plain": [
              "((47520, 39), (11880, 39), (14358, 38))"
            ]
          },
          "metadata": {
            "tags": []
          },
          "execution_count": 8
        }
      ]
    },
    {
      "cell_type": "markdown",
      "metadata": {
        "id": "tDqxmC2LIpOH",
        "colab_type": "text"
      },
      "source": [
        "- Find Features"
      ]
    },
    {
      "cell_type": "code",
      "metadata": {
        "id": "UInebiP0Iq_g",
        "colab_type": "code",
        "colab": {
          "base_uri": "https://localhost:8080/",
          "height": 54
        },
        "outputId": "d71a90bf-077c-47d2-8a90-e55c3dd4c506"
      },
      "source": [
        "# the status_group column is the target\n",
        "target = 'status_group'\n",
        "\n",
        "# get a dataframe with all train columns except the target & id\n",
        "train_features = train.drop(columns=[target, 'id'])\n",
        "\n",
        "# get a list of the numeric features\n",
        "numeric_features = train_features.select_dtypes(include='number').columns.tolist()\n",
        "\n",
        "# get a series with the cardinality of the nonnumeric features\n",
        "cardinality = train_features.select_dtypes(exclude='number').nunique()\n",
        "\n",
        "# get a list of all categorical features with cardinality <= 50\n",
        "categorical_features = cardinality[cardinality <= 50].index.tolist()\n",
        "\n",
        "# combine the lists \n",
        "features = numeric_features + categorical_features\n",
        "print(features)"
      ],
      "execution_count": 9,
      "outputs": [
        {
          "output_type": "stream",
          "text": [
            "['amount_tsh', 'gps_height', 'longitude', 'latitude', 'num_private', 'region_code', 'district_code', 'population', 'construction_year', 'year_recorded', 'month_recorded', 'day_recorded', 'years', 'basin', 'region', 'public_meeting', 'scheme_management', 'permit', 'extraction_type', 'extraction_type_group', 'extraction_type_class', 'management', 'management_group', 'payment', 'water_quality', 'quality_group', 'quantity', 'source', 'source_type', 'source_class', 'waterpoint_type', 'waterpoint_type_group', 'age']\n"
          ],
          "name": "stdout"
        }
      ]
    },
    {
      "cell_type": "code",
      "metadata": {
        "id": "vD4piqfgJfSi",
        "colab_type": "code",
        "colab": {}
      },
      "source": [
        "#Spilt to X and Y for train and val"
      ],
      "execution_count": 10,
      "outputs": []
    },
    {
      "cell_type": "code",
      "metadata": {
        "id": "Cwzlf5_-Ji8V",
        "colab_type": "code",
        "colab": {}
      },
      "source": [
        "# Arrange data into X features matrix and y target vector \n",
        "X_train = train[features]\n",
        "y_train = train[target]\n",
        "X_val = val[features]\n",
        "y_val = val[target]\n",
        "X_test = test[features]"
      ],
      "execution_count": 11,
      "outputs": []
    },
    {
      "cell_type": "code",
      "metadata": {
        "id": "0qXc3_0JJqBI",
        "colab_type": "code",
        "colab": {
          "base_uri": "https://localhost:8080/",
          "height": 101
        },
        "outputId": "6c6e8b00-41f0-49c9-e971-b928ad02e6f6"
      },
      "source": [
        "print(X_train.shape)\n",
        "print(y_train.shape)\n",
        "print(X_val.shape)\n",
        "print(y_val.shape)\n",
        "print(X_test.shape)"
      ],
      "execution_count": 12,
      "outputs": [
        {
          "output_type": "stream",
          "text": [
            "(47520, 33)\n",
            "(47520,)\n",
            "(11880, 33)\n",
            "(11880,)\n",
            "(14358, 33)\n"
          ],
          "name": "stdout"
        }
      ]
    },
    {
      "cell_type": "markdown",
      "metadata": {
        "id": "R3WeDJSuEVdL",
        "colab_type": "text"
      },
      "source": [
        "### 2) Try Ordinal Encoding. - Try a Random Forest Classifier."
      ]
    },
    {
      "cell_type": "code",
      "metadata": {
        "id": "TNFEwcipEcRB",
        "colab_type": "code",
        "colab": {}
      },
      "source": [
        "putts = pd.DataFrame(\n",
        "    columns=['distance', 'tries', 'successes'], \n",
        "    data = [[2, 1443, 1346],\n",
        "            [3, 694, 577],\n",
        "            [4, 455, 337],\n",
        "            [5, 353, 208],\n",
        "            [6, 272, 149],\n",
        "            [7, 256, 136],\n",
        "            [8, 240, 111],\n",
        "            [9, 217, 69],\n",
        "            [10, 200, 67],\n",
        "            [11, 237, 75],\n",
        "            [12, 202, 52],\n",
        "            [13, 192, 46],\n",
        "            [14, 174, 54],\n",
        "            [15, 167, 28],\n",
        "            [16, 201, 27],\n",
        "            [17, 195, 31],\n",
        "            [18, 191, 33],\n",
        "            [19, 147, 20],\n",
        "            [20, 152, 24]]\n",
        ")\n",
        "\n",
        "putts['rate of success'] = putts['successes'] / putts['tries']\n",
        "putts_X = putts[['distance']]\n",
        "putts_y = putts['rate of success']"
      ],
      "execution_count": 13,
      "outputs": []
    },
    {
      "cell_type": "code",
      "metadata": {
        "id": "Q3GUrdjJLuoZ",
        "colab_type": "code",
        "colab": {
          "base_uri": "https://localhost:8080/",
          "height": 637,
          "referenced_widgets": [
            "833f957afd7c49bb8df9cc7aa814e327",
            "2bf12ac9f2614d9aaf2fc240d4f41994",
            "afedc40f2abe40aab55d48cc15eb5c00",
            "81cebee055844451aa7cc5fdbb610337",
            "e0c7b0dc6db74771aa1158c551be8562",
            "6127f8904993430fb846c8346747dd8c",
            "a4f1f31699ae4056b7128b07ceaae49d",
            "bcf7b3fa1c12400882a7fcae05a54c78",
            "423806b1fc4946ecb4fa2fcc3f57858e",
            "610d61e16cb1456f9a3dbb2e60baa58f"
          ]
        },
        "outputId": "aaddd43f-eaa0-4693-b6c8-ad3ffa7902e9"
      },
      "source": [
        "%matplotlib inline\n",
        "import matplotlib.pyplot as plt\n",
        "from ipywidgets import interact\n",
        "from sklearn.ensemble import RandomForestRegressor\n",
        "from sklearn.tree import DecisionTreeRegressor\n",
        "\n",
        "def putt_trees(max_depth=1, n_estimators=1):\n",
        "    models = [DecisionTreeRegressor(max_depth=max_depth), \n",
        "              RandomForestRegressor(max_depth=max_depth, n_estimators=n_estimators)]\n",
        "    \n",
        "    for model in models:\n",
        "        name = model.__class__.__name__\n",
        "        model.fit(putts_X, putts_y)\n",
        "        ax = putts.plot('distance', 'rate of success', kind='scatter', title=name)\n",
        "        ax.step(putts_X, model.predict(putts_X), where='mid')\n",
        "        plt.show()\n",
        "        \n",
        "interact(putt_trees, max_depth=(1,6,1), n_estimators=(10,40,10));"
      ],
      "execution_count": 14,
      "outputs": [
        {
          "output_type": "display_data",
          "data": {
            "application/vnd.jupyter.widget-view+json": {
              "model_id": "833f957afd7c49bb8df9cc7aa814e327",
              "version_minor": 0,
              "version_major": 2
            },
            "text/plain": [
              "interactive(children=(IntSlider(value=1, description='max_depth', max=6, min=1), IntSlider(value=10, descripti…"
            ]
          },
          "metadata": {
            "tags": []
          }
        }
      ]
    },
    {
      "cell_type": "code",
      "metadata": {
        "id": "i19joPmHMgoh",
        "colab_type": "code",
        "colab": {
          "base_uri": "https://localhost:8080/",
          "height": 50
        },
        "outputId": "d1bf58e9-8c0e-4226-c6a8-db30dab2fe10"
      },
      "source": [
        "model = Pipeline([\n",
        "                  ('ohe', OneHotEncoder()),\n",
        "                  ('impute', SimpleImputer()),\n",
        "                  ('select', SelectKBest(k=20)),\n",
        "                  ('classifier', DecisionTreeClassifier())\n",
        "])\n",
        "\n",
        "model.fit(X_train, y_train)\n",
        "\n",
        "print('training accuracy:', model.score(X_train, y_train))\n",
        "print('validation accuracy:', model.score(X_val, y_val))"
      ],
      "execution_count": 15,
      "outputs": [
        {
          "output_type": "stream",
          "text": [
            "training accuracy: 0.7683080808080808\n",
            "validation accuracy: 0.7392255892255892\n"
          ],
          "name": "stdout"
        }
      ]
    },
    {
      "cell_type": "code",
      "metadata": {
        "id": "npLEjD64PNb5",
        "colab_type": "code",
        "colab": {}
      },
      "source": [
        "y_pred = model.predict(X_test)\n",
        "submission = sample_submission.copy()\n",
        "submission['status_group'] = y_pred"
      ],
      "execution_count": 16,
      "outputs": []
    },
    {
      "cell_type": "code",
      "metadata": {
        "id": "oSIBmwmXQVK_",
        "colab_type": "code",
        "colab": {}
      },
      "source": [
        "# Way better submission for the test"
      ],
      "execution_count": 17,
      "outputs": []
    },
    {
      "cell_type": "code",
      "metadata": {
        "id": "qpUk6QXgOC1H",
        "colab_type": "code",
        "colab": {
          "base_uri": "https://localhost:8080/",
          "height": 50
        },
        "outputId": "91ec82b8-cd4e-4c44-f9ae-2782abb26365"
      },
      "source": [
        "y_pred"
      ],
      "execution_count": 18,
      "outputs": [
        {
          "output_type": "execute_result",
          "data": {
            "text/plain": [
              "array(['functional', 'functional', 'functional', ..., 'functional',\n",
              "       'functional', 'non functional'], dtype=object)"
            ]
          },
          "metadata": {
            "tags": []
          },
          "execution_count": 18
        }
      ]
    },
    {
      "cell_type": "code",
      "metadata": {
        "id": "NVcc-3CkTEqw",
        "colab_type": "code",
        "colab": {
          "base_uri": "https://localhost:8080/",
          "height": 34
        },
        "outputId": "08e05c73-b3b6-4494-9bc2-26848e4d4c28"
      },
      "source": [
        "unique, counts = np.unique(y_pred, return_counts=True)\n",
        "dict(zip(unique, counts))"
      ],
      "execution_count": 19,
      "outputs": [
        {
          "output_type": "execute_result",
          "data": {
            "text/plain": [
              "{'functional': 9968, 'functional needs repair': 197, 'non functional': 4193}"
            ]
          },
          "metadata": {
            "tags": []
          },
          "execution_count": 19
        }
      ]
    },
    {
      "cell_type": "code",
      "metadata": {
        "id": "2uyzrVD8P1_j",
        "colab_type": "code",
        "colab": {}
      },
      "source": [
        "from google.colab import files\n",
        "submission.to_csv('my2submission.csv', index=False)\n",
        "files.download('my2submission.csv')"
      ],
      "execution_count": null,
      "outputs": []
    },
    {
      "cell_type": "code",
      "metadata": {
        "id": "lHvZZsnyQPBK",
        "colab_type": "code",
        "colab": {}
      },
      "source": [
        "# Random foresr is overfitting"
      ],
      "execution_count": 21,
      "outputs": []
    },
    {
      "cell_type": "code",
      "metadata": {
        "id": "1GUF7msOL4wP",
        "colab_type": "code",
        "colab": {
          "base_uri": "https://localhost:8080/",
          "height": 50
        },
        "outputId": "0dceb906-8f46-4edd-97e7-2a85c5110983"
      },
      "source": [
        "model = Pipeline([\n",
        "                  ('ohe', OneHotEncoder()),\n",
        "                  ('impute', SimpleImputer()),\n",
        "                  ('classifier', RandomForestClassifier(n_jobs=-1))\n",
        "])\n",
        "\n",
        "model.fit(X_train, y_train)\n",
        "\n",
        "print('training accuracy:', model.score(X_train, y_train))\n",
        "print('validation accuracy:', model.score(X_val, y_val))"
      ],
      "execution_count": 22,
      "outputs": [
        {
          "output_type": "stream",
          "text": [
            "training accuracy: 0.9979377104377104\n",
            "validation accuracy: 0.8080808080808081\n"
          ],
          "name": "stdout"
        }
      ]
    },
    {
      "cell_type": "code",
      "metadata": {
        "id": "r5-O7cocTa8Z",
        "colab_type": "code",
        "colab": {}
      },
      "source": [
        "# Still overfitting slighlty less"
      ],
      "execution_count": 23,
      "outputs": []
    },
    {
      "cell_type": "code",
      "metadata": {
        "id": "pvppDH-BN6ck",
        "colab_type": "code",
        "colab": {
          "base_uri": "https://localhost:8080/",
          "height": 50
        },
        "outputId": "8bfaf1d7-920f-47aa-ab05-d9433f5e657c"
      },
      "source": [
        "pipeline = make_pipeline(\n",
        "    ce.OrdinalEncoder(), \n",
        "    SimpleImputer(strategy='median'), \n",
        "    RandomForestClassifier(random_state=0, n_jobs=-1, criterion='entropy', n_estimators=300, oob_score=True))\n",
        "pipeline.fit(X_train, y_train)\n",
        "print('training accuracy:', pipeline.score(X_train, y_train))\n",
        "print('Validation Accuracy', pipeline.score(X_val, y_val))"
      ],
      "execution_count": 24,
      "outputs": [
        {
          "output_type": "stream",
          "text": [
            "training accuracy: 0.9979377104377104\n",
            "Validation Accuracy 0.8104377104377104\n"
          ],
          "name": "stdout"
        }
      ]
    },
    {
      "cell_type": "code",
      "metadata": {
        "id": "1fE25ou4SObf",
        "colab_type": "code",
        "colab": {}
      },
      "source": [
        "#Another prediction"
      ],
      "execution_count": 25,
      "outputs": []
    },
    {
      "cell_type": "code",
      "metadata": {
        "id": "EzYn2p6dSP80",
        "colab_type": "code",
        "colab": {}
      },
      "source": [
        "y_pred = pipeline.predict(X_test)\n",
        "submission = sample_submission.copy()\n",
        "submission['status_group'] = y_pred"
      ],
      "execution_count": 26,
      "outputs": []
    },
    {
      "cell_type": "code",
      "metadata": {
        "id": "RIMPuomITjzV",
        "colab_type": "code",
        "colab": {
          "base_uri": "https://localhost:8080/",
          "height": 17
        },
        "outputId": "57971360-2956-46d4-d3b4-f77f659a0478"
      },
      "source": [
        "from google.colab import files\n",
        "submission.to_csv('my3submission.csv', index=False)\n",
        "files.download('my3submission.csv')"
      ],
      "execution_count": 27,
      "outputs": [
        {
          "output_type": "display_data",
          "data": {
            "application/javascript": [
              "\n",
              "    async function download(id, filename, size) {\n",
              "      if (!google.colab.kernel.accessAllowed) {\n",
              "        return;\n",
              "      }\n",
              "      const div = document.createElement('div');\n",
              "      const label = document.createElement('label');\n",
              "      label.textContent = `Downloading \"${filename}\": `;\n",
              "      div.appendChild(label);\n",
              "      const progress = document.createElement('progress');\n",
              "      progress.max = size;\n",
              "      div.appendChild(progress);\n",
              "      document.body.appendChild(div);\n",
              "\n",
              "      const buffers = [];\n",
              "      let downloaded = 0;\n",
              "\n",
              "      const channel = await google.colab.kernel.comms.open(id);\n",
              "      // Send a message to notify the kernel that we're ready.\n",
              "      channel.send({})\n",
              "\n",
              "      for await (const message of channel.messages) {\n",
              "        // Send a message to notify the kernel that we're ready.\n",
              "        channel.send({})\n",
              "        if (message.buffers) {\n",
              "          for (const buffer of message.buffers) {\n",
              "            buffers.push(buffer);\n",
              "            downloaded += buffer.byteLength;\n",
              "            progress.value = downloaded;\n",
              "          }\n",
              "        }\n",
              "      }\n",
              "      const blob = new Blob(buffers, {type: 'application/binary'});\n",
              "      const a = document.createElement('a');\n",
              "      a.href = window.URL.createObjectURL(blob);\n",
              "      a.download = filename;\n",
              "      div.appendChild(a);\n",
              "      a.click();\n",
              "      div.remove();\n",
              "    }\n",
              "  "
            ],
            "text/plain": [
              "<IPython.core.display.Javascript object>"
            ]
          },
          "metadata": {
            "tags": []
          }
        },
        {
          "output_type": "display_data",
          "data": {
            "application/javascript": [
              "download(\"download_bb008965-45c3-4d51-9fc7-557f393d61a1\", \"my3submission.csv\", 272655)"
            ],
            "text/plain": [
              "<IPython.core.display.Javascript object>"
            ]
          },
          "metadata": {
            "tags": []
          }
        }
      ]
    },
    {
      "cell_type": "code",
      "metadata": {
        "id": "L9LGzOS-SS9P",
        "colab_type": "code",
        "colab": {
          "base_uri": "https://localhost:8080/",
          "height": 50
        },
        "outputId": "b8b6ee95-4b18-4c26-9cf1-0f1dce94e72f"
      },
      "source": [
        "y_pred"
      ],
      "execution_count": 28,
      "outputs": [
        {
          "output_type": "execute_result",
          "data": {
            "text/plain": [
              "array(['non functional', 'functional', 'functional', ..., 'functional',\n",
              "       'functional', 'non functional'], dtype=object)"
            ]
          },
          "metadata": {
            "tags": []
          },
          "execution_count": 28
        }
      ]
    },
    {
      "cell_type": "code",
      "metadata": {
        "id": "sxvoipa0S8Ua",
        "colab_type": "code",
        "colab": {}
      },
      "source": [
        "import numpy as np"
      ],
      "execution_count": 29,
      "outputs": []
    },
    {
      "cell_type": "code",
      "metadata": {
        "id": "OL4gaEVuS1xu",
        "colab_type": "code",
        "colab": {
          "base_uri": "https://localhost:8080/",
          "height": 34
        },
        "outputId": "b463ed5b-b7b8-452b-deeb-01c12ce5ca8f"
      },
      "source": [
        "unique, counts = np.unique(y_pred, return_counts=True)\n",
        "dict(zip(unique, counts))"
      ],
      "execution_count": 30,
      "outputs": [
        {
          "output_type": "execute_result",
          "data": {
            "text/plain": [
              "{'functional': 8332, 'functional needs repair': 731, 'non functional': 5295}"
            ]
          },
          "metadata": {
            "tags": []
          },
          "execution_count": 30
        }
      ]
    },
    {
      "cell_type": "markdown",
      "metadata": {
        "id": "P2MvpNZ7Uor8",
        "colab_type": "text"
      },
      "source": [
        "### 3) plots"
      ]
    },
    {
      "cell_type": "code",
      "metadata": {
        "id": "QuCS2ey4UrHj",
        "colab_type": "code",
        "colab": {
          "base_uri": "https://localhost:8080/",
          "height": 262
        },
        "outputId": "8c18daaf-b59c-44f8-dcbb-97f4481bdcdf"
      },
      "source": [
        "import seaborn as sns\n",
        "plt.figure(figsize=(16,9))\n",
        "sns.barplot(\n",
        "    x=X_train[features], \n",
        "    y=y_pred['status_group']=='functional', \n",
        "    color='grey'\n",
        ");"
      ],
      "execution_count": 39,
      "outputs": [
        {
          "output_type": "error",
          "ename": "IndexError",
          "evalue": "ignored",
          "traceback": [
            "\u001b[0;31m---------------------------------------------------------------------------\u001b[0m",
            "\u001b[0;31mIndexError\u001b[0m                                Traceback (most recent call last)",
            "\u001b[0;32m<ipython-input-39-7a3747980c7b>\u001b[0m in \u001b[0;36m<module>\u001b[0;34m()\u001b[0m\n\u001b[1;32m      3\u001b[0m sns.barplot(\n\u001b[1;32m      4\u001b[0m     \u001b[0mx\u001b[0m\u001b[0;34m=\u001b[0m\u001b[0mX_train\u001b[0m\u001b[0;34m[\u001b[0m\u001b[0mfeatures\u001b[0m\u001b[0;34m]\u001b[0m\u001b[0;34m,\u001b[0m\u001b[0;34m\u001b[0m\u001b[0;34m\u001b[0m\u001b[0m\n\u001b[0;32m----> 5\u001b[0;31m     \u001b[0my\u001b[0m\u001b[0;34m=\u001b[0m\u001b[0my_pred\u001b[0m\u001b[0;34m[\u001b[0m\u001b[0;34m'status_group'\u001b[0m\u001b[0;34m]\u001b[0m\u001b[0;34m==\u001b[0m\u001b[0;34m'functional'\u001b[0m\u001b[0;34m,\u001b[0m\u001b[0;34m\u001b[0m\u001b[0;34m\u001b[0m\u001b[0m\n\u001b[0m\u001b[1;32m      6\u001b[0m     \u001b[0mcolor\u001b[0m\u001b[0;34m=\u001b[0m\u001b[0;34m'grey'\u001b[0m\u001b[0;34m\u001b[0m\u001b[0;34m\u001b[0m\u001b[0m\n\u001b[1;32m      7\u001b[0m );\n",
            "\u001b[0;31mIndexError\u001b[0m: only integers, slices (`:`), ellipsis (`...`), numpy.newaxis (`None`) and integer or boolean arrays are valid indices"
          ]
        },
        {
          "output_type": "display_data",
          "data": {
            "text/plain": [
              "<Figure size 1152x648 with 0 Axes>"
            ]
          },
          "metadata": {
            "tags": []
          }
        }
      ]
    }
  ]
}