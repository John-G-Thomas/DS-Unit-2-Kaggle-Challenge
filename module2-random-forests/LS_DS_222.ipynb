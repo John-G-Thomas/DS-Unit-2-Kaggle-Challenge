{
  "nbformat": 4,
  "nbformat_minor": 0,
  "metadata": {
    "kernelspec": {
      "display_name": "Python 3",
      "language": "python",
      "name": "python3"
    },
    "language_info": {
      "codemirror_mode": {
        "name": "ipython",
        "version": 3
      },
      "file_extension": ".py",
      "mimetype": "text/x-python",
      "name": "python",
      "nbconvert_exporter": "python",
      "pygments_lexer": "ipython3",
      "version": "3.7.3"
    },
    "colab": {
      "name": "LS_DS_222.ipynb",
      "provenance": [],
      "collapsed_sections": [],
      "include_colab_link": true
    },
    "widgets": {
      "application/vnd.jupyter.widget-state+json": {
        "c1e34079a2084ab3854a7988e7ed2ade": {
          "model_module": "@jupyter-widgets/controls",
          "model_name": "VBoxModel",
          "state": {
            "_view_name": "VBoxView",
            "_dom_classes": [
              "widget-interact"
            ],
            "_model_name": "VBoxModel",
            "_view_module": "@jupyter-widgets/controls",
            "_model_module_version": "1.5.0",
            "_view_count": null,
            "_view_module_version": "1.5.0",
            "box_style": "",
            "layout": "IPY_MODEL_e36e23878f8241f1b941c96f4a6fa7d0",
            "_model_module": "@jupyter-widgets/controls",
            "children": [
              "IPY_MODEL_0e352bd2e0d84c959461e12295b30169",
              "IPY_MODEL_5430d677c998434094dd7de04efbdeaa",
              "IPY_MODEL_0a43a5f6fe8b4e05a15482d3c7b518c2"
            ]
          }
        },
        "e36e23878f8241f1b941c96f4a6fa7d0": {
          "model_module": "@jupyter-widgets/base",
          "model_name": "LayoutModel",
          "state": {
            "_view_name": "LayoutView",
            "grid_template_rows": null,
            "right": null,
            "justify_content": null,
            "_view_module": "@jupyter-widgets/base",
            "overflow": null,
            "_model_module_version": "1.2.0",
            "_view_count": null,
            "flex_flow": null,
            "width": null,
            "min_width": null,
            "border": null,
            "align_items": null,
            "bottom": null,
            "_model_module": "@jupyter-widgets/base",
            "top": null,
            "grid_column": null,
            "overflow_y": null,
            "overflow_x": null,
            "grid_auto_flow": null,
            "grid_area": null,
            "grid_template_columns": null,
            "flex": null,
            "_model_name": "LayoutModel",
            "justify_items": null,
            "grid_row": null,
            "max_height": null,
            "align_content": null,
            "visibility": null,
            "align_self": null,
            "height": null,
            "min_height": null,
            "padding": null,
            "grid_auto_rows": null,
            "grid_gap": null,
            "max_width": null,
            "order": null,
            "_view_module_version": "1.2.0",
            "grid_template_areas": null,
            "object_position": null,
            "object_fit": null,
            "grid_auto_columns": null,
            "margin": null,
            "display": null,
            "left": null
          }
        },
        "0e352bd2e0d84c959461e12295b30169": {
          "model_module": "@jupyter-widgets/controls",
          "model_name": "IntSliderModel",
          "state": {
            "_view_name": "IntSliderView",
            "style": "IPY_MODEL_8a0abac4fcd946eab2af110ab07abee6",
            "_dom_classes": [],
            "description": "max_depth",
            "step": 1,
            "_model_name": "IntSliderModel",
            "orientation": "horizontal",
            "max": 6,
            "_view_module": "@jupyter-widgets/controls",
            "_model_module_version": "1.5.0",
            "value": 1,
            "_view_count": null,
            "disabled": false,
            "_view_module_version": "1.5.0",
            "min": 1,
            "continuous_update": true,
            "readout_format": "d",
            "description_tooltip": null,
            "readout": true,
            "_model_module": "@jupyter-widgets/controls",
            "layout": "IPY_MODEL_695185543cc84bef9e6b09c944351e55"
          }
        },
        "5430d677c998434094dd7de04efbdeaa": {
          "model_module": "@jupyter-widgets/controls",
          "model_name": "IntSliderModel",
          "state": {
            "_view_name": "IntSliderView",
            "style": "IPY_MODEL_3fcad88876b049fcb3fc7b3e2ba4a0b1",
            "_dom_classes": [],
            "description": "n_estimators",
            "step": 10,
            "_model_name": "IntSliderModel",
            "orientation": "horizontal",
            "max": 40,
            "_view_module": "@jupyter-widgets/controls",
            "_model_module_version": "1.5.0",
            "value": 10,
            "_view_count": null,
            "disabled": false,
            "_view_module_version": "1.5.0",
            "min": 10,
            "continuous_update": true,
            "readout_format": "d",
            "description_tooltip": null,
            "readout": true,
            "_model_module": "@jupyter-widgets/controls",
            "layout": "IPY_MODEL_f3e7161de13b481ab7be114a4325014c"
          }
        },
        "0a43a5f6fe8b4e05a15482d3c7b518c2": {
          "model_module": "@jupyter-widgets/output",
          "model_name": "OutputModel",
          "state": {
            "_view_name": "OutputView",
            "msg_id": "",
            "_dom_classes": [],
            "_model_name": "OutputModel",
            "outputs": [
              {
                "output_type": "display_data",
                "metadata": {
                  "tags": [],
                  "needs_background": "light"
                },
                "image/png": "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\n",
                "text/plain": "<Figure size 432x288 with 1 Axes>"
              },
              {
                "output_type": "display_data",
                "metadata": {
                  "tags": [],
                  "needs_background": "light"
                },
                "image/png": "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\n",
                "text/plain": "<Figure size 432x288 with 1 Axes>"
              }
            ],
            "_view_module": "@jupyter-widgets/output",
            "_model_module_version": "1.0.0",
            "_view_count": null,
            "_view_module_version": "1.0.0",
            "layout": "IPY_MODEL_ffa1af1ab0d042bf8fc86be66487db64",
            "_model_module": "@jupyter-widgets/output"
          }
        },
        "8a0abac4fcd946eab2af110ab07abee6": {
          "model_module": "@jupyter-widgets/controls",
          "model_name": "SliderStyleModel",
          "state": {
            "_view_name": "StyleView",
            "handle_color": null,
            "_model_name": "SliderStyleModel",
            "description_width": "",
            "_view_module": "@jupyter-widgets/base",
            "_model_module_version": "1.5.0",
            "_view_count": null,
            "_view_module_version": "1.2.0",
            "_model_module": "@jupyter-widgets/controls"
          }
        },
        "695185543cc84bef9e6b09c944351e55": {
          "model_module": "@jupyter-widgets/base",
          "model_name": "LayoutModel",
          "state": {
            "_view_name": "LayoutView",
            "grid_template_rows": null,
            "right": null,
            "justify_content": null,
            "_view_module": "@jupyter-widgets/base",
            "overflow": null,
            "_model_module_version": "1.2.0",
            "_view_count": null,
            "flex_flow": null,
            "width": null,
            "min_width": null,
            "border": null,
            "align_items": null,
            "bottom": null,
            "_model_module": "@jupyter-widgets/base",
            "top": null,
            "grid_column": null,
            "overflow_y": null,
            "overflow_x": null,
            "grid_auto_flow": null,
            "grid_area": null,
            "grid_template_columns": null,
            "flex": null,
            "_model_name": "LayoutModel",
            "justify_items": null,
            "grid_row": null,
            "max_height": null,
            "align_content": null,
            "visibility": null,
            "align_self": null,
            "height": null,
            "min_height": null,
            "padding": null,
            "grid_auto_rows": null,
            "grid_gap": null,
            "max_width": null,
            "order": null,
            "_view_module_version": "1.2.0",
            "grid_template_areas": null,
            "object_position": null,
            "object_fit": null,
            "grid_auto_columns": null,
            "margin": null,
            "display": null,
            "left": null
          }
        },
        "3fcad88876b049fcb3fc7b3e2ba4a0b1": {
          "model_module": "@jupyter-widgets/controls",
          "model_name": "SliderStyleModel",
          "state": {
            "_view_name": "StyleView",
            "handle_color": null,
            "_model_name": "SliderStyleModel",
            "description_width": "",
            "_view_module": "@jupyter-widgets/base",
            "_model_module_version": "1.5.0",
            "_view_count": null,
            "_view_module_version": "1.2.0",
            "_model_module": "@jupyter-widgets/controls"
          }
        },
        "f3e7161de13b481ab7be114a4325014c": {
          "model_module": "@jupyter-widgets/base",
          "model_name": "LayoutModel",
          "state": {
            "_view_name": "LayoutView",
            "grid_template_rows": null,
            "right": null,
            "justify_content": null,
            "_view_module": "@jupyter-widgets/base",
            "overflow": null,
            "_model_module_version": "1.2.0",
            "_view_count": null,
            "flex_flow": null,
            "width": null,
            "min_width": null,
            "border": null,
            "align_items": null,
            "bottom": null,
            "_model_module": "@jupyter-widgets/base",
            "top": null,
            "grid_column": null,
            "overflow_y": null,
            "overflow_x": null,
            "grid_auto_flow": null,
            "grid_area": null,
            "grid_template_columns": null,
            "flex": null,
            "_model_name": "LayoutModel",
            "justify_items": null,
            "grid_row": null,
            "max_height": null,
            "align_content": null,
            "visibility": null,
            "align_self": null,
            "height": null,
            "min_height": null,
            "padding": null,
            "grid_auto_rows": null,
            "grid_gap": null,
            "max_width": null,
            "order": null,
            "_view_module_version": "1.2.0",
            "grid_template_areas": null,
            "object_position": null,
            "object_fit": null,
            "grid_auto_columns": null,
            "margin": null,
            "display": null,
            "left": null
          }
        },
        "ffa1af1ab0d042bf8fc86be66487db64": {
          "model_module": "@jupyter-widgets/base",
          "model_name": "LayoutModel",
          "state": {
            "_view_name": "LayoutView",
            "grid_template_rows": null,
            "right": null,
            "justify_content": null,
            "_view_module": "@jupyter-widgets/base",
            "overflow": null,
            "_model_module_version": "1.2.0",
            "_view_count": null,
            "flex_flow": null,
            "width": null,
            "min_width": null,
            "border": null,
            "align_items": null,
            "bottom": null,
            "_model_module": "@jupyter-widgets/base",
            "top": null,
            "grid_column": null,
            "overflow_y": null,
            "overflow_x": null,
            "grid_auto_flow": null,
            "grid_area": null,
            "grid_template_columns": null,
            "flex": null,
            "_model_name": "LayoutModel",
            "justify_items": null,
            "grid_row": null,
            "max_height": null,
            "align_content": null,
            "visibility": null,
            "align_self": null,
            "height": null,
            "min_height": null,
            "padding": null,
            "grid_auto_rows": null,
            "grid_gap": null,
            "max_width": null,
            "order": null,
            "_view_module_version": "1.2.0",
            "grid_template_areas": null,
            "object_position": null,
            "object_fit": null,
            "grid_auto_columns": null,
            "margin": null,
            "display": null,
            "left": null
          }
        },
        "81f73c853ed643538e5c519d8f6b185b": {
          "model_module": "@jupyter-widgets/controls",
          "model_name": "VBoxModel",
          "state": {
            "_view_name": "VBoxView",
            "_dom_classes": [
              "widget-interact"
            ],
            "_model_name": "VBoxModel",
            "_view_module": "@jupyter-widgets/controls",
            "_model_module_version": "1.5.0",
            "_view_count": null,
            "_view_module_version": "1.5.0",
            "box_style": "",
            "layout": "IPY_MODEL_1cc6af434cd4494db8de8c201233c2dc",
            "_model_module": "@jupyter-widgets/controls",
            "children": [
              "IPY_MODEL_0bd81b2db5f54c10b6042bc857e14cc1",
              "IPY_MODEL_3434fa1cf3b443318f3e245b676629ce",
              "IPY_MODEL_375cc66ab3944428b493c2e84b23b162"
            ]
          }
        },
        "1cc6af434cd4494db8de8c201233c2dc": {
          "model_module": "@jupyter-widgets/base",
          "model_name": "LayoutModel",
          "state": {
            "_view_name": "LayoutView",
            "grid_template_rows": null,
            "right": null,
            "justify_content": null,
            "_view_module": "@jupyter-widgets/base",
            "overflow": null,
            "_model_module_version": "1.2.0",
            "_view_count": null,
            "flex_flow": null,
            "width": null,
            "min_width": null,
            "border": null,
            "align_items": null,
            "bottom": null,
            "_model_module": "@jupyter-widgets/base",
            "top": null,
            "grid_column": null,
            "overflow_y": null,
            "overflow_x": null,
            "grid_auto_flow": null,
            "grid_area": null,
            "grid_template_columns": null,
            "flex": null,
            "_model_name": "LayoutModel",
            "justify_items": null,
            "grid_row": null,
            "max_height": null,
            "align_content": null,
            "visibility": null,
            "align_self": null,
            "height": null,
            "min_height": null,
            "padding": null,
            "grid_auto_rows": null,
            "grid_gap": null,
            "max_width": null,
            "order": null,
            "_view_module_version": "1.2.0",
            "grid_template_areas": null,
            "object_position": null,
            "object_fit": null,
            "grid_auto_columns": null,
            "margin": null,
            "display": null,
            "left": null
          }
        },
        "0bd81b2db5f54c10b6042bc857e14cc1": {
          "model_module": "@jupyter-widgets/controls",
          "model_name": "IntSliderModel",
          "state": {
            "_view_name": "IntSliderView",
            "style": "IPY_MODEL_26bfa8f0644c4957b62d272ee67aaac3",
            "_dom_classes": [],
            "description": "max_depth",
            "step": 1,
            "_model_name": "IntSliderModel",
            "orientation": "horizontal",
            "max": 6,
            "_view_module": "@jupyter-widgets/controls",
            "_model_module_version": "1.5.0",
            "value": 1,
            "_view_count": null,
            "disabled": false,
            "_view_module_version": "1.5.0",
            "min": 1,
            "continuous_update": true,
            "readout_format": "d",
            "description_tooltip": null,
            "readout": true,
            "_model_module": "@jupyter-widgets/controls",
            "layout": "IPY_MODEL_ac4237663e324fe6847de3ec27aebe8c"
          }
        },
        "3434fa1cf3b443318f3e245b676629ce": {
          "model_module": "@jupyter-widgets/controls",
          "model_name": "IntSliderModel",
          "state": {
            "_view_name": "IntSliderView",
            "style": "IPY_MODEL_e534a9b0253b40aaa16404097986cbc4",
            "_dom_classes": [],
            "description": "n_estimators",
            "step": 10,
            "_model_name": "IntSliderModel",
            "orientation": "horizontal",
            "max": 40,
            "_view_module": "@jupyter-widgets/controls",
            "_model_module_version": "1.5.0",
            "value": 10,
            "_view_count": null,
            "disabled": false,
            "_view_module_version": "1.5.0",
            "min": 10,
            "continuous_update": true,
            "readout_format": "d",
            "description_tooltip": null,
            "readout": true,
            "_model_module": "@jupyter-widgets/controls",
            "layout": "IPY_MODEL_d72391754ccb404480540cd4bc51a530"
          }
        },
        "375cc66ab3944428b493c2e84b23b162": {
          "model_module": "@jupyter-widgets/output",
          "model_name": "OutputModel",
          "state": {
            "_view_name": "OutputView",
            "msg_id": "",
            "_dom_classes": [],
            "_model_name": "OutputModel",
            "outputs": [
              {
                "output_type": "display_data",
                "metadata": {
                  "tags": [],
                  "needs_background": "light"
                },
                "image/png": "iVBORw0KGgoAAAANSUhEUgAAAVoAAAEFCAYAAACiiS9UAAAABHNCSVQICAgIfAhkiAAAAAlwSFlzAAALEgAACxIB0t1+/AAAADh0RVh0U29mdHdhcmUAbWF0cGxvdGxpYiB2ZXJzaW9uMy4yLjIsIGh0dHA6Ly9tYXRwbG90bGliLm9yZy+WH4yJAAAV2UlEQVR4nO3de5RlZXnn8e+vWxGUWwS80QSQyygQY1TAy4yy4iWNC2mjUcDxAmFshwRXJk5QnDiEkImKRokXRm1HQHQEFZeZHoMhTBSICNLNRUI3op0GpCHIVS6iQlc988feJYeyqs4p+uyuOsX302svztn7Pe9+9y7qWU89+937pKqQJHVn0VwPQJIWOgOtJHXMQCtJHTPQSlLHDLSS1DEDrSR1zEA74pJ8M8nbBmh3f5Jnbo4xdS3JQUk2dNj/p5P89573xyT5SXsOd1hI51KbR5xHu3kkuQF4KrARGAPWAmcCK6pqfA6HNrAka4Bd27dbAQ/RHA/A+6vq/UPc1wHAicCLgXFgHfCpqjo9yUHAF6tqybD2N8M4Hg/cC7ywqr7f9f60MJnRbl6vqaptaILVB4H3AJ+b2yENrqr2raqtq2pr4J+BYyfe9wbZJI/blP0keRHwLeBCYE9gB+AY4OBN6fdReiqwJbBmUzva1POi0WWgnQNVdU9VrQQOA96WZL8kT0jyN0l+3P6Z+ukkW018JsmyJFcluTfJvyZZ2q6/IMl/al/vmeTCJPckuSPJl3s+X0n2bF9vl+TMJLcnuTHJ+5IsarcdmeQ77VjuTnJ9khkDXJLd2v6PTvJjmiBJkj9Mcm3bz3lJdu35zLOSnJ/kriTXJXljT5cfBj5fVSdX1R3VuLyq3sgUkhzfnpP7kqxN8vs926Y8J2mckuS29pz+S5L92m1nJPkfSfYGrmu7+mmSiePqPZfT/twmShxJ3pPkVuD0mc6jFi4D7RyqqsuADcB/oMlw9waeS5PF7QycAL/6M/pM4Dhge+ClwA1TdPlXwD8CvwEsAT4xza4/AWwHPBN4GfBW4Kie7QfSBJgdgQ8Bn0uSAQ7pZcCzgd9Lsgz4b8DrgJ1oMuCz2uN5EnA+8CXgKcDhwP9Msk+SJwIvAs4ZYH8T/pXmHG4H/CXwxSRPb7dNd05eRXMe924/90bgzt5Oq+qHwL7t2+2r6nen2Pe0P7fW04An0/wVs3wWx6QFxEA7926h+UVcDvxpVd1VVfcB76cJQABHA6dV1flVNV5VN1fVD6bo6yGaX+hnVNUvquo7kxskWdz2+96quq+qbgA+Arylp9mNVfXZqhoDPg88neZP6H5OrKqfVdXPgf8MfKCqrq2qje3xPLfNag8Bbqiq06tqY1VdCXwNeANNQFwE/NsA+wOgqr5aVbe05+bLwI+AA/qck4eAbYBn0VyruLaqBt4nNFkxM//coKkv/0VV/bI9L3oMMtDOvZ2BxwFPBC5P8tMkPwX+gSYTBNiFJmvr591AgMuSrEnyh1O02RF4PHBjz7ob23FMuHXiRVU90L7ceoD939TzelfgYz3Hc1c7tp3bbQdObGu3/0ea7O9umuD0dAaU5K1tWWWir/3a44RpzklVfQv4JHAqcFuSFUm2HXSfrZ2Y+ecGcHtV/WKW/WqBMdDOoST70wSevwN+DuxbVdu3y3btRSdoAtge/fqrqlur6u1V9QzgHTR/ju85qdkdPJzlTfhN4OZNPByA3iksNwHv6Dme7atqq6r6brvtwknbtq6qY9rAfgnw+kF22GbInwWOBXaoqu2Ba2iC64znpKo+XlXPB/ah+fP/uFke7x3M/HObfE70GGWgnQNJtk1yCHA2zTSl79MEi1OSPKVts3OS32s/8jngqCQvT7Ko3fasKfp9Q5KJKU930/ySP2LqWFsO+Arw10m2aQPVu4AvDvkwPw28N8m+7di2S/KGdts3gL2TvCXJ49tl/yTPbre/GzgyyXFJdmg//9tJzp5iP09qj/P2tt1RNBkt7fspz0m7vwPTTN/6GfALJp2rftppeTP93CTAQLu5/d8k99FkdH8OfJSHL0K9h2au6KVJ7gX+H/Dv4FcXzY4CTgHuoZn2tCu/bn/ge0nuB1YCf1JV66do906a4LIe+A7NRanThnGAE6rq68DJwNnt8VxDOz2rrWW+iqaWeQtNqeJk4Ant9u8Cv9su65PcBawAzp1iP2tpasyXAD8Bfgu4uKfJdOdkW5ogeTdN6eROmtkOszXtz02a4A0LktQxM1pJ6piBVpJ6JDmtvZHlmmm2J8nHk6xLcnWS5/Xr00ArSY90BrB0hu0HA3u1y3LgU/06NNBKUo+quohm3vd0lgFntreGXwps33Mn4pQ6ecjFUbu93itskgZy+g1fG+T27hk9dMf6gWPOFjvt8Q4eeTv0iqpaMYvd7cwjb87Z0K6b9s5CnyYk6TGlDaqzCaybzEArafSNj23Ovd1Mc1v8hCX0ubPSGq2k0Te2cfBl060E3trOPnghcE+/BxKZ0UoaecP8kpIkZwEHATum+cqkv6B5EBNV9WmaOxRfTXNH4AM88hGjUzLQShp948MLtFV1RJ/tBfzxbPo00EoaffP8a/cMtJJG3+a9GDZrBlpJo8+MVpK6VcOZTdAZA62k0TfEi2FdMNBKGn2WDiSpY14Mk6SOmdFKUse8GCZJHfNimCR1q8oarSR1yxqtJHXM0oEkdcyMVpI6NvbQXI9gRgZaSaPP0oEkdczSgSR1zIxWkjpmoJWkbpUXwySpY9ZoJaljlg4kqWNmtJLUMTNaSeqYGa0kdWyjD/6WpG6Z0UpSx6zRSlLHzGglqWNmtJLUMTNaSeqYsw4kqWNVcz2CGRloJY0+a7SS1LF5HmgXzfUAJGmT1fjgSx9Jlia5Lsm6JMdPsf03k3w7yZVJrk7y6n59mtFKGn1jY0PpJsli4FTglcAGYFWSlVW1tqfZ+4CvVNWnkuwDnAvsNlO/BlpJo294pYMDgHVVtR4gydnAMqA30Bawbft6O+CWfp0aaCWNvlkE2iTLgeU9q1ZU1Yr29c7ATT3bNgAHTuriROAfk7wTeBLwin77NNBKGn2zuGGhDaor+jac3hHAGVX1kSQvAr6QZL+q6QdhoJU08mp8aPNobwZ26Xm/pF3X62hgKUBVXZJkS2BH4LbpOnXWgaTRNz4++DKzVcBeSXZPsgVwOLByUpsfAy8HSPJsYEvg9pk6NaOVNPqGNOugqjYmORY4D1gMnFZVa5KcBKyuqpXAfwU+m+RPaS6MHVk1861pBlpJo2+INyxU1bk0U7Z6153Q83ot8JLZ9GmglTT65vmdYQZaSaPPh8pIUsfMaCWpY8Ob3tUJA62k0TekWQddMdBKGnll6UCSOmbpQJI65pczSlLHzGglqWMbvRgmSd2ydCBJHbN0IEndcnqXJHXNjFaSOmaglaSOeQuuJHVriN8Z1gkDraTRZ6CVpI4560CSOmZGK0kdM9BKUrdqzNKBJHXLjFaSuuX0LknqmoFWkjo2v0u0BlpJo682zu9Ia6CVNPrmd5w10EoafV4Mk6SumdFKUrfMaCWpa2a0ktSt2jjXI5iZgVbSyJvn3zbOorkegCRtsvFZLH0kWZrkuiTrkhw/TZs3JlmbZE2SL/Xr04xW0sgbVkabZDFwKvBKYAOwKsnKqlrb02Yv4L3AS6rq7iRP6devGa2kkVfjgy99HACsq6r1VfUgcDawbFKbtwOnVtXdAFV1W79ODbSSRl6NZeAlyfIkq3uW5T1d7Qzc1PN+Q7uu197A3kkuTnJpkqX9xmfpQNLIm03poKpWACs2YXePA/YCDgKWABcl+a2q+ulMH5CkkVbjGVZXNwO79Lxf0q7rtQH4XlU9BFyf5Ic0gXfVdJ1aOpA08oZYo10F7JVk9yRbAIcDKye1+TuabJYkO9KUEtbP1OlAgTbJa5IYlCXNS1UZeJm5n9oIHAucB1wLfKWq1iQ5KcmhbbPzgDuTrAW+DRxXVXfO1O+gpYPDgL9N8jXgtKr6wYCfk6TODfOGhao6Fzh30roTel4X8K52GchAgbaq3pxkW+AI4IwkBZwOnFVV9w26M0nqwvjY0Gq0nRi4HFBV9wLn0Mwrezrw+8AVSd7Z0dgkaSA1noGXuTBQRptkGXAksCdwJnBAVd2W5InAWuATnY1QkvqYqwA6qEFrtK8DTqmqi3pXVtUDSY4e/rAkaXA1vx9HO3Dp4NbJQTbJyQBV9U9DH5UkzcJ8Lx0MGmhfOcW6g4c5EEl6tIY1vasrM5YOkhwD/BGwR5KrezZtA1zc5cAkaVBj83zWQb8a7ZeAbwIfAHqfy3hfVd3V2agkaRbmKlMdVL9AW1V1Q5I/nrwhyZMNtpLmg1GfdfAl4BDgcqCA3qMp4JkdjUuSBjbfZx3MGGir6pD2v7tvnuFI0uzN94x20IfK/NoUrqnWSdJcGBtfNPAyF/rNOtgSeCKwY5Lf4OHSwbb8+lPHJWlOjHTpAHgH8F+AZ9DUaScC7b3AJzsclyQNbHyUZx1U1ceAjyV5Z1X5PANJ89KoT+8CoKo+keTFwG69n6mqMzsalyQNbNRLBwAk+QKwB3AVMNauLponeUnSnBrp0kGPFwD7tE8Wl6R5Za5mEwxq0NFdAzyty4FI0qNVs1jmwqAZ7Y7A2iSXAb+cWFlVh07/EUnaPBZK6eDELgchSZtiocw6uLDrgUjSozXEL8HtxKC34L4wyaok9yd5MMlYknu7HpwkDaLIwMtcGLR08EngcOCrNDMQ3grs3dWgJGk2Ns7z0sFsvm58HbC4qsaq6nRgaXfDkqTBLZSM9oEkWwBXJfkQ8G/MIkhLUpcWRI0WeAuwGDgW+BmwC/D6rgYlSbOxIDLaqrqxfflz4C+7G44kzd58z2gHfdbB9UxxU0VV+VU2kubc2BxlqoOazbMOJmwJvAF48vCHI0mzN8+/yWbg0sGdk1b9bZLLgROGPyRJmp3xhZDRJnlez9tFNBnuoNmwJHVqvj9WcNBg+REePpaNwA005QNJmnML4mIY8A2aQDuRnxdwSNK8raqPDn9okjSY8SyA0gHwfGB/4P/QBNvXAJcBP+poXJI0sLH+TebUoIF2CfC8qroPIMmJwN9X1Zu7GpgkDWqYsw6SLAU+RnOT1v+qqg9O0+71wDnA/lW1eqY+Bw20TwUe7Hn/YLtOkubcsGYdJFkMnAq8EtgArEqysqrWTmq3DfAnwPcG6XfQQHsmcFmSr7fvXwucMeBnJalTQ5x1cACwrqrWAyQ5G1gGrJ3U7q+Ak4HjBul0oGcdVNVfA0cBd7fLUVX1gcHGLUndGs/gS5LlSVb3LMt7utoZuKnn/YZ23a+00113qaq/H3R8A8+FraorgCsGbS9Jm8tspndV1QpgxaPZT5JFwEeBI2fzOW86kDTyxoZ3MexmmqcTTljSrpuwDbAfcEE7vfVpwMokh850QcxAK2nkDfGGhVXAXkl2pwmwhwNvmthYVffQfCs4AEkuAP5sWLMOZuVDe93RRbeSNKVhBdqq2pjkWOA8muldp1XVmiQnAaurauWj6deMVtLIG+ZXhlXVucC5k9ZN+QCtqjpokD4NtJJG3kJ51oEkzVsL5RZcSZq3FsSDvyVpPrN0IEkdM9BKUscWyjcsSNK8ZY1WkjrmrANJ6tj4PC8eGGgljTwvhklSx+Z3PmuglbQAmNFKUsc2Zn7ntAZaSSNvfodZA62kBcDSgSR1zOldktSx+R1mDbSSFgBLB5LUsbF5ntMaaCWNPDNaSepYmdFKUrfMaCWpY07vkqSOze8wa6CVtABsnOeh1kAraeR5MUySOubFMEnqmBmtJHXMjFaSOjZWZrSS1Cnn0UpSx6zRSlLHrNFKUsfme+lg0VwPQJI2Vc3iXz9Jlia5Lsm6JMdPsf1dSdYmuTrJPyXZtV+fBlpJI2+sauBlJkkWA6cCBwP7AEck2WdSsyuBF1TVc4BzgA/1G5+BVtLIG6cGXvo4AFhXVeur6kHgbGBZb4Oq+nZVPdC+vRRY0q9TA62kkTc+iyXJ8iSre5blPV3tDNzU835Du246RwPf7Dc+L4ZJGnmzmd5VVSuAFZu6zyRvBl4AvKxfWwOtpJE3xFkHNwO79Lxf0q57hCSvAP4ceFlV/bJfpwZaSSOvhncL7ipgryS70wTYw4E39TZI8jvAZ4ClVXXbIJ0aaCWNvGF93XhVbUxyLHAesBg4rarWJDkJWF1VK4EPA1sDX00C8OOqOnSmfg20kkbeMG9YqKpzgXMnrTuh5/UrZtungVbSyBti6aATBlpJI2++34JroJU08nx6lyR1zAd/S1LHLB1IUscMtJLUMWcdSFLHzGglqWPOOpCkjo3V/P7WMAOtpJFnjVaSOmaNVpI6Zo1Wkjo2bulAkrplRitJHXPWgSR1zNKBJHXM0oEkdcyMVpI6ZkYrSR0bq7G5HsKMDLSSRp634EpSx7wFV5I6ZkYrSR1z1oEkdcxZB5LUMW/BlaSOWaOVpI5Zo5WkjpnRSlLHnEcrSR0zo5WkjjnrQJI65sUwSerYfC8dLJrrAUjSpqpZ/OsnydIk1yVZl+T4KbY/IcmX2+3fS7Jbvz4NtJJGXlUNvMwkyWLgVOBgYB/giCT7TGp2NHB3Ve0JnAKc3G98BlpJI2+8auCljwOAdVW1vqoeBM4Glk1qswz4fPv6HODlSTJTp53UaHc6/8IZdypJw7TxwZsHjjlJlgPLe1atqKoV7eudgZt6tm0ADpzUxa/aVNXGJPcAOwB3TLdPL4ZJekxpg+qKvg2HyNKBJD3sZmCXnvdL2nVTtknyOGA74M6ZOjXQStLDVgF7Jdk9yRbA4cDKSW1WAm9rX/8B8K3qc5XN0oEktdqa67HAecBi4LSqWpPkJGB1Va0EPgd8Ick64C6aYDyjzPeJvtq8ktxfVVsPuc9DgX2q6oNJXgv8sKrWzrKPC4A/q6rVwxybtDlYOlDnqmplVX2wfftamvmJ0mOGgVZTSuPDSa5J8i9JDmvXH5TkgiTnJPlBkv89MYcwyavbdZcn+XiSb7Trj0zyySQvBg4FPpzkqiR7tH29oG23Y5Ib2tdbJTk7ybVJvg5s1TO2VyW5JMkVSb6aZKgZuDRs1mg1ndcBzwV+G9gRWJXkonbb7wD7ArcAFwMvSbIa+Azw0qq6PslZkzusqu8mWQl8o6rOAZhhnvcxwANV9ewkzwGuaNvvCLwPeEVV/SzJe4B3AScN46ClLhhoNZ1/D5xVVWPAT5JcCOwP3AtcVlUbAJJcBewG3A+sr6rr28+fxSMnhc/WS4GPA1TV1Umubte/kKb0cHEbpLcALtmE/UidM9Dq0fhlz+sxNu3/o408XMLacoD2Ac6vqiM2YZ/SZmWNVtP5Z+CwJIuT7ESTYV42Q/vrgGf2PMnosGna3Qds0/P+BuD57es/6Fl/EfAmgCT7Ac9p119KU6rYs932pCR7D3A80pwx0Go6XweuBr4PfAt4d1XdOl3jqvo58EfAPyS5nCag3jNF07OB45JcmWQP4G+AY5JcSVMLnvApYOsk19LUXy9v93M7cCRwVltOuAR41qYcqNQ159FqaJJsXVX3t7MQTgV+VFWnzPW4pLlmRqthent7cWwNzf3fn5nj8UjzghmtJHXMjFaSOmaglaSOGWglqWMGWknqmIFWkjr2/wHsNSUtc7j+DwAAAABJRU5ErkJggg==\n",
                "text/plain": "<Figure size 432x288 with 2 Axes>"
              },
              {
                "output_type": "display_data",
                "metadata": {
                  "tags": [],
                  "needs_background": "light"
                },
                "image/png": "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\n",
                "text/plain": "<Figure size 432x288 with 2 Axes>"
              },
              {
                "output_type": "display_data",
                "metadata": {
                  "tags": [],
                  "needs_background": "light"
                },
                "image/png": "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\n",
                "text/plain": "<Figure size 432x288 with 2 Axes>"
              }
            ],
            "_view_module": "@jupyter-widgets/output",
            "_model_module_version": "1.0.0",
            "_view_count": null,
            "_view_module_version": "1.0.0",
            "layout": "IPY_MODEL_a35eeeeced4a42c9b0455f28907624cd",
            "_model_module": "@jupyter-widgets/output"
          }
        },
        "26bfa8f0644c4957b62d272ee67aaac3": {
          "model_module": "@jupyter-widgets/controls",
          "model_name": "SliderStyleModel",
          "state": {
            "_view_name": "StyleView",
            "handle_color": null,
            "_model_name": "SliderStyleModel",
            "description_width": "",
            "_view_module": "@jupyter-widgets/base",
            "_model_module_version": "1.5.0",
            "_view_count": null,
            "_view_module_version": "1.2.0",
            "_model_module": "@jupyter-widgets/controls"
          }
        },
        "ac4237663e324fe6847de3ec27aebe8c": {
          "model_module": "@jupyter-widgets/base",
          "model_name": "LayoutModel",
          "state": {
            "_view_name": "LayoutView",
            "grid_template_rows": null,
            "right": null,
            "justify_content": null,
            "_view_module": "@jupyter-widgets/base",
            "overflow": null,
            "_model_module_version": "1.2.0",
            "_view_count": null,
            "flex_flow": null,
            "width": null,
            "min_width": null,
            "border": null,
            "align_items": null,
            "bottom": null,
            "_model_module": "@jupyter-widgets/base",
            "top": null,
            "grid_column": null,
            "overflow_y": null,
            "overflow_x": null,
            "grid_auto_flow": null,
            "grid_area": null,
            "grid_template_columns": null,
            "flex": null,
            "_model_name": "LayoutModel",
            "justify_items": null,
            "grid_row": null,
            "max_height": null,
            "align_content": null,
            "visibility": null,
            "align_self": null,
            "height": null,
            "min_height": null,
            "padding": null,
            "grid_auto_rows": null,
            "grid_gap": null,
            "max_width": null,
            "order": null,
            "_view_module_version": "1.2.0",
            "grid_template_areas": null,
            "object_position": null,
            "object_fit": null,
            "grid_auto_columns": null,
            "margin": null,
            "display": null,
            "left": null
          }
        },
        "e534a9b0253b40aaa16404097986cbc4": {
          "model_module": "@jupyter-widgets/controls",
          "model_name": "SliderStyleModel",
          "state": {
            "_view_name": "StyleView",
            "handle_color": null,
            "_model_name": "SliderStyleModel",
            "description_width": "",
            "_view_module": "@jupyter-widgets/base",
            "_model_module_version": "1.5.0",
            "_view_count": null,
            "_view_module_version": "1.2.0",
            "_model_module": "@jupyter-widgets/controls"
          }
        },
        "d72391754ccb404480540cd4bc51a530": {
          "model_module": "@jupyter-widgets/base",
          "model_name": "LayoutModel",
          "state": {
            "_view_name": "LayoutView",
            "grid_template_rows": null,
            "right": null,
            "justify_content": null,
            "_view_module": "@jupyter-widgets/base",
            "overflow": null,
            "_model_module_version": "1.2.0",
            "_view_count": null,
            "flex_flow": null,
            "width": null,
            "min_width": null,
            "border": null,
            "align_items": null,
            "bottom": null,
            "_model_module": "@jupyter-widgets/base",
            "top": null,
            "grid_column": null,
            "overflow_y": null,
            "overflow_x": null,
            "grid_auto_flow": null,
            "grid_area": null,
            "grid_template_columns": null,
            "flex": null,
            "_model_name": "LayoutModel",
            "justify_items": null,
            "grid_row": null,
            "max_height": null,
            "align_content": null,
            "visibility": null,
            "align_self": null,
            "height": null,
            "min_height": null,
            "padding": null,
            "grid_auto_rows": null,
            "grid_gap": null,
            "max_width": null,
            "order": null,
            "_view_module_version": "1.2.0",
            "grid_template_areas": null,
            "object_position": null,
            "object_fit": null,
            "grid_auto_columns": null,
            "margin": null,
            "display": null,
            "left": null
          }
        },
        "a35eeeeced4a42c9b0455f28907624cd": {
          "model_module": "@jupyter-widgets/base",
          "model_name": "LayoutModel",
          "state": {
            "_view_name": "LayoutView",
            "grid_template_rows": null,
            "right": null,
            "justify_content": null,
            "_view_module": "@jupyter-widgets/base",
            "overflow": null,
            "_model_module_version": "1.2.0",
            "_view_count": null,
            "flex_flow": null,
            "width": null,
            "min_width": null,
            "border": null,
            "align_items": null,
            "bottom": null,
            "_model_module": "@jupyter-widgets/base",
            "top": null,
            "grid_column": null,
            "overflow_y": null,
            "overflow_x": null,
            "grid_auto_flow": null,
            "grid_area": null,
            "grid_template_columns": null,
            "flex": null,
            "_model_name": "LayoutModel",
            "justify_items": null,
            "grid_row": null,
            "max_height": null,
            "align_content": null,
            "visibility": null,
            "align_self": null,
            "height": null,
            "min_height": null,
            "padding": null,
            "grid_auto_rows": null,
            "grid_gap": null,
            "max_width": null,
            "order": null,
            "_view_module_version": "1.2.0",
            "grid_template_areas": null,
            "object_position": null,
            "object_fit": null,
            "grid_auto_columns": null,
            "margin": null,
            "display": null,
            "left": null
          }
        },
        "8008023b4f594171937124b79a042597": {
          "model_module": "@jupyter-widgets/controls",
          "model_name": "VBoxModel",
          "state": {
            "_view_name": "VBoxView",
            "_dom_classes": [
              "widget-interact"
            ],
            "_model_name": "VBoxModel",
            "_view_module": "@jupyter-widgets/controls",
            "_model_module_version": "1.5.0",
            "_view_count": null,
            "_view_module_version": "1.5.0",
            "box_style": "",
            "layout": "IPY_MODEL_11e3d86a493e47d8be0b8f74fb77f578",
            "_model_module": "@jupyter-widgets/controls",
            "children": [
              "IPY_MODEL_c780736eda7c4e7980011a56fe543132",
              "IPY_MODEL_82c8ac238a28404ca0ec052416e0fd0a",
              "IPY_MODEL_6b7e871d33bf483b9f0cd308dd0706e4"
            ]
          }
        },
        "11e3d86a493e47d8be0b8f74fb77f578": {
          "model_module": "@jupyter-widgets/base",
          "model_name": "LayoutModel",
          "state": {
            "_view_name": "LayoutView",
            "grid_template_rows": null,
            "right": null,
            "justify_content": null,
            "_view_module": "@jupyter-widgets/base",
            "overflow": null,
            "_model_module_version": "1.2.0",
            "_view_count": null,
            "flex_flow": null,
            "width": null,
            "min_width": null,
            "border": null,
            "align_items": null,
            "bottom": null,
            "_model_module": "@jupyter-widgets/base",
            "top": null,
            "grid_column": null,
            "overflow_y": null,
            "overflow_x": null,
            "grid_auto_flow": null,
            "grid_area": null,
            "grid_template_columns": null,
            "flex": null,
            "_model_name": "LayoutModel",
            "justify_items": null,
            "grid_row": null,
            "max_height": null,
            "align_content": null,
            "visibility": null,
            "align_self": null,
            "height": null,
            "min_height": null,
            "padding": null,
            "grid_auto_rows": null,
            "grid_gap": null,
            "max_width": null,
            "order": null,
            "_view_module_version": "1.2.0",
            "grid_template_areas": null,
            "object_position": null,
            "object_fit": null,
            "grid_auto_columns": null,
            "margin": null,
            "display": null,
            "left": null
          }
        },
        "c780736eda7c4e7980011a56fe543132": {
          "model_module": "@jupyter-widgets/controls",
          "model_name": "IntSliderModel",
          "state": {
            "_view_name": "IntSliderView",
            "style": "IPY_MODEL_03a9fe0adb704add8e8baa6d8033db50",
            "_dom_classes": [],
            "description": "max_depth",
            "step": 1,
            "_model_name": "IntSliderModel",
            "orientation": "horizontal",
            "max": 6,
            "_view_module": "@jupyter-widgets/controls",
            "_model_module_version": "1.5.0",
            "value": 1,
            "_view_count": null,
            "disabled": false,
            "_view_module_version": "1.5.0",
            "min": 1,
            "continuous_update": true,
            "readout_format": "d",
            "description_tooltip": null,
            "readout": true,
            "_model_module": "@jupyter-widgets/controls",
            "layout": "IPY_MODEL_1e40a1f65df24015a348d12fc0df8f1d"
          }
        },
        "82c8ac238a28404ca0ec052416e0fd0a": {
          "model_module": "@jupyter-widgets/controls",
          "model_name": "IntSliderModel",
          "state": {
            "_view_name": "IntSliderView",
            "style": "IPY_MODEL_ca84c75babc841538bb7a32da1b48c2f",
            "_dom_classes": [],
            "description": "n_estimators",
            "step": 1,
            "_model_name": "IntSliderModel",
            "orientation": "horizontal",
            "max": 5,
            "_view_module": "@jupyter-widgets/controls",
            "_model_module_version": "1.5.0",
            "value": 2,
            "_view_count": null,
            "disabled": false,
            "_view_module_version": "1.5.0",
            "min": 2,
            "continuous_update": true,
            "readout_format": "d",
            "description_tooltip": null,
            "readout": true,
            "_model_module": "@jupyter-widgets/controls",
            "layout": "IPY_MODEL_a1304aa6fd024221b84a2ac9419bf1e2"
          }
        },
        "6b7e871d33bf483b9f0cd308dd0706e4": {
          "model_module": "@jupyter-widgets/output",
          "model_name": "OutputModel",
          "state": {
            "_view_name": "OutputView",
            "msg_id": "",
            "_dom_classes": [],
            "_model_name": "OutputModel",
            "outputs": [
              {
                "output_type": "display_data",
                "metadata": {
                  "tags": [],
                  "needs_background": "light"
                },
                "image/png": "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\n",
                "text/plain": "<Figure size 432x288 with 2 Axes>"
              },
              {
                "output_type": "display_data",
                "metadata": {
                  "tags": [],
                  "needs_background": "light"
                },
                "image/png": "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\n",
                "text/plain": "<Figure size 432x288 with 2 Axes>"
              },
              {
                "output_type": "display_data",
                "metadata": {
                  "tags": [],
                  "needs_background": "light"
                },
                "image/png": "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\n",
                "text/plain": "<Figure size 432x288 with 2 Axes>"
              }
            ],
            "_view_module": "@jupyter-widgets/output",
            "_model_module_version": "1.0.0",
            "_view_count": null,
            "_view_module_version": "1.0.0",
            "layout": "IPY_MODEL_835d85d01233478db266565741abb25b",
            "_model_module": "@jupyter-widgets/output"
          }
        },
        "03a9fe0adb704add8e8baa6d8033db50": {
          "model_module": "@jupyter-widgets/controls",
          "model_name": "SliderStyleModel",
          "state": {
            "_view_name": "StyleView",
            "handle_color": null,
            "_model_name": "SliderStyleModel",
            "description_width": "",
            "_view_module": "@jupyter-widgets/base",
            "_model_module_version": "1.5.0",
            "_view_count": null,
            "_view_module_version": "1.2.0",
            "_model_module": "@jupyter-widgets/controls"
          }
        },
        "1e40a1f65df24015a348d12fc0df8f1d": {
          "model_module": "@jupyter-widgets/base",
          "model_name": "LayoutModel",
          "state": {
            "_view_name": "LayoutView",
            "grid_template_rows": null,
            "right": null,
            "justify_content": null,
            "_view_module": "@jupyter-widgets/base",
            "overflow": null,
            "_model_module_version": "1.2.0",
            "_view_count": null,
            "flex_flow": null,
            "width": null,
            "min_width": null,
            "border": null,
            "align_items": null,
            "bottom": null,
            "_model_module": "@jupyter-widgets/base",
            "top": null,
            "grid_column": null,
            "overflow_y": null,
            "overflow_x": null,
            "grid_auto_flow": null,
            "grid_area": null,
            "grid_template_columns": null,
            "flex": null,
            "_model_name": "LayoutModel",
            "justify_items": null,
            "grid_row": null,
            "max_height": null,
            "align_content": null,
            "visibility": null,
            "align_self": null,
            "height": null,
            "min_height": null,
            "padding": null,
            "grid_auto_rows": null,
            "grid_gap": null,
            "max_width": null,
            "order": null,
            "_view_module_version": "1.2.0",
            "grid_template_areas": null,
            "object_position": null,
            "object_fit": null,
            "grid_auto_columns": null,
            "margin": null,
            "display": null,
            "left": null
          }
        },
        "ca84c75babc841538bb7a32da1b48c2f": {
          "model_module": "@jupyter-widgets/controls",
          "model_name": "SliderStyleModel",
          "state": {
            "_view_name": "StyleView",
            "handle_color": null,
            "_model_name": "SliderStyleModel",
            "description_width": "",
            "_view_module": "@jupyter-widgets/base",
            "_model_module_version": "1.5.0",
            "_view_count": null,
            "_view_module_version": "1.2.0",
            "_model_module": "@jupyter-widgets/controls"
          }
        },
        "a1304aa6fd024221b84a2ac9419bf1e2": {
          "model_module": "@jupyter-widgets/base",
          "model_name": "LayoutModel",
          "state": {
            "_view_name": "LayoutView",
            "grid_template_rows": null,
            "right": null,
            "justify_content": null,
            "_view_module": "@jupyter-widgets/base",
            "overflow": null,
            "_model_module_version": "1.2.0",
            "_view_count": null,
            "flex_flow": null,
            "width": null,
            "min_width": null,
            "border": null,
            "align_items": null,
            "bottom": null,
            "_model_module": "@jupyter-widgets/base",
            "top": null,
            "grid_column": null,
            "overflow_y": null,
            "overflow_x": null,
            "grid_auto_flow": null,
            "grid_area": null,
            "grid_template_columns": null,
            "flex": null,
            "_model_name": "LayoutModel",
            "justify_items": null,
            "grid_row": null,
            "max_height": null,
            "align_content": null,
            "visibility": null,
            "align_self": null,
            "height": null,
            "min_height": null,
            "padding": null,
            "grid_auto_rows": null,
            "grid_gap": null,
            "max_width": null,
            "order": null,
            "_view_module_version": "1.2.0",
            "grid_template_areas": null,
            "object_position": null,
            "object_fit": null,
            "grid_auto_columns": null,
            "margin": null,
            "display": null,
            "left": null
          }
        },
        "835d85d01233478db266565741abb25b": {
          "model_module": "@jupyter-widgets/base",
          "model_name": "LayoutModel",
          "state": {
            "_view_name": "LayoutView",
            "grid_template_rows": null,
            "right": null,
            "justify_content": null,
            "_view_module": "@jupyter-widgets/base",
            "overflow": null,
            "_model_module_version": "1.2.0",
            "_view_count": null,
            "flex_flow": null,
            "width": null,
            "min_width": null,
            "border": null,
            "align_items": null,
            "bottom": null,
            "_model_module": "@jupyter-widgets/base",
            "top": null,
            "grid_column": null,
            "overflow_y": null,
            "overflow_x": null,
            "grid_auto_flow": null,
            "grid_area": null,
            "grid_template_columns": null,
            "flex": null,
            "_model_name": "LayoutModel",
            "justify_items": null,
            "grid_row": null,
            "max_height": null,
            "align_content": null,
            "visibility": null,
            "align_self": null,
            "height": null,
            "min_height": null,
            "padding": null,
            "grid_auto_rows": null,
            "grid_gap": null,
            "max_width": null,
            "order": null,
            "_view_module_version": "1.2.0",
            "grid_template_areas": null,
            "object_position": null,
            "object_fit": null,
            "grid_auto_columns": null,
            "margin": null,
            "display": null,
            "left": null
          }
        }
      }
    }
  },
  "cells": [
    {
      "cell_type": "markdown",
      "metadata": {
        "id": "view-in-github",
        "colab_type": "text"
      },
      "source": [
        "<a href=\"https://colab.research.google.com/github/John-G-Thomas/DS-Unit-2-Kaggle-Challenge/blob/master/module2-random-forests/LS_DS_222.ipynb\" target=\"_parent\"><img src=\"https://colab.research.google.com/assets/colab-badge.svg\" alt=\"Open In Colab\"/></a>"
      ]
    },
    {
      "cell_type": "markdown",
      "metadata": {
        "colab_type": "text",
        "id": "UEHyIgGaaSEJ"
      },
      "source": [
        "Lambda School Data Science\n",
        "\n",
        "*Unit 2, Sprint 2, Module 2*\n",
        "\n",
        "---"
      ]
    },
    {
      "cell_type": "markdown",
      "metadata": {
        "colab_type": "text",
        "id": "mRfPLX4WgLVJ"
      },
      "source": [
        "# Random Forests"
      ]
    },
    {
      "cell_type": "markdown",
      "metadata": {
        "colab_type": "text",
        "id": "jRRNhkxcgLVK"
      },
      "source": [
        "- use scikit-learn for **random forests**\n",
        "- do **ordinal encoding** with high-cardinality categoricals\n",
        "- understand how categorical encodings affect trees differently compared to linear models\n",
        "- understand how tree ensembles reduce overfitting compared to a single decision tree with unlimited depth"
      ]
    },
    {
      "cell_type": "markdown",
      "metadata": {
        "colab_type": "text",
        "id": "-3TH11e1gLVL"
      },
      "source": [
        "Today's lesson has two take-away messages:\n",
        "\n",
        "#### Try Tree Ensembles when you do machine learning with labeled, tabular data\n",
        "- \"Tree Ensembles\" means Random Forest or Gradient Boosting models. \n",
        "- [Tree Ensembles often have the best predictive accuracy](https://arxiv.org/abs/1708.05070) with labeled, tabular data.\n",
        "- Why? Because trees can fit non-linear, non-[monotonic](https://en.wikipedia.org/wiki/Monotonic_function) relationships, and [interactions](https://christophm.github.io/interpretable-ml-book/interaction.html) between features.\n",
        "- A single decision tree, grown to unlimited depth, will [overfit](http://www.r2d3.us/visual-intro-to-machine-learning-part-1/). We solve this problem by ensembling trees, with bagging (Random Forest) or boosting (Gradient Boosting).\n",
        "- Random Forest's advantage: may be less sensitive to hyperparameters. Gradient Boosting's advantage: may get better predictive accuracy.\n",
        "\n",
        "#### One-hot encoding isn’t the only way, and may not be the best way, of categorical encoding for tree ensembles.\n",
        "- For example, tree ensembles can work with arbitrary \"ordinal\" encoding! (Randomly assigning an integer to each category.) Compared to one-hot encoding, the dimensionality will be lower, and the predictive accuracy may be just as good or even better.\n"
      ]
    },
    {
      "cell_type": "markdown",
      "metadata": {
        "colab_type": "text",
        "id": "r5PbOFEuFfGF"
      },
      "source": [
        "### Setup\n",
        "\n",
        "Run the code cell below. You can work locally (follow the [local setup instructions](https://lambdaschool.github.io/ds/unit2/local/)) or on Colab.\n",
        "\n",
        "Libraries\n",
        "\n",
        "- **category_encoders** \n",
        "- **graphviz**\n",
        "- ipywidgets\n",
        "- matplotlib\n",
        "- numpy\n",
        "- pandas\n",
        "- seaborn\n",
        "- scikit-learn"
      ]
    },
    {
      "cell_type": "code",
      "metadata": {
        "colab_type": "code",
        "id": "FStAplyRFoEu",
        "colab": {}
      },
      "source": [
        "%%capture\n",
        "import sys\n",
        "\n",
        "# If you're on Colab:\n",
        "if 'google.colab' in sys.modules:\n",
        "    DATA_PATH = 'https://raw.githubusercontent.com/LambdaSchool/DS-Unit-2-Kaggle-Challenge/master/data/'\n",
        "    !pip install category_encoders==2.*\n",
        "\n",
        "# If you're working locally:\n",
        "else:\n",
        "    DATA_PATH = '../data/'"
      ],
      "execution_count": 53,
      "outputs": []
    },
    {
      "cell_type": "markdown",
      "metadata": {
        "colab_type": "text",
        "id": "ZL-yK8B7gLVW"
      },
      "source": [
        "# Use scikit-learn for random forests"
      ]
    },
    {
      "cell_type": "markdown",
      "metadata": {
        "id": "E1xsazz7BtC3",
        "colab_type": "text"
      },
      "source": [
        "## Overview\n",
        "\n",
        "Let's fit a Random Forest!\n",
        "\n",
        "![](https://pbs.twimg.com/media/EGSvKA0UUAEzUZi?format=png)\n",
        "\n",
        "[Chris Albon, MachineLearningFlashcards.com](https://twitter.com/chrisalbon/status/1181261589887909889)"
      ]
    },
    {
      "cell_type": "markdown",
      "metadata": {
        "colab_type": "text",
        "id": "gHFxMCPSgLVM"
      },
      "source": [
        "### Solution example\n",
        "\n",
        "First, read & wrangle the data.\n",
        "\n",
        "> Define a function to wrangle train, validate, and test sets in the same way. Clean outliers and engineer features. (For example, [what other columns have zeros and shouldn't?](https://github.com/Quartz/bad-data-guide#zeros-replace-missing-values) What other columns are duplicates, or nearly duplicates? Can you extract the year from date_recorded? Can you engineer new features, such as the number of years from waterpump construction to waterpump inspection?)"
      ]
    },
    {
      "cell_type": "code",
      "metadata": {
        "colab_type": "code",
        "id": "YTLm-rDagLVM",
        "colab": {}
      },
      "source": [
        "import numpy as np\n",
        "import pandas as pd\n",
        "from sklearn.model_selection import train_test_split\n",
        "\n",
        "# Merge train_features.csv & train_labels.csv\n",
        "train = pd.merge(pd.read_csv(DATA_PATH+'waterpumps/train_features.csv'), \n",
        "                 pd.read_csv(DATA_PATH+'waterpumps/train_labels.csv'))\n",
        "\n",
        "# Read test_features.csv & sample_submission.csv\n",
        "test = pd.read_csv(DATA_PATH+'waterpumps/test_features.csv')\n",
        "sample_submission = pd.read_csv(DATA_PATH+'waterpumps/sample_submission.csv')\n",
        "\n",
        "# Split train into train & val\n",
        "train, val = train_test_split(train, train_size=0.80, test_size=0.20, \n",
        "                              stratify=train['status_group'], random_state=42)\n",
        "\n",
        "\n",
        "def wrangle(X):\n",
        "    \"\"\"Wrangle train, validate, and test sets in the same way\"\"\"\n",
        "    \n",
        "    # Prevent SettingWithCopyWarning\n",
        "    X = X.copy()\n",
        "    \n",
        "    # About 3% of the time, latitude has small values near zero,\n",
        "    # outside Tanzania, so we'll treat these values like zero.\n",
        "    X['latitude'] = X['latitude'].replace(-2e-08, 0)\n",
        "    \n",
        "    # When columns have zeros and shouldn't, they are like null values.\n",
        "    # So we will replace the zeros with nulls, and impute missing values later.\n",
        "    # Also create a \"missing indicator\" column, because the fact that\n",
        "    # values are missing may be a predictive signal.\n",
        "    cols_with_zeros = ['longitude', 'latitude', 'construction_year', \n",
        "                       'gps_height', 'population']\n",
        "    for col in cols_with_zeros:\n",
        "        X[col] = X[col].replace(0, np.nan)\n",
        "        X[col+'_MISSING'] = X[col].isnull()\n",
        "            \n",
        "    # Drop duplicate columns\n",
        "    duplicates = ['quantity_group', 'payment_type']\n",
        "    X = X.drop(columns=duplicates)\n",
        "    \n",
        "    # Drop recorded_by (never varies) and id (always varies, random)\n",
        "    unusable_variance = ['recorded_by', 'id']\n",
        "    X = X.drop(columns=unusable_variance)\n",
        "    \n",
        "    # Convert date_recorded to datetime\n",
        "    X['date_recorded'] = pd.to_datetime(X['date_recorded'], infer_datetime_format=True)\n",
        "    \n",
        "    # Extract components from date_recorded, then drop the original column\n",
        "    X['year_recorded'] = X['date_recorded'].dt.year\n",
        "    X['month_recorded'] = X['date_recorded'].dt.month\n",
        "    X['day_recorded'] = X['date_recorded'].dt.day\n",
        "    X = X.drop(columns='date_recorded')\n",
        "    \n",
        "    # Engineer feature: how many years from construction_year to date_recorded\n",
        "    X['years'] = X['year_recorded'] - X['construction_year']\n",
        "    X['years_MISSING'] = X['years'].isnull()\n",
        "    \n",
        "    # return the wrangled dataframe\n",
        "    return X\n",
        "\n",
        "train = wrangle(train)\n",
        "val = wrangle(val)\n",
        "test = wrangle(test)"
      ],
      "execution_count": 54,
      "outputs": []
    },
    {
      "cell_type": "code",
      "metadata": {
        "colab_type": "code",
        "id": "m2HppBvZgLVP",
        "colab": {}
      },
      "source": [
        "# The status_group column is the target\n",
        "target = 'status_group'\n",
        "\n",
        "# Get a dataframe with all train columns except the target\n",
        "train_features = train.drop(columns=[target])\n",
        "\n",
        "# Get a list of the numeric features\n",
        "numeric_features = train_features.select_dtypes(include='number').columns.tolist()\n",
        "\n",
        "# Get a series with the cardinality of the nonnumeric features\n",
        "cardinality = train_features.select_dtypes(exclude='number').nunique()\n",
        "\n",
        "# Get a list of all categorical features with cardinality <= 50\n",
        "categorical_features = cardinality[cardinality <= 50].index.tolist()\n",
        "\n",
        "# Combine the lists \n",
        "features = numeric_features + categorical_features"
      ],
      "execution_count": 55,
      "outputs": []
    },
    {
      "cell_type": "code",
      "metadata": {
        "colab_type": "code",
        "id": "aXmK2brXgLVR",
        "colab": {}
      },
      "source": [
        "# Arrange data into X features matrix and y target vector \n",
        "X_train = train[features]\n",
        "y_train = train[target]\n",
        "X_val = val[features]\n",
        "y_val = val[target]\n",
        "X_test = test[features]"
      ],
      "execution_count": 56,
      "outputs": []
    },
    {
      "cell_type": "markdown",
      "metadata": {
        "id": "WQwrzPlxBtDB",
        "colab_type": "text"
      },
      "source": [
        "## Follow Along\n",
        "\n",
        "[Scikit-Learn User Guide: Random Forests](https://scikit-learn.org/stable/modules/ensemble.html#random-forests) "
      ]
    },
    {
      "cell_type": "code",
      "metadata": {
        "colab_type": "code",
        "id": "57yyygsdgLVW",
        "colab": {}
      },
      "source": [
        "# TODO\n",
        "from sklearn.tree import DecisionTreeClassifier\n",
        "from sklearn.ensemble import RandomForestClassifier\n",
        "from sklearn.pipeline import Pipeline\n",
        "from sklearn.feature_selection import SelectKBest\n",
        "from category_encoders import OneHotEncoder, OrdinalEncoder\n",
        "from sklearn.impute import SimpleImputer"
      ],
      "execution_count": 57,
      "outputs": []
    },
    {
      "cell_type": "code",
      "metadata": {
        "id": "G9-kan7pN5Xf",
        "colab_type": "code",
        "colab": {}
      },
      "source": [
        "model = Pipeline([\n",
        "                  ('ohe', OneHotEncoder()),\n",
        "                  ('impute', SimpleImputer()),\n",
        "                  ('classifier', DecisionTreeClassifier())\n",
        "])"
      ],
      "execution_count": 58,
      "outputs": []
    },
    {
      "cell_type": "code",
      "metadata": {
        "id": "gKt4jhq-OOF-",
        "colab_type": "code",
        "colab": {
          "base_uri": "https://localhost:8080/",
          "height": 84
        },
        "outputId": "36f9be97-17ef-47c2-9f8e-1839e0884603"
      },
      "source": [
        "%%time\n",
        "model.fit(X_train, y_train)\n",
        "\n",
        "print('training accuracy:', model.score(X_train, y_train))\n",
        "print('validation accuracy:', model.score(X_val, y_val))"
      ],
      "execution_count": 59,
      "outputs": [
        {
          "output_type": "stream",
          "text": [
            "training accuracy: 0.9979377104377104\n",
            "validation accuracy: 0.7547138047138047\n",
            "CPU times: user 6.2 s, sys: 95.6 ms, total: 6.29 s\n",
            "Wall time: 6.31 s\n"
          ],
          "name": "stdout"
        }
      ]
    },
    {
      "cell_type": "code",
      "metadata": {
        "id": "k6WcWJdfPgwI",
        "colab_type": "code",
        "colab": {
          "base_uri": "https://localhost:8080/",
          "height": 84
        },
        "outputId": "e6682460-001a-450c-e6f2-b95f83cae5f8"
      },
      "source": [
        "%%time\n",
        "model = Pipeline([\n",
        "                  ('ohe', OneHotEncoder()),\n",
        "                  ('impute', SimpleImputer()),\n",
        "                  ('select', SelectKBest(k=20)),\n",
        "                  ('classifier', DecisionTreeClassifier())\n",
        "])\n",
        "\n",
        "model.fit(X_train, y_train)\n",
        "\n",
        "print('training accuracy:', model.score(X_train, y_train))\n",
        "print('validation accuracy:', model.score(X_val, y_val))"
      ],
      "execution_count": 60,
      "outputs": [
        {
          "output_type": "stream",
          "text": [
            "training accuracy: 0.7683080808080808\n",
            "validation accuracy: 0.7398148148148148\n",
            "CPU times: user 4.63 s, sys: 89.9 ms, total: 4.72 s\n",
            "Wall time: 4.73 s\n"
          ],
          "name": "stdout"
        }
      ]
    },
    {
      "cell_type": "code",
      "metadata": {
        "id": "gwptatvXPDUF",
        "colab_type": "code",
        "colab": {
          "base_uri": "https://localhost:8080/",
          "height": 34
        },
        "outputId": "722ca8d1-7db6-48cb-e2bb-239b0826050e"
      },
      "source": [
        "model.named_steps['classifier'].get_depth()"
      ],
      "execution_count": 61,
      "outputs": [
        {
          "output_type": "execute_result",
          "data": {
            "text/plain": [
              "27"
            ]
          },
          "metadata": {
            "tags": []
          },
          "execution_count": 61
        }
      ]
    },
    {
      "cell_type": "code",
      "metadata": {
        "id": "ulDnFHlpQ_jo",
        "colab_type": "code",
        "colab": {
          "base_uri": "https://localhost:8080/",
          "height": 34
        },
        "outputId": "1f235443-b9a8-4e8d-8124-7c43eee8e0c9"
      },
      "source": [
        "model.named_steps['classifier'].get_depth()"
      ],
      "execution_count": 62,
      "outputs": [
        {
          "output_type": "execute_result",
          "data": {
            "text/plain": [
              "27"
            ]
          },
          "metadata": {
            "tags": []
          },
          "execution_count": 62
        }
      ]
    },
    {
      "cell_type": "code",
      "metadata": {
        "id": "NfyXD36mR6G6",
        "colab_type": "code",
        "colab": {
          "base_uri": "https://localhost:8080/",
          "height": 50
        },
        "outputId": "fc1e1f6b-efa3-4a83-8b9a-6ea5f22164f8"
      },
      "source": [
        "ohe = model.named_steps['ohe']\n",
        "X_trans = ohe.transform(X_train)\n",
        "print(X_train.shape)\n",
        "print(X_trans.shape)"
      ],
      "execution_count": 63,
      "outputs": [
        {
          "output_type": "stream",
          "text": [
            "(47520, 38)\n",
            "(47520, 182)\n"
          ],
          "name": "stdout"
        }
      ]
    },
    {
      "cell_type": "code",
      "metadata": {
        "id": "bABZnP1EUDcR",
        "colab_type": "code",
        "colab": {
          "base_uri": "https://localhost:8080/",
          "height": 84
        },
        "outputId": "f251bea0-beee-49a6-a1cd-9fc081a2b0c8"
      },
      "source": [
        "%%time\n",
        "model = Pipeline([\n",
        "                  ('ohe', OrdinalEncoder()),\n",
        "                  ('impute', SimpleImputer()),\n",
        "                  ('classifier', DecisionTreeClassifier())\n",
        "])\n",
        "\n",
        "model.fit(X_train, y_train)\n",
        "\n",
        "print('training accuracy:', model.score(X_train, y_train))\n",
        "print('validation accuracy:', model.score(X_val, y_val))"
      ],
      "execution_count": 64,
      "outputs": [
        {
          "output_type": "stream",
          "text": [
            "training accuracy: 0.9979377104377104\n",
            "validation accuracy: 0.7503367003367003\n",
            "CPU times: user 1.93 s, sys: 11.8 ms, total: 1.94 s\n",
            "Wall time: 1.94 s\n"
          ],
          "name": "stdout"
        }
      ]
    },
    {
      "cell_type": "code",
      "metadata": {
        "id": "XEm8JLTCWeBL",
        "colab_type": "code",
        "colab": {
          "base_uri": "https://localhost:8080/",
          "height": 84
        },
        "outputId": "0832dcd7-f835-4446-abd8-0d7b0c946a73"
      },
      "source": [
        "%%time\n",
        "model = Pipeline([\n",
        "                  ('ohe', OneHotEncoder()),\n",
        "                  ('impute', SimpleImputer()),\n",
        "                  ('classifier', RandomForestClassifier(n_jobs=-1))\n",
        "])\n",
        "\n",
        "model.fit(X_train, y_train)\n",
        "\n",
        "print('training accuracy:', model.score(X_train, y_train))\n",
        "print('validation accuracy:', model.score(X_val, y_val))"
      ],
      "execution_count": 65,
      "outputs": [
        {
          "output_type": "stream",
          "text": [
            "training accuracy: 0.9978745791245791\n",
            "validation accuracy: 0.8082491582491582\n",
            "CPU times: user 25.3 s, sys: 318 ms, total: 25.6 s\n",
            "Wall time: 15.4 s\n"
          ],
          "name": "stdout"
        }
      ]
    },
    {
      "cell_type": "markdown",
      "metadata": {
        "colab_type": "text",
        "id": "yfyk_aa5gLVY"
      },
      "source": [
        "# Do ordinal encoding with high-cardinality categoricals"
      ]
    },
    {
      "cell_type": "markdown",
      "metadata": {
        "id": "UxtCY11gBtDG",
        "colab_type": "text"
      },
      "source": [
        "## Overview\n",
        "\n",
        "https://contrib.scikit-learn.org/category_encoders/ordinal.html"
      ]
    },
    {
      "cell_type": "markdown",
      "metadata": {
        "id": "Hp2VoefdBtDG",
        "colab_type": "text"
      },
      "source": [
        "## Follow Along"
      ]
    },
    {
      "cell_type": "code",
      "metadata": {
        "colab_type": "code",
        "id": "b8d_WJtcgLVZ",
        "colab": {}
      },
      "source": [
        "# TODO"
      ],
      "execution_count": 66,
      "outputs": []
    },
    {
      "cell_type": "markdown",
      "metadata": {
        "colab_type": "text",
        "id": "xs2UPoVdgLVp"
      },
      "source": [
        "# Understand how categorical encodings affect trees differently compared to linear models"
      ]
    },
    {
      "cell_type": "markdown",
      "metadata": {
        "id": "98S2I4etBtDK",
        "colab_type": "text"
      },
      "source": [
        "## Follow Along"
      ]
    },
    {
      "cell_type": "markdown",
      "metadata": {
        "colab_type": "text",
        "id": "z8V-A92mgLVp"
      },
      "source": [
        "### Categorical exploration, 1 feature at a time\n",
        "\n",
        "Change `feature`, then re-run these cells!"
      ]
    },
    {
      "cell_type": "code",
      "metadata": {
        "colab_type": "code",
        "id": "G35RAzVdgLVq",
        "colab": {}
      },
      "source": [
        "feature = 'extraction_type_class'"
      ],
      "execution_count": 67,
      "outputs": []
    },
    {
      "cell_type": "code",
      "metadata": {
        "colab_type": "code",
        "id": "OuxHWiH8gLVr",
        "colab": {
          "base_uri": "https://localhost:8080/",
          "height": 151
        },
        "outputId": "bec48b9f-6248-47fc-8d4c-03d9c0a01f68"
      },
      "source": [
        "X_train[feature].value_counts()"
      ],
      "execution_count": 68,
      "outputs": [
        {
          "output_type": "execute_result",
          "data": {
            "text/plain": [
              "gravity         21448\n",
              "handpump        13184\n",
              "other            5193\n",
              "submersible      4894\n",
              "motorpump        2355\n",
              "rope pump         353\n",
              "wind-powered       93\n",
              "Name: extraction_type_class, dtype: int64"
            ]
          },
          "metadata": {
            "tags": []
          },
          "execution_count": 68
        }
      ]
    },
    {
      "cell_type": "code",
      "metadata": {
        "id": "HctGcH9QdAbQ",
        "colab_type": "code",
        "colab": {}
      },
      "source": [
        "import matplotlib.pyplot as plt"
      ],
      "execution_count": 69,
      "outputs": []
    },
    {
      "cell_type": "code",
      "metadata": {
        "colab_type": "code",
        "id": "pVxoC4NngLVt",
        "colab": {
          "base_uri": "https://localhost:8080/",
          "height": 434
        },
        "outputId": "32c4087b-f419-49ef-bedd-e3b5d04b5afa"
      },
      "source": [
        "import seaborn as sns\n",
        "plt.figure(figsize=(16,9))\n",
        "sns.barplot(\n",
        "    x=train[feature], \n",
        "    y=train['status_group']=='functional', \n",
        "    color='grey'\n",
        ");"
      ],
      "execution_count": 70,
      "outputs": [
        {
          "output_type": "display_data",
          "data": {
            "image/png": "[encoded data removed]",
            "text/plain": [
              "<Figure size 1152x648 with 1 Axes>"
            ]
          },
          "metadata": {
            "tags": [],
            "needs_background": "light"
          }
        }
      ]
    },
    {
      "cell_type": "code",
      "metadata": {
        "colab_type": "code",
        "id": "w99mek14gLVv",
        "colab": {
          "base_uri": "https://localhost:8080/",
          "height": 370
        },
        "outputId": "04f80999-ed31-4ab5-c916-9c17f5732cf5"
      },
      "source": [
        "X_train[feature].head(20)"
      ],
      "execution_count": 71,
      "outputs": [
        {
          "output_type": "execute_result",
          "data": {
            "text/plain": [
              "43360        gravity\n",
              "7263         gravity\n",
              "2486        handpump\n",
              "313            other\n",
              "52726      motorpump\n",
              "8558         gravity\n",
              "2559         gravity\n",
              "54735      motorpump\n",
              "25763       handpump\n",
              "44540    submersible\n",
              "28603          other\n",
              "4372     submersible\n",
              "30666        gravity\n",
              "6431     submersible\n",
              "57420          other\n",
              "1373         gravity\n",
              "2026         gravity\n",
              "58977       handpump\n",
              "41101        gravity\n",
              "10019        gravity\n",
              "Name: extraction_type_class, dtype: object"
            ]
          },
          "metadata": {
            "tags": []
          },
          "execution_count": 71
        }
      ]
    },
    {
      "cell_type": "code",
      "metadata": {
        "id": "MkfDPY6BfKZK",
        "colab_type": "code",
        "colab": {}
      },
      "source": [
        "import numpy as np\n",
        "import category_encoders as ce\n",
        "from sklearn.impute import SimpleImputer\n",
        "from sklearn.tree import DecisionTreeClassifier\n",
        "from sklearn.pipeline import make_pipeline\n",
        "from sklearn.preprocessing import StandardScaler\n",
        "import matplotlib.pyplot as plt\n",
        "import category_encoders as ce\n",
        "from sklearn.ensemble import RandomForestClassifier\n",
        "from sklearn.impute import SimpleImputer\n",
        "from sklearn.pipeline import make_pipeline\n",
        "from sklearn.decomposition import PCA"
      ],
      "execution_count": 89,
      "outputs": []
    },
    {
      "cell_type": "markdown",
      "metadata": {
        "colab_type": "text",
        "id": "ezzK2IdbgLVx"
      },
      "source": [
        "### [One Hot Encoding](https://contrib.scikit-learn.org/category_encoders/onehot.html)\n",
        "\n",
        "> Onehot (or dummy) coding for categorical features, produces one feature per category, each binary.\n",
        "\n",
        "Warning: May run slow, or run out of memory, with high cardinality categoricals!"
      ]
    },
    {
      "cell_type": "code",
      "metadata": {
        "colab_type": "code",
        "id": "HDQZtV6GgLVy",
        "colab": {
          "base_uri": "https://localhost:8080/",
          "height": 693
        },
        "outputId": "b2da7a75-f2dc-43d2-d6d0-d0ff532f364f"
      },
      "source": [
        "encoder = ce.OneHotEncoder(use_cat_names=True)\n",
        "encoded = encoder.fit_transform(X_train[[feature]])\n",
        "print(f'{len(encoded.columns)} columns')\n",
        "encoded.head(20)"
      ],
      "execution_count": 90,
      "outputs": [
        {
          "output_type": "stream",
          "text": [
            "7 columns\n"
          ],
          "name": "stdout"
        },
        {
          "output_type": "execute_result",
          "data": {
            "text/html": [
              "<div>\n",
              "<style scoped>\n",
              "    .dataframe tbody tr th:only-of-type {\n",
              "        vertical-align: middle;\n",
              "    }\n",
              "\n",
              "    .dataframe tbody tr th {\n",
              "        vertical-align: top;\n",
              "    }\n",
              "\n",
              "    .dataframe thead th {\n",
              "        text-align: right;\n",
              "    }\n",
              "</style>\n",
              "<table border=\"1\" class=\"dataframe\">\n",
              "  <thead>\n",
              "    <tr style=\"text-align: right;\">\n",
              "      <th></th>\n",
              "      <th>extraction_type_class_gravity</th>\n",
              "      <th>extraction_type_class_handpump</th>\n",
              "      <th>extraction_type_class_other</th>\n",
              "      <th>extraction_type_class_motorpump</th>\n",
              "      <th>extraction_type_class_submersible</th>\n",
              "      <th>extraction_type_class_rope pump</th>\n",
              "      <th>extraction_type_class_wind-powered</th>\n",
              "    </tr>\n",
              "  </thead>\n",
              "  <tbody>\n",
              "    <tr>\n",
              "      <th>43360</th>\n",
              "      <td>1</td>\n",
              "      <td>0</td>\n",
              "      <td>0</td>\n",
              "      <td>0</td>\n",
              "      <td>0</td>\n",
              "      <td>0</td>\n",
              "      <td>0</td>\n",
              "    </tr>\n",
              "    <tr>\n",
              "      <th>7263</th>\n",
              "      <td>1</td>\n",
              "      <td>0</td>\n",
              "      <td>0</td>\n",
              "      <td>0</td>\n",
              "      <td>0</td>\n",
              "      <td>0</td>\n",
              "      <td>0</td>\n",
              "    </tr>\n",
              "    <tr>\n",
              "      <th>2486</th>\n",
              "      <td>0</td>\n",
              "      <td>1</td>\n",
              "      <td>0</td>\n",
              "      <td>0</td>\n",
              "      <td>0</td>\n",
              "      <td>0</td>\n",
              "      <td>0</td>\n",
              "    </tr>\n",
              "    <tr>\n",
              "      <th>313</th>\n",
              "      <td>0</td>\n",
              "      <td>0</td>\n",
              "      <td>1</td>\n",
              "      <td>0</td>\n",
              "      <td>0</td>\n",
              "      <td>0</td>\n",
              "      <td>0</td>\n",
              "    </tr>\n",
              "    <tr>\n",
              "      <th>52726</th>\n",
              "      <td>0</td>\n",
              "      <td>0</td>\n",
              "      <td>0</td>\n",
              "      <td>1</td>\n",
              "      <td>0</td>\n",
              "      <td>0</td>\n",
              "      <td>0</td>\n",
              "    </tr>\n",
              "    <tr>\n",
              "      <th>8558</th>\n",
              "      <td>1</td>\n",
              "      <td>0</td>\n",
              "      <td>0</td>\n",
              "      <td>0</td>\n",
              "      <td>0</td>\n",
              "      <td>0</td>\n",
              "      <td>0</td>\n",
              "    </tr>\n",
              "    <tr>\n",
              "      <th>2559</th>\n",
              "      <td>1</td>\n",
              "      <td>0</td>\n",
              "      <td>0</td>\n",
              "      <td>0</td>\n",
              "      <td>0</td>\n",
              "      <td>0</td>\n",
              "      <td>0</td>\n",
              "    </tr>\n",
              "    <tr>\n",
              "      <th>54735</th>\n",
              "      <td>0</td>\n",
              "      <td>0</td>\n",
              "      <td>0</td>\n",
              "      <td>1</td>\n",
              "      <td>0</td>\n",
              "      <td>0</td>\n",
              "      <td>0</td>\n",
              "    </tr>\n",
              "    <tr>\n",
              "      <th>25763</th>\n",
              "      <td>0</td>\n",
              "      <td>1</td>\n",
              "      <td>0</td>\n",
              "      <td>0</td>\n",
              "      <td>0</td>\n",
              "      <td>0</td>\n",
              "      <td>0</td>\n",
              "    </tr>\n",
              "    <tr>\n",
              "      <th>44540</th>\n",
              "      <td>0</td>\n",
              "      <td>0</td>\n",
              "      <td>0</td>\n",
              "      <td>0</td>\n",
              "      <td>1</td>\n",
              "      <td>0</td>\n",
              "      <td>0</td>\n",
              "    </tr>\n",
              "    <tr>\n",
              "      <th>28603</th>\n",
              "      <td>0</td>\n",
              "      <td>0</td>\n",
              "      <td>1</td>\n",
              "      <td>0</td>\n",
              "      <td>0</td>\n",
              "      <td>0</td>\n",
              "      <td>0</td>\n",
              "    </tr>\n",
              "    <tr>\n",
              "      <th>4372</th>\n",
              "      <td>0</td>\n",
              "      <td>0</td>\n",
              "      <td>0</td>\n",
              "      <td>0</td>\n",
              "      <td>1</td>\n",
              "      <td>0</td>\n",
              "      <td>0</td>\n",
              "    </tr>\n",
              "    <tr>\n",
              "      <th>30666</th>\n",
              "      <td>1</td>\n",
              "      <td>0</td>\n",
              "      <td>0</td>\n",
              "      <td>0</td>\n",
              "      <td>0</td>\n",
              "      <td>0</td>\n",
              "      <td>0</td>\n",
              "    </tr>\n",
              "    <tr>\n",
              "      <th>6431</th>\n",
              "      <td>0</td>\n",
              "      <td>0</td>\n",
              "      <td>0</td>\n",
              "      <td>0</td>\n",
              "      <td>1</td>\n",
              "      <td>0</td>\n",
              "      <td>0</td>\n",
              "    </tr>\n",
              "    <tr>\n",
              "      <th>57420</th>\n",
              "      <td>0</td>\n",
              "      <td>0</td>\n",
              "      <td>1</td>\n",
              "      <td>0</td>\n",
              "      <td>0</td>\n",
              "      <td>0</td>\n",
              "      <td>0</td>\n",
              "    </tr>\n",
              "    <tr>\n",
              "      <th>1373</th>\n",
              "      <td>1</td>\n",
              "      <td>0</td>\n",
              "      <td>0</td>\n",
              "      <td>0</td>\n",
              "      <td>0</td>\n",
              "      <td>0</td>\n",
              "      <td>0</td>\n",
              "    </tr>\n",
              "    <tr>\n",
              "      <th>2026</th>\n",
              "      <td>1</td>\n",
              "      <td>0</td>\n",
              "      <td>0</td>\n",
              "      <td>0</td>\n",
              "      <td>0</td>\n",
              "      <td>0</td>\n",
              "      <td>0</td>\n",
              "    </tr>\n",
              "    <tr>\n",
              "      <th>58977</th>\n",
              "      <td>0</td>\n",
              "      <td>1</td>\n",
              "      <td>0</td>\n",
              "      <td>0</td>\n",
              "      <td>0</td>\n",
              "      <td>0</td>\n",
              "      <td>0</td>\n",
              "    </tr>\n",
              "    <tr>\n",
              "      <th>41101</th>\n",
              "      <td>1</td>\n",
              "      <td>0</td>\n",
              "      <td>0</td>\n",
              "      <td>0</td>\n",
              "      <td>0</td>\n",
              "      <td>0</td>\n",
              "      <td>0</td>\n",
              "    </tr>\n",
              "    <tr>\n",
              "      <th>10019</th>\n",
              "      <td>1</td>\n",
              "      <td>0</td>\n",
              "      <td>0</td>\n",
              "      <td>0</td>\n",
              "      <td>0</td>\n",
              "      <td>0</td>\n",
              "      <td>0</td>\n",
              "    </tr>\n",
              "  </tbody>\n",
              "</table>\n",
              "</div>"
            ],
            "text/plain": [
              "       extraction_type_class_gravity  ...  extraction_type_class_wind-powered\n",
              "43360                              1  ...                                   0\n",
              "7263                               1  ...                                   0\n",
              "2486                               0  ...                                   0\n",
              "313                                0  ...                                   0\n",
              "52726                              0  ...                                   0\n",
              "8558                               1  ...                                   0\n",
              "2559                               1  ...                                   0\n",
              "54735                              0  ...                                   0\n",
              "25763                              0  ...                                   0\n",
              "44540                              0  ...                                   0\n",
              "28603                              0  ...                                   0\n",
              "4372                               0  ...                                   0\n",
              "30666                              1  ...                                   0\n",
              "6431                               0  ...                                   0\n",
              "57420                              0  ...                                   0\n",
              "1373                               1  ...                                   0\n",
              "2026                               1  ...                                   0\n",
              "58977                              0  ...                                   0\n",
              "41101                              1  ...                                   0\n",
              "10019                              1  ...                                   0\n",
              "\n",
              "[20 rows x 7 columns]"
            ]
          },
          "metadata": {
            "tags": []
          },
          "execution_count": 90
        }
      ]
    },
    {
      "cell_type": "markdown",
      "metadata": {
        "colab_type": "text",
        "id": "1Ql9Qmw3sNJ7"
      },
      "source": [
        "#### One-Hot Encoding, Logistic Regression, Validation Accuracy"
      ]
    },
    {
      "cell_type": "code",
      "metadata": {
        "colab_type": "code",
        "id": "mT4A-oDGpOss",
        "colab": {
          "base_uri": "https://localhost:8080/",
          "height": 34
        },
        "outputId": "fc6e56cf-8d5f-4b11-b0bf-ef855de89ff0"
      },
      "source": [
        "from sklearn.linear_model import LogisticRegressionCV\n",
        "from sklearn.preprocessing import StandardScaler\n",
        "\n",
        "lr = make_pipeline(\n",
        "    ce.OneHotEncoder(use_cat_names=True), \n",
        "    SimpleImputer(), \n",
        "    StandardScaler(), \n",
        "    LogisticRegressionCV(multi_class='auto', solver='lbfgs', cv=5, n_jobs=-1)\n",
        ")\n",
        "\n",
        "lr.fit(X_train[[feature]], y_train)\n",
        "score = lr.score(X_val[[feature]], y_val)\n",
        "print('Logistic Regression, Validation Accuracy', score)"
      ],
      "execution_count": 91,
      "outputs": [
        {
          "output_type": "stream",
          "text": [
            "Logistic Regression, Validation Accuracy 0.6202861952861953\n"
          ],
          "name": "stdout"
        }
      ]
    },
    {
      "cell_type": "markdown",
      "metadata": {
        "colab_type": "text",
        "id": "EbH6wivpsRuV"
      },
      "source": [
        "#### One-Hot Encoding, Decision Tree, Validation Accuracy"
      ]
    },
    {
      "cell_type": "code",
      "metadata": {
        "colab_type": "code",
        "id": "b6KUluFOqIdK",
        "colab": {
          "base_uri": "https://localhost:8080/",
          "height": 34
        },
        "outputId": "55df7128-3077-4520-fcb3-ea87e694ae73"
      },
      "source": [
        "from sklearn.tree import DecisionTreeClassifier\n",
        "\n",
        "dt = make_pipeline(\n",
        "    ce.OneHotEncoder(use_cat_names=True), \n",
        "    SimpleImputer(), \n",
        "    DecisionTreeClassifier(random_state=42)\n",
        ")\n",
        "\n",
        "dt.fit(X_train[[feature]], y_train)\n",
        "score = dt.score(X_val[[feature]], y_val)\n",
        "print('Decision Tree, Validation Accuracy', score)"
      ],
      "execution_count": 92,
      "outputs": [
        {
          "output_type": "stream",
          "text": [
            "Decision Tree, Validation Accuracy 0.6202861952861953\n"
          ],
          "name": "stdout"
        }
      ]
    },
    {
      "cell_type": "markdown",
      "metadata": {
        "colab_type": "text",
        "id": "8yg11_gTsUu6"
      },
      "source": [
        "#### One-Hot Encoding, Logistic Regression, Model Interpretation"
      ]
    },
    {
      "cell_type": "code",
      "metadata": {
        "colab_type": "code",
        "id": "IxHwXGRornNI",
        "colab": {
          "base_uri": "https://localhost:8080/",
          "height": 265
        },
        "outputId": "62aa1c3c-3531-448b-b5b4-671ff8a68141"
      },
      "source": [
        "model = lr.named_steps['logisticregressioncv']\n",
        "encoder = lr.named_steps['onehotencoder']\n",
        "encoded_columns = encoder.transform(X_val[[feature]]).columns\n",
        "coefficients = pd.Series(model.coef_[0], encoded_columns)\n",
        "coefficients.sort_values().plot.barh(color='grey');"
      ],
      "execution_count": 93,
      "outputs": [
        {
          "output_type": "display_data",
          "data": {
            "image/png": "[encoded data removed]",
            "text/plain": [
              "<Figure size 432x288 with 1 Axes>"
            ]
          },
          "metadata": {
            "tags": [],
            "needs_background": "light"
          }
        }
      ]
    },
    {
      "cell_type": "markdown",
      "metadata": {
        "colab_type": "text",
        "id": "0REZ8HdpsccR"
      },
      "source": [
        "#### One-Hot Encoding, Decision Tree, Model Interpretation"
      ]
    },
    {
      "cell_type": "code",
      "metadata": {
        "colab_type": "code",
        "id": "gV-grmYKpDp9",
        "colab": {
          "base_uri": "https://localhost:8080/",
          "height": 954
        },
        "outputId": "6e67b9a3-3fc6-4235-be32-32b7ad55e821"
      },
      "source": [
        "# Plot tree\n",
        "# https://scikit-learn.org/stable/modules/generated/sklearn.tree.export_graphviz.html\n",
        "import graphviz\n",
        "from sklearn.tree import export_graphviz\n",
        "\n",
        "model = dt.named_steps['decisiontreeclassifier']\n",
        "encoder = dt.named_steps['onehotencoder']\n",
        "encoded_columns = encoder.transform(X_val[[feature]]).columns\n",
        "\n",
        "dot_data = export_graphviz(model, \n",
        "                           out_file=None, \n",
        "                           max_depth=7, \n",
        "                           feature_names=encoded_columns,\n",
        "                           class_names=model.classes_, \n",
        "                           impurity=False, \n",
        "                           filled=True, \n",
        "                           proportion=True, \n",
        "                           rounded=True)   \n",
        "display(graphviz.Source(dot_data))"
      ],
      "execution_count": 94,
      "outputs": [
        {
          "output_type": "display_data",
          "data": {
            "text/plain": [
              "<graphviz.files.Source at 0x7f6c070eecc0>"
            ],
            "image/svg+xml": "<?xml version=\"1.0\" encoding=\"UTF-8\" standalone=\"no\"?>\n<!DOCTYPE svg PUBLIC \"-//W3C//DTD SVG 1.1//EN\"\n \"http://www.w3.org/Graphics/SVG/1.1/DTD/svg11.dtd\">\n<!-- Generated by graphviz version 2.40.1 (20161225.0304)\n -->\n<!-- Title: Tree Pages: 1 -->\n<svg width=\"1067pt\" height=\"685pt\"\n viewBox=\"0.00 0.00 1067.00 685.00\" xmlns=\"http://www.w3.org/2000/svg\" xmlns:xlink=\"http://www.w3.org/1999/xlink\">\n<g id=\"graph0\" class=\"graph\" transform=\"scale(1 1) rotate(0) translate(4 681)\">\n<title>Tree</title>\n<polygon fill=\"#ffffff\" stroke=\"transparent\" points=\"-4,4 -4,-681 1063,-681 1063,4 -4,4\"/>\n<!-- 0 -->\n<g id=\"node1\" class=\"node\">\n<title>0</title>\n<path fill=\"#f8decc\" stroke=\"#000000\" d=\"M944.5,-677C944.5,-677 725.5,-677 725.5,-677 719.5,-677 713.5,-671 713.5,-665 713.5,-665 713.5,-621 713.5,-621 713.5,-615 719.5,-609 725.5,-609 725.5,-609 944.5,-609 944.5,-609 950.5,-609 956.5,-615 956.5,-621 956.5,-621 956.5,-665 956.5,-665 956.5,-671 950.5,-677 944.5,-677\"/>\n<text text-anchor=\"middle\" x=\"835\" y=\"-661.8\" font-family=\"Helvetica,sans-Serif\" font-size=\"14.00\" fill=\"#000000\">extraction_type_class_other &lt;= 0.5</text>\n<text text-anchor=\"middle\" x=\"835\" y=\"-646.8\" font-family=\"Helvetica,sans-Serif\" font-size=\"14.00\" fill=\"#000000\">samples = 100.0%</text>\n<text text-anchor=\"middle\" x=\"835\" y=\"-631.8\" font-family=\"Helvetica,sans-Serif\" font-size=\"14.00\" fill=\"#000000\">value = [0.543, 0.073, 0.384]</text>\n<text text-anchor=\"middle\" x=\"835\" y=\"-616.8\" font-family=\"Helvetica,sans-Serif\" font-size=\"14.00\" fill=\"#000000\">class = functional</text>\n</g>\n<!-- 1 -->\n<g id=\"node2\" class=\"node\">\n<title>1</title>\n<path fill=\"#f5ceb2\" stroke=\"#000000\" d=\"M837,-573C837,-573 577,-573 577,-573 571,-573 565,-567 565,-561 565,-561 565,-517 565,-517 565,-511 571,-505 577,-505 577,-505 837,-505 837,-505 843,-505 849,-511 849,-517 849,-517 849,-561 849,-561 849,-567 843,-573 837,-573\"/>\n<text text-anchor=\"middle\" x=\"707\" y=\"-557.8\" font-family=\"Helvetica,sans-Serif\" font-size=\"14.00\" fill=\"#000000\">extraction_type_class_motorpump &lt;= 0.5</text>\n<text text-anchor=\"middle\" x=\"707\" y=\"-542.8\" font-family=\"Helvetica,sans-Serif\" font-size=\"14.00\" fill=\"#000000\">samples = 89.1%</text>\n<text text-anchor=\"middle\" x=\"707\" y=\"-527.8\" font-family=\"Helvetica,sans-Serif\" font-size=\"14.00\" fill=\"#000000\">value = [0.59, 0.078, 0.332]</text>\n<text text-anchor=\"middle\" x=\"707\" y=\"-512.8\" font-family=\"Helvetica,sans-Serif\" font-size=\"14.00\" fill=\"#000000\">class = functional</text>\n</g>\n<!-- 0&#45;&gt;1 -->\n<g id=\"edge1\" class=\"edge\">\n<title>0&#45;&gt;1</title>\n<path fill=\"none\" stroke=\"#000000\" d=\"M793.088,-608.9465C781.485,-599.519 768.7779,-589.1946 756.7741,-579.4415\"/>\n<polygon fill=\"#000000\" stroke=\"#000000\" points=\"758.9744,-576.7196 749.0061,-573.13 754.5602,-582.1524 758.9744,-576.7196\"/>\n<text text-anchor=\"middle\" x=\"751.5786\" y=\"-594.2973\" font-family=\"Helvetica,sans-Serif\" font-size=\"14.00\" fill=\"#000000\">True</text>\n</g>\n<!-- 12 -->\n<g id=\"node13\" class=\"node\">\n<title>12</title>\n<path fill=\"#9d66eb\" stroke=\"#000000\" d=\"M1047,-565.5C1047,-565.5 879,-565.5 879,-565.5 873,-565.5 867,-559.5 867,-553.5 867,-553.5 867,-524.5 867,-524.5 867,-518.5 873,-512.5 879,-512.5 879,-512.5 1047,-512.5 1047,-512.5 1053,-512.5 1059,-518.5 1059,-524.5 1059,-524.5 1059,-553.5 1059,-553.5 1059,-559.5 1053,-565.5 1047,-565.5\"/>\n<text text-anchor=\"middle\" x=\"963\" y=\"-550.3\" font-family=\"Helvetica,sans-Serif\" font-size=\"14.00\" fill=\"#000000\">samples = 10.9%</text>\n<text text-anchor=\"middle\" x=\"963\" y=\"-535.3\" font-family=\"Helvetica,sans-Serif\" font-size=\"14.00\" fill=\"#000000\">value = [0.159, 0.031, 0.81]</text>\n<text text-anchor=\"middle\" x=\"963\" y=\"-520.3\" font-family=\"Helvetica,sans-Serif\" font-size=\"14.00\" fill=\"#000000\">class = non functional</text>\n</g>\n<!-- 0&#45;&gt;12 -->\n<g id=\"edge12\" class=\"edge\">\n<title>0&#45;&gt;12</title>\n<path fill=\"none\" stroke=\"#000000\" d=\"M876.912,-608.9465C891.5533,-597.0504 907.9526,-583.726 922.4785,-571.9237\"/>\n<polygon fill=\"#000000\" stroke=\"#000000\" points=\"924.7786,-574.5645 930.3327,-565.5422 920.3645,-569.1317 924.7786,-574.5645\"/>\n<text text-anchor=\"middle\" x=\"927.7602\" y=\"-586.7095\" font-family=\"Helvetica,sans-Serif\" font-size=\"14.00\" fill=\"#000000\">False</text>\n</g>\n<!-- 2 -->\n<g id=\"node3\" class=\"node\">\n<title>2</title>\n<path fill=\"#f4caac\" stroke=\"#000000\" d=\"M708.5,-469C708.5,-469 443.5,-469 443.5,-469 437.5,-469 431.5,-463 431.5,-457 431.5,-457 431.5,-413 431.5,-413 431.5,-407 437.5,-401 443.5,-401 443.5,-401 708.5,-401 708.5,-401 714.5,-401 720.5,-407 720.5,-413 720.5,-413 720.5,-457 720.5,-457 720.5,-463 714.5,-469 708.5,-469\"/>\n<text text-anchor=\"middle\" x=\"576\" y=\"-453.8\" font-family=\"Helvetica,sans-Serif\" font-size=\"14.00\" fill=\"#000000\">extraction_type_class_submersible &lt;= 0.5</text>\n<text text-anchor=\"middle\" x=\"576\" y=\"-438.8\" font-family=\"Helvetica,sans-Serif\" font-size=\"14.00\" fill=\"#000000\">samples = 84.1%</text>\n<text text-anchor=\"middle\" x=\"576\" y=\"-423.8\" font-family=\"Helvetica,sans-Serif\" font-size=\"14.00\" fill=\"#000000\">value = [0.603, 0.08, 0.318]</text>\n<text text-anchor=\"middle\" x=\"576\" y=\"-408.8\" font-family=\"Helvetica,sans-Serif\" font-size=\"14.00\" fill=\"#000000\">class = functional</text>\n</g>\n<!-- 1&#45;&gt;2 -->\n<g id=\"edge2\" class=\"edge\">\n<title>1&#45;&gt;2</title>\n<path fill=\"none\" stroke=\"#000000\" d=\"M664.1057,-504.9465C652.2307,-495.519 639.2259,-485.1946 626.9407,-475.4415\"/>\n<polygon fill=\"#000000\" stroke=\"#000000\" points=\"628.9989,-472.6066 618.9907,-469.13 624.6464,-478.089 628.9989,-472.6066\"/>\n</g>\n<!-- 11 -->\n<g id=\"node12\" class=\"node\">\n<title>11</title>\n<path fill=\"#d8c1f7\" stroke=\"#000000\" d=\"M927,-461.5C927,-461.5 751,-461.5 751,-461.5 745,-461.5 739,-455.5 739,-449.5 739,-449.5 739,-420.5 739,-420.5 739,-414.5 745,-408.5 751,-408.5 751,-408.5 927,-408.5 927,-408.5 933,-408.5 939,-414.5 939,-420.5 939,-420.5 939,-449.5 939,-449.5 939,-455.5 933,-461.5 927,-461.5\"/>\n<text text-anchor=\"middle\" x=\"839\" y=\"-446.3\" font-family=\"Helvetica,sans-Serif\" font-size=\"14.00\" fill=\"#000000\">samples = 5.0%</text>\n<text text-anchor=\"middle\" x=\"839\" y=\"-431.3\" font-family=\"Helvetica,sans-Serif\" font-size=\"14.00\" fill=\"#000000\">value = [0.381, 0.045, 0.574]</text>\n<text text-anchor=\"middle\" x=\"839\" y=\"-416.3\" font-family=\"Helvetica,sans-Serif\" font-size=\"14.00\" fill=\"#000000\">class = non functional</text>\n</g>\n<!-- 1&#45;&gt;11 -->\n<g id=\"edge11\" class=\"edge\">\n<title>1&#45;&gt;11</title>\n<path fill=\"none\" stroke=\"#000000\" d=\"M750.2217,-504.9465C765.3206,-493.0504 782.2324,-479.726 797.2122,-467.9237\"/>\n<polygon fill=\"#000000\" stroke=\"#000000\" points=\"799.623,-470.4802 805.3119,-461.5422 795.2909,-464.9817 799.623,-470.4802\"/>\n</g>\n<!-- 3 -->\n<g id=\"node4\" class=\"node\">\n<title>3</title>\n<path fill=\"#f4c7a8\" stroke=\"#000000\" d=\"M568.5,-365C568.5,-365 339.5,-365 339.5,-365 333.5,-365 327.5,-359 327.5,-353 327.5,-353 327.5,-309 327.5,-309 327.5,-303 333.5,-297 339.5,-297 339.5,-297 568.5,-297 568.5,-297 574.5,-297 580.5,-303 580.5,-309 580.5,-309 580.5,-353 580.5,-353 580.5,-359 574.5,-365 568.5,-365\"/>\n<text text-anchor=\"middle\" x=\"454\" y=\"-349.8\" font-family=\"Helvetica,sans-Serif\" font-size=\"14.00\" fill=\"#000000\">extraction_type_class_gravity &lt;= 0.5</text>\n<text text-anchor=\"middle\" x=\"454\" y=\"-334.8\" font-family=\"Helvetica,sans-Serif\" font-size=\"14.00\" fill=\"#000000\">samples = 73.8%</text>\n<text text-anchor=\"middle\" x=\"454\" y=\"-319.8\" font-family=\"Helvetica,sans-Serif\" font-size=\"14.00\" fill=\"#000000\">value = [0.611, 0.085, 0.304]</text>\n<text text-anchor=\"middle\" x=\"454\" y=\"-304.8\" font-family=\"Helvetica,sans-Serif\" font-size=\"14.00\" fill=\"#000000\">class = functional</text>\n</g>\n<!-- 2&#45;&gt;3 -->\n<g id=\"edge3\" class=\"edge\">\n<title>2&#45;&gt;3</title>\n<path fill=\"none\" stroke=\"#000000\" d=\"M536.0526,-400.9465C525.0988,-391.6088 513.1127,-381.3911 501.768,-371.7203\"/>\n<polygon fill=\"#000000\" stroke=\"#000000\" points=\"503.9179,-368.9538 494.0371,-365.13 499.3767,-374.2809 503.9179,-368.9538\"/>\n</g>\n<!-- 10 -->\n<g id=\"node11\" class=\"node\">\n<title>10</title>\n<path fill=\"#f9e4d5\" stroke=\"#000000\" d=\"M787,-357.5C787,-357.5 611,-357.5 611,-357.5 605,-357.5 599,-351.5 599,-345.5 599,-345.5 599,-316.5 599,-316.5 599,-310.5 605,-304.5 611,-304.5 611,-304.5 787,-304.5 787,-304.5 793,-304.5 799,-310.5 799,-316.5 799,-316.5 799,-345.5 799,-345.5 799,-351.5 793,-357.5 787,-357.5\"/>\n<text text-anchor=\"middle\" x=\"699\" y=\"-342.3\" font-family=\"Helvetica,sans-Serif\" font-size=\"14.00\" fill=\"#000000\">samples = 10.3%</text>\n<text text-anchor=\"middle\" x=\"699\" y=\"-327.3\" font-family=\"Helvetica,sans-Serif\" font-size=\"14.00\" fill=\"#000000\">value = [0.541, 0.042, 0.416]</text>\n<text text-anchor=\"middle\" x=\"699\" y=\"-312.3\" font-family=\"Helvetica,sans-Serif\" font-size=\"14.00\" fill=\"#000000\">class = functional</text>\n</g>\n<!-- 2&#45;&gt;10 -->\n<g id=\"edge10\" class=\"edge\">\n<title>2&#45;&gt;10</title>\n<path fill=\"none\" stroke=\"#000000\" d=\"M616.2748,-400.9465C630.2139,-389.1606 645.8112,-375.9726 659.6732,-364.2519\"/>\n<polygon fill=\"#000000\" stroke=\"#000000\" points=\"662.2324,-366.6715 667.6088,-357.5422 657.7127,-361.3262 662.2324,-366.6715\"/>\n</g>\n<!-- 4 -->\n<g id=\"node5\" class=\"node\">\n<title>4</title>\n<path fill=\"#f3c5a4\" stroke=\"#000000\" d=\"M458.5,-261C458.5,-261 181.5,-261 181.5,-261 175.5,-261 169.5,-255 169.5,-249 169.5,-249 169.5,-205 169.5,-205 169.5,-199 175.5,-193 181.5,-193 181.5,-193 458.5,-193 458.5,-193 464.5,-193 470.5,-199 470.5,-205 470.5,-205 470.5,-249 470.5,-249 470.5,-255 464.5,-261 458.5,-261\"/>\n<text text-anchor=\"middle\" x=\"320\" y=\"-245.8\" font-family=\"Helvetica,sans-Serif\" font-size=\"14.00\" fill=\"#000000\">extraction_type_class_wind&#45;powered &lt;= 0.5</text>\n<text text-anchor=\"middle\" x=\"320\" y=\"-230.8\" font-family=\"Helvetica,sans-Serif\" font-size=\"14.00\" fill=\"#000000\">samples = 28.7%</text>\n<text text-anchor=\"middle\" x=\"320\" y=\"-215.8\" font-family=\"Helvetica,sans-Serif\" font-size=\"14.00\" fill=\"#000000\">value = [0.629, 0.059, 0.311]</text>\n<text text-anchor=\"middle\" x=\"320\" y=\"-200.8\" font-family=\"Helvetica,sans-Serif\" font-size=\"14.00\" fill=\"#000000\">class = functional</text>\n</g>\n<!-- 3&#45;&gt;4 -->\n<g id=\"edge4\" class=\"edge\">\n<title>3&#45;&gt;4</title>\n<path fill=\"none\" stroke=\"#000000\" d=\"M410.1234,-296.9465C397.9765,-287.519 384.6738,-277.1946 372.1073,-267.4415\"/>\n<polygon fill=\"#000000\" stroke=\"#000000\" points=\"374.021,-264.4963 363.9752,-261.13 369.7291,-270.0262 374.021,-264.4963\"/>\n</g>\n<!-- 9 -->\n<g id=\"node10\" class=\"node\">\n<title>9</title>\n<path fill=\"#f4c9aa\" stroke=\"#000000\" d=\"M677,-253.5C677,-253.5 501,-253.5 501,-253.5 495,-253.5 489,-247.5 489,-241.5 489,-241.5 489,-212.5 489,-212.5 489,-206.5 495,-200.5 501,-200.5 501,-200.5 677,-200.5 677,-200.5 683,-200.5 689,-206.5 689,-212.5 689,-212.5 689,-241.5 689,-241.5 689,-247.5 683,-253.5 677,-253.5\"/>\n<text text-anchor=\"middle\" x=\"589\" y=\"-238.3\" font-family=\"Helvetica,sans-Serif\" font-size=\"14.00\" fill=\"#000000\">samples = 45.1%</text>\n<text text-anchor=\"middle\" x=\"589\" y=\"-223.3\" font-family=\"Helvetica,sans-Serif\" font-size=\"14.00\" fill=\"#000000\">value = [0.599, 0.101, 0.299]</text>\n<text text-anchor=\"middle\" x=\"589\" y=\"-208.3\" font-family=\"Helvetica,sans-Serif\" font-size=\"14.00\" fill=\"#000000\">class = functional</text>\n</g>\n<!-- 3&#45;&gt;9 -->\n<g id=\"edge9\" class=\"edge\">\n<title>3&#45;&gt;9</title>\n<path fill=\"none\" stroke=\"#000000\" d=\"M498.204,-296.9465C513.6461,-285.0504 530.9422,-271.726 546.2625,-259.9237\"/>\n<polygon fill=\"#000000\" stroke=\"#000000\" points=\"548.7603,-262.4176 554.5462,-253.5422 544.4883,-256.8723 548.7603,-262.4176\"/>\n</g>\n<!-- 5 -->\n<g id=\"node6\" class=\"node\">\n<title>5</title>\n<path fill=\"#f3c4a3\" stroke=\"#000000\" d=\"M319,-157C319,-157 63,-157 63,-157 57,-157 51,-151 51,-145 51,-145 51,-101 51,-101 51,-95 57,-89 63,-89 63,-89 319,-89 319,-89 325,-89 331,-95 331,-101 331,-101 331,-145 331,-145 331,-151 325,-157 319,-157\"/>\n<text text-anchor=\"middle\" x=\"191\" y=\"-141.8\" font-family=\"Helvetica,sans-Serif\" font-size=\"14.00\" fill=\"#000000\">extraction_type_class_rope pump &lt;= 0.5</text>\n<text text-anchor=\"middle\" x=\"191\" y=\"-126.8\" font-family=\"Helvetica,sans-Serif\" font-size=\"14.00\" fill=\"#000000\">samples = 28.5%</text>\n<text text-anchor=\"middle\" x=\"191\" y=\"-111.8\" font-family=\"Helvetica,sans-Serif\" font-size=\"14.00\" fill=\"#000000\">value = [0.631, 0.059, 0.31]</text>\n<text text-anchor=\"middle\" x=\"191\" y=\"-96.8\" font-family=\"Helvetica,sans-Serif\" font-size=\"14.00\" fill=\"#000000\">class = functional</text>\n</g>\n<!-- 4&#45;&gt;5 -->\n<g id=\"edge5\" class=\"edge\">\n<title>4&#45;&gt;5</title>\n<path fill=\"none\" stroke=\"#000000\" d=\"M277.7606,-192.9465C266.0669,-183.519 253.2606,-173.1946 241.163,-163.4415\"/>\n<polygon fill=\"#000000\" stroke=\"#000000\" points=\"243.3162,-160.6816 233.3343,-157.13 238.9227,-166.1312 243.3162,-160.6816\"/>\n</g>\n<!-- 8 -->\n<g id=\"node9\" class=\"node\">\n<title>8</title>\n<path fill=\"#f8f3fd\" stroke=\"#000000\" d=\"M537,-149.5C537,-149.5 361,-149.5 361,-149.5 355,-149.5 349,-143.5 349,-137.5 349,-137.5 349,-108.5 349,-108.5 349,-102.5 355,-96.5 361,-96.5 361,-96.5 537,-96.5 537,-96.5 543,-96.5 549,-102.5 549,-108.5 549,-108.5 549,-137.5 549,-137.5 549,-143.5 543,-149.5 537,-149.5\"/>\n<text text-anchor=\"middle\" x=\"449\" y=\"-134.3\" font-family=\"Helvetica,sans-Serif\" font-size=\"14.00\" fill=\"#000000\">samples = 0.2%</text>\n<text text-anchor=\"middle\" x=\"449\" y=\"-119.3\" font-family=\"Helvetica,sans-Serif\" font-size=\"14.00\" fill=\"#000000\">value = [0.452, 0.065, 0.484]</text>\n<text text-anchor=\"middle\" x=\"449\" y=\"-104.3\" font-family=\"Helvetica,sans-Serif\" font-size=\"14.00\" fill=\"#000000\">class = non functional</text>\n</g>\n<!-- 4&#45;&gt;8 -->\n<g id=\"edge8\" class=\"edge\">\n<title>4&#45;&gt;8</title>\n<path fill=\"none\" stroke=\"#000000\" d=\"M362.2394,-192.9465C376.9952,-181.0504 393.5225,-167.726 408.162,-155.9237\"/>\n<polygon fill=\"#000000\" stroke=\"#000000\" points=\"410.4891,-158.5433 416.0775,-149.5422 406.0957,-153.0938 410.4891,-158.5433\"/>\n</g>\n<!-- 6 -->\n<g id=\"node7\" class=\"node\">\n<title>6</title>\n<path fill=\"#f3c5a3\" stroke=\"#000000\" d=\"M164,-53C164,-53 12,-53 12,-53 6,-53 0,-47 0,-41 0,-41 0,-12 0,-12 0,-6 6,0 12,0 12,0 164,0 164,0 170,0 176,-6 176,-12 176,-12 176,-41 176,-41 176,-47 170,-53 164,-53\"/>\n<text text-anchor=\"middle\" x=\"88\" y=\"-37.8\" font-family=\"Helvetica,sans-Serif\" font-size=\"14.00\" fill=\"#000000\">samples = 27.7%</text>\n<text text-anchor=\"middle\" x=\"88\" y=\"-22.8\" font-family=\"Helvetica,sans-Serif\" font-size=\"14.00\" fill=\"#000000\">value = [0.63, 0.06, 0.31]</text>\n<text text-anchor=\"middle\" x=\"88\" y=\"-7.8\" font-family=\"Helvetica,sans-Serif\" font-size=\"14.00\" fill=\"#000000\">class = functional</text>\n</g>\n<!-- 5&#45;&gt;6 -->\n<g id=\"edge6\" class=\"edge\">\n<title>5&#45;&gt;6</title>\n<path fill=\"none\" stroke=\"#000000\" d=\"M154.6861,-88.9777C144.7168,-79.6376 133.9138,-69.5163 123.9643,-60.1947\"/>\n<polygon fill=\"#000000\" stroke=\"#000000\" points=\"126.2408,-57.5314 116.5502,-53.2485 121.4548,-62.6397 126.2408,-57.5314\"/>\n</g>\n<!-- 7 -->\n<g id=\"node8\" class=\"node\">\n<title>7</title>\n<path fill=\"#f2bf9b\" stroke=\"#000000\" d=\"M382,-53C382,-53 206,-53 206,-53 200,-53 194,-47 194,-41 194,-41 194,-12 194,-12 194,-6 200,0 206,0 206,0 382,0 382,0 388,0 394,-6 394,-12 394,-12 394,-41 394,-41 394,-47 388,-53 382,-53\"/>\n<text text-anchor=\"middle\" x=\"294\" y=\"-37.8\" font-family=\"Helvetica,sans-Serif\" font-size=\"14.00\" fill=\"#000000\">samples = 0.7%</text>\n<text text-anchor=\"middle\" x=\"294\" y=\"-22.8\" font-family=\"Helvetica,sans-Serif\" font-size=\"14.00\" fill=\"#000000\">value = [0.657, 0.037, 0.306]</text>\n<text text-anchor=\"middle\" x=\"294\" y=\"-7.8\" font-family=\"Helvetica,sans-Serif\" font-size=\"14.00\" fill=\"#000000\">class = functional</text>\n</g>\n<!-- 5&#45;&gt;7 -->\n<g id=\"edge7\" class=\"edge\">\n<title>5&#45;&gt;7</title>\n<path fill=\"none\" stroke=\"#000000\" d=\"M227.3139,-88.9777C237.2832,-79.6376 248.0862,-69.5163 258.0357,-60.1947\"/>\n<polygon fill=\"#000000\" stroke=\"#000000\" points=\"260.5452,-62.6397 265.4498,-53.2485 255.7592,-57.5314 260.5452,-62.6397\"/>\n</g>\n</g>\n</svg>\n"
          },
          "metadata": {
            "tags": []
          }
        }
      ]
    },
    {
      "cell_type": "markdown",
      "metadata": {
        "colab_type": "text",
        "id": "QUd6gzcZgLVz"
      },
      "source": [
        "### [Ordinal Encoding](https://contrib.scikit-learn.org/category_encoders/ordinal.html)\n",
        "\n",
        "> Ordinal encoding uses a single column of integers to represent the classes. An optional mapping dict can be passed in; in this case, we use the knowledge that there is some true order to the classes themselves. Otherwise, the classes are assumed to have no true order and integers are selected at random."
      ]
    },
    {
      "cell_type": "code",
      "metadata": {
        "colab_type": "code",
        "id": "CnBz2RbwgLVz",
        "colab": {
          "base_uri": "https://localhost:8080/",
          "height": 656
        },
        "outputId": "aea74b5b-b2bc-49fc-c9a7-96b1c38959be"
      },
      "source": [
        "encoder = ce.OrdinalEncoder()\n",
        "encoded = encoder.fit_transform(X_train[[feature]])\n",
        "print(f'1 column, {encoded[feature].nunique()} unique values')\n",
        "encoded.head(20)"
      ],
      "execution_count": 95,
      "outputs": [
        {
          "output_type": "stream",
          "text": [
            "1 column, 7 unique values\n"
          ],
          "name": "stdout"
        },
        {
          "output_type": "execute_result",
          "data": {
            "text/html": [
              "<div>\n",
              "<style scoped>\n",
              "    .dataframe tbody tr th:only-of-type {\n",
              "        vertical-align: middle;\n",
              "    }\n",
              "\n",
              "    .dataframe tbody tr th {\n",
              "        vertical-align: top;\n",
              "    }\n",
              "\n",
              "    .dataframe thead th {\n",
              "        text-align: right;\n",
              "    }\n",
              "</style>\n",
              "<table border=\"1\" class=\"dataframe\">\n",
              "  <thead>\n",
              "    <tr style=\"text-align: right;\">\n",
              "      <th></th>\n",
              "      <th>extraction_type_class</th>\n",
              "    </tr>\n",
              "  </thead>\n",
              "  <tbody>\n",
              "    <tr>\n",
              "      <th>43360</th>\n",
              "      <td>1</td>\n",
              "    </tr>\n",
              "    <tr>\n",
              "      <th>7263</th>\n",
              "      <td>1</td>\n",
              "    </tr>\n",
              "    <tr>\n",
              "      <th>2486</th>\n",
              "      <td>2</td>\n",
              "    </tr>\n",
              "    <tr>\n",
              "      <th>313</th>\n",
              "      <td>3</td>\n",
              "    </tr>\n",
              "    <tr>\n",
              "      <th>52726</th>\n",
              "      <td>4</td>\n",
              "    </tr>\n",
              "    <tr>\n",
              "      <th>8558</th>\n",
              "      <td>1</td>\n",
              "    </tr>\n",
              "    <tr>\n",
              "      <th>2559</th>\n",
              "      <td>1</td>\n",
              "    </tr>\n",
              "    <tr>\n",
              "      <th>54735</th>\n",
              "      <td>4</td>\n",
              "    </tr>\n",
              "    <tr>\n",
              "      <th>25763</th>\n",
              "      <td>2</td>\n",
              "    </tr>\n",
              "    <tr>\n",
              "      <th>44540</th>\n",
              "      <td>5</td>\n",
              "    </tr>\n",
              "    <tr>\n",
              "      <th>28603</th>\n",
              "      <td>3</td>\n",
              "    </tr>\n",
              "    <tr>\n",
              "      <th>4372</th>\n",
              "      <td>5</td>\n",
              "    </tr>\n",
              "    <tr>\n",
              "      <th>30666</th>\n",
              "      <td>1</td>\n",
              "    </tr>\n",
              "    <tr>\n",
              "      <th>6431</th>\n",
              "      <td>5</td>\n",
              "    </tr>\n",
              "    <tr>\n",
              "      <th>57420</th>\n",
              "      <td>3</td>\n",
              "    </tr>\n",
              "    <tr>\n",
              "      <th>1373</th>\n",
              "      <td>1</td>\n",
              "    </tr>\n",
              "    <tr>\n",
              "      <th>2026</th>\n",
              "      <td>1</td>\n",
              "    </tr>\n",
              "    <tr>\n",
              "      <th>58977</th>\n",
              "      <td>2</td>\n",
              "    </tr>\n",
              "    <tr>\n",
              "      <th>41101</th>\n",
              "      <td>1</td>\n",
              "    </tr>\n",
              "    <tr>\n",
              "      <th>10019</th>\n",
              "      <td>1</td>\n",
              "    </tr>\n",
              "  </tbody>\n",
              "</table>\n",
              "</div>"
            ],
            "text/plain": [
              "       extraction_type_class\n",
              "43360                      1\n",
              "7263                       1\n",
              "2486                       2\n",
              "313                        3\n",
              "52726                      4\n",
              "8558                       1\n",
              "2559                       1\n",
              "54735                      4\n",
              "25763                      2\n",
              "44540                      5\n",
              "28603                      3\n",
              "4372                       5\n",
              "30666                      1\n",
              "6431                       5\n",
              "57420                      3\n",
              "1373                       1\n",
              "2026                       1\n",
              "58977                      2\n",
              "41101                      1\n",
              "10019                      1"
            ]
          },
          "metadata": {
            "tags": []
          },
          "execution_count": 95
        }
      ]
    },
    {
      "cell_type": "markdown",
      "metadata": {
        "colab_type": "text",
        "id": "Nd-ZWprasqUM"
      },
      "source": [
        "#### Ordinal Encoding, Logistic Regression, Validation Accuracy"
      ]
    },
    {
      "cell_type": "code",
      "metadata": {
        "colab_type": "code",
        "id": "GJ1YpwjvrhfL",
        "colab": {
          "base_uri": "https://localhost:8080/",
          "height": 34
        },
        "outputId": "6145a00f-85b9-4e04-afd1-1cf26bd39fe3"
      },
      "source": [
        "lr = make_pipeline(\n",
        "    ce.OrdinalEncoder(), \n",
        "    SimpleImputer(), \n",
        "    StandardScaler(), \n",
        "    LogisticRegressionCV(multi_class='auto', solver='lbfgs', cv=5, n_jobs=-1)\n",
        ")\n",
        "\n",
        "lr.fit(X_train[[feature]], y_train)\n",
        "score = lr.score(X_val[[feature]], y_val)\n",
        "print('Logistic Regression, Validation Accuracy', score)"
      ],
      "execution_count": 96,
      "outputs": [
        {
          "output_type": "stream",
          "text": [
            "Logistic Regression, Validation Accuracy 0.5417508417508418\n"
          ],
          "name": "stdout"
        }
      ]
    },
    {
      "cell_type": "markdown",
      "metadata": {
        "colab_type": "text",
        "id": "9lO_R3SksuHs"
      },
      "source": [
        "#### Ordinal Encoding, Decision Tree, Validation Accuracy"
      ]
    },
    {
      "cell_type": "code",
      "metadata": {
        "colab_type": "code",
        "id": "aOELD_roriVI",
        "colab": {
          "base_uri": "https://localhost:8080/",
          "height": 34
        },
        "outputId": "e7bea5bd-04d5-415e-fa79-2dc1b7bad353"
      },
      "source": [
        "dt = make_pipeline(\n",
        "    ce.OrdinalEncoder(), \n",
        "    SimpleImputer(), \n",
        "    DecisionTreeClassifier(random_state=42)\n",
        ")\n",
        "\n",
        "dt.fit(X_train[[feature]], y_train)\n",
        "score = dt.score(X_val[[feature]], y_val)\n",
        "print('Decision Tree, Validation Accuracy', score)"
      ],
      "execution_count": 97,
      "outputs": [
        {
          "output_type": "stream",
          "text": [
            "Decision Tree, Validation Accuracy 0.6202861952861953\n"
          ],
          "name": "stdout"
        }
      ]
    },
    {
      "cell_type": "markdown",
      "metadata": {
        "colab_type": "text",
        "id": "7V2zHjiwswTg"
      },
      "source": [
        "#### Ordinal Encoding, Logistic Regression, Model Interpretation"
      ]
    },
    {
      "cell_type": "code",
      "metadata": {
        "colab_type": "code",
        "id": "S9UPYPois8QR",
        "colab": {
          "base_uri": "https://localhost:8080/",
          "height": 265
        },
        "outputId": "612980d3-47fc-495c-f9c3-9a3d22be8e17"
      },
      "source": [
        "model = lr.named_steps['logisticregressioncv']\n",
        "encoder = lr.named_steps['ordinalencoder']\n",
        "encoded_columns = encoder.transform(X_val[[feature]]).columns\n",
        "coefficients = pd.Series(model.coef_[0], encoded_columns)\n",
        "coefficients.sort_values().plot.barh(color='grey');"
      ],
      "execution_count": 98,
      "outputs": [
        {
          "output_type": "display_data",
          "data": {
            "image/png": "[encoded data removed]",
            "text/plain": [
              "<Figure size 432x288 with 1 Axes>"
            ]
          },
          "metadata": {
            "tags": [],
            "needs_background": "light"
          }
        }
      ]
    },
    {
      "cell_type": "markdown",
      "metadata": {
        "colab_type": "text",
        "id": "MvmmvE8fsymh"
      },
      "source": [
        "#### Ordinal Encoding, Decision Tree, Model Interpretation"
      ]
    },
    {
      "cell_type": "code",
      "metadata": {
        "colab_type": "code",
        "id": "jCvUu4Oms88b",
        "colab": {
          "base_uri": "https://localhost:8080/",
          "height": 816
        },
        "outputId": "1f353fd6-5e5e-4dc7-9bc3-2be97f743d76"
      },
      "source": [
        "model = dt.named_steps['decisiontreeclassifier']\n",
        "encoder = dt.named_steps['ordinalencoder']\n",
        "encoded_columns = encoder.transform(X_val[[feature]]).columns\n",
        "\n",
        "dot_data = export_graphviz(model, \n",
        "                           out_file=None, \n",
        "                           max_depth=5, \n",
        "                           feature_names=encoded_columns,\n",
        "                           class_names=model.classes_, \n",
        "                           impurity=False, \n",
        "                           filled=True, \n",
        "                           proportion=True, \n",
        "                           rounded=True)   \n",
        "display(graphviz.Source(dot_data))"
      ],
      "execution_count": 99,
      "outputs": [
        {
          "output_type": "display_data",
          "data": {
            "text/plain": [
              "<graphviz.files.Source at 0x7f6c06ef8588>"
            ],
            "image/svg+xml": "<?xml version=\"1.0\" encoding=\"UTF-8\" standalone=\"no\"?>\n<!DOCTYPE svg PUBLIC \"-//W3C//DTD SVG 1.1//EN\"\n \"http://www.w3.org/Graphics/SVG/1.1/DTD/svg11.dtd\">\n<!-- Generated by graphviz version 2.40.1 (20161225.0304)\n -->\n<!-- Title: Tree Pages: 1 -->\n<svg width=\"1167pt\" height=\"581pt\"\n viewBox=\"0.00 0.00 1167.00 581.00\" xmlns=\"http://www.w3.org/2000/svg\" xmlns:xlink=\"http://www.w3.org/1999/xlink\">\n<g id=\"graph0\" class=\"graph\" transform=\"scale(1 1) rotate(0) translate(4 577)\">\n<title>Tree</title>\n<polygon fill=\"#ffffff\" stroke=\"transparent\" points=\"-4,4 -4,-577 1163,-577 1163,4 -4,4\"/>\n<!-- 0 -->\n<g id=\"node1\" class=\"node\">\n<title>0</title>\n<path fill=\"#f8decc\" stroke=\"#000000\" d=\"M500,-573C500,-573 322,-573 322,-573 316,-573 310,-567 310,-561 310,-561 310,-517 310,-517 310,-511 316,-505 322,-505 322,-505 500,-505 500,-505 506,-505 512,-511 512,-517 512,-517 512,-561 512,-561 512,-567 506,-573 500,-573\"/>\n<text text-anchor=\"middle\" x=\"411\" y=\"-557.8\" font-family=\"Helvetica,sans-Serif\" font-size=\"14.00\" fill=\"#000000\">extraction_type_class &lt;= 2.5</text>\n<text text-anchor=\"middle\" x=\"411\" y=\"-542.8\" font-family=\"Helvetica,sans-Serif\" font-size=\"14.00\" fill=\"#000000\">samples = 100.0%</text>\n<text text-anchor=\"middle\" x=\"411\" y=\"-527.8\" font-family=\"Helvetica,sans-Serif\" font-size=\"14.00\" fill=\"#000000\">value = [0.543, 0.073, 0.384]</text>\n<text text-anchor=\"middle\" x=\"411\" y=\"-512.8\" font-family=\"Helvetica,sans-Serif\" font-size=\"14.00\" fill=\"#000000\">class = functional</text>\n</g>\n<!-- 1 -->\n<g id=\"node2\" class=\"node\">\n<title>1</title>\n<path fill=\"#f4c7a8\" stroke=\"#000000\" d=\"M390,-469C390,-469 212,-469 212,-469 206,-469 200,-463 200,-457 200,-457 200,-413 200,-413 200,-407 206,-401 212,-401 212,-401 390,-401 390,-401 396,-401 402,-407 402,-413 402,-413 402,-457 402,-457 402,-463 396,-469 390,-469\"/>\n<text text-anchor=\"middle\" x=\"301\" y=\"-453.8\" font-family=\"Helvetica,sans-Serif\" font-size=\"14.00\" fill=\"#000000\">extraction_type_class &lt;= 1.5</text>\n<text text-anchor=\"middle\" x=\"301\" y=\"-438.8\" font-family=\"Helvetica,sans-Serif\" font-size=\"14.00\" fill=\"#000000\">samples = 72.9%</text>\n<text text-anchor=\"middle\" x=\"301\" y=\"-423.8\" font-family=\"Helvetica,sans-Serif\" font-size=\"14.00\" fill=\"#000000\">value = [0.611, 0.085, 0.304]</text>\n<text text-anchor=\"middle\" x=\"301\" y=\"-408.8\" font-family=\"Helvetica,sans-Serif\" font-size=\"14.00\" fill=\"#000000\">class = functional</text>\n</g>\n<!-- 0&#45;&gt;1 -->\n<g id=\"edge1\" class=\"edge\">\n<title>0&#45;&gt;1</title>\n<path fill=\"none\" stroke=\"#000000\" d=\"M374.9819,-504.9465C365.2954,-495.7884 354.7136,-485.7838 344.6603,-476.2788\"/>\n<polygon fill=\"#000000\" stroke=\"#000000\" points=\"346.7701,-473.4569 337.099,-469.13 341.961,-478.5434 346.7701,-473.4569\"/>\n<text text-anchor=\"middle\" x=\"337.7997\" y=\"-490.4202\" font-family=\"Helvetica,sans-Serif\" font-size=\"14.00\" fill=\"#000000\">True</text>\n</g>\n<!-- 4 -->\n<g id=\"node5\" class=\"node\">\n<title>4</title>\n<path fill=\"#d0b4f5\" stroke=\"#000000\" d=\"M610,-469C610,-469 432,-469 432,-469 426,-469 420,-463 420,-457 420,-457 420,-413 420,-413 420,-407 426,-401 432,-401 432,-401 610,-401 610,-401 616,-401 622,-407 622,-413 622,-413 622,-457 622,-457 622,-463 616,-469 610,-469\"/>\n<text text-anchor=\"middle\" x=\"521\" y=\"-453.8\" font-family=\"Helvetica,sans-Serif\" font-size=\"14.00\" fill=\"#000000\">extraction_type_class &lt;= 3.5</text>\n<text text-anchor=\"middle\" x=\"521\" y=\"-438.8\" font-family=\"Helvetica,sans-Serif\" font-size=\"14.00\" fill=\"#000000\">samples = 27.1%</text>\n<text text-anchor=\"middle\" x=\"521\" y=\"-423.8\" font-family=\"Helvetica,sans-Serif\" font-size=\"14.00\" fill=\"#000000\">value = [0.361, 0.038, 0.601]</text>\n<text text-anchor=\"middle\" x=\"521\" y=\"-408.8\" font-family=\"Helvetica,sans-Serif\" font-size=\"14.00\" fill=\"#000000\">class = non functional</text>\n</g>\n<!-- 0&#45;&gt;4 -->\n<g id=\"edge4\" class=\"edge\">\n<title>0&#45;&gt;4</title>\n<path fill=\"none\" stroke=\"#000000\" d=\"M447.0181,-504.9465C456.7046,-495.7884 467.2864,-485.7838 477.3397,-476.2788\"/>\n<polygon fill=\"#000000\" stroke=\"#000000\" points=\"480.039,-478.5434 484.901,-469.13 475.2299,-473.4569 480.039,-478.5434\"/>\n<text text-anchor=\"middle\" x=\"484.2003\" y=\"-490.4202\" font-family=\"Helvetica,sans-Serif\" font-size=\"14.00\" fill=\"#000000\">False</text>\n</g>\n<!-- 2 -->\n<g id=\"node3\" class=\"node\">\n<title>2</title>\n<path fill=\"#f4c9aa\" stroke=\"#000000\" d=\"M188,-357.5C188,-357.5 12,-357.5 12,-357.5 6,-357.5 0,-351.5 0,-345.5 0,-345.5 0,-316.5 0,-316.5 0,-310.5 6,-304.5 12,-304.5 12,-304.5 188,-304.5 188,-304.5 194,-304.5 200,-310.5 200,-316.5 200,-316.5 200,-345.5 200,-345.5 200,-351.5 194,-357.5 188,-357.5\"/>\n<text text-anchor=\"middle\" x=\"100\" y=\"-342.3\" font-family=\"Helvetica,sans-Serif\" font-size=\"14.00\" fill=\"#000000\">samples = 45.1%</text>\n<text text-anchor=\"middle\" x=\"100\" y=\"-327.3\" font-family=\"Helvetica,sans-Serif\" font-size=\"14.00\" fill=\"#000000\">value = [0.599, 0.101, 0.299]</text>\n<text text-anchor=\"middle\" x=\"100\" y=\"-312.3\" font-family=\"Helvetica,sans-Serif\" font-size=\"14.00\" fill=\"#000000\">class = functional</text>\n</g>\n<!-- 1&#45;&gt;2 -->\n<g id=\"edge2\" class=\"edge\">\n<title>1&#45;&gt;2</title>\n<path fill=\"none\" stroke=\"#000000\" d=\"M235.1851,-400.9465C211.1292,-388.4997 184.0513,-374.4892 160.4827,-362.2946\"/>\n<polygon fill=\"#000000\" stroke=\"#000000\" points=\"161.7878,-359.0291 151.2978,-357.5422 158.571,-365.2462 161.7878,-359.0291\"/>\n</g>\n<!-- 3 -->\n<g id=\"node4\" class=\"node\">\n<title>3</title>\n<path fill=\"#f3c5a3\" stroke=\"#000000\" d=\"M382,-357.5C382,-357.5 230,-357.5 230,-357.5 224,-357.5 218,-351.5 218,-345.5 218,-345.5 218,-316.5 218,-316.5 218,-310.5 224,-304.5 230,-304.5 230,-304.5 382,-304.5 382,-304.5 388,-304.5 394,-310.5 394,-316.5 394,-316.5 394,-345.5 394,-345.5 394,-351.5 388,-357.5 382,-357.5\"/>\n<text text-anchor=\"middle\" x=\"306\" y=\"-342.3\" font-family=\"Helvetica,sans-Serif\" font-size=\"14.00\" fill=\"#000000\">samples = 27.7%</text>\n<text text-anchor=\"middle\" x=\"306\" y=\"-327.3\" font-family=\"Helvetica,sans-Serif\" font-size=\"14.00\" fill=\"#000000\">value = [0.63, 0.06, 0.31]</text>\n<text text-anchor=\"middle\" x=\"306\" y=\"-312.3\" font-family=\"Helvetica,sans-Serif\" font-size=\"14.00\" fill=\"#000000\">class = functional</text>\n</g>\n<!-- 1&#45;&gt;3 -->\n<g id=\"edge3\" class=\"edge\">\n<title>1&#45;&gt;3</title>\n<path fill=\"none\" stroke=\"#000000\" d=\"M302.6372,-400.9465C303.1509,-390.2621 303.7199,-378.4254 304.2416,-367.5742\"/>\n<polygon fill=\"#000000\" stroke=\"#000000\" points=\"307.7396,-367.6987 304.7239,-357.5422 300.7477,-367.3625 307.7396,-367.6987\"/>\n</g>\n<!-- 5 -->\n<g id=\"node6\" class=\"node\">\n<title>5</title>\n<path fill=\"#9d66eb\" stroke=\"#000000\" d=\"M601,-357.5C601,-357.5 433,-357.5 433,-357.5 427,-357.5 421,-351.5 421,-345.5 421,-345.5 421,-316.5 421,-316.5 421,-310.5 427,-304.5 433,-304.5 433,-304.5 601,-304.5 601,-304.5 607,-304.5 613,-310.5 613,-316.5 613,-316.5 613,-345.5 613,-345.5 613,-351.5 607,-357.5 601,-357.5\"/>\n<text text-anchor=\"middle\" x=\"517\" y=\"-342.3\" font-family=\"Helvetica,sans-Serif\" font-size=\"14.00\" fill=\"#000000\">samples = 10.9%</text>\n<text text-anchor=\"middle\" x=\"517\" y=\"-327.3\" font-family=\"Helvetica,sans-Serif\" font-size=\"14.00\" fill=\"#000000\">value = [0.159, 0.031, 0.81]</text>\n<text text-anchor=\"middle\" x=\"517\" y=\"-312.3\" font-family=\"Helvetica,sans-Serif\" font-size=\"14.00\" fill=\"#000000\">class = non functional</text>\n</g>\n<!-- 4&#45;&gt;5 -->\n<g id=\"edge5\" class=\"edge\">\n<title>4&#45;&gt;5</title>\n<path fill=\"none\" stroke=\"#000000\" d=\"M519.6903,-400.9465C519.2793,-390.2621 518.8241,-378.4254 518.4067,-367.5742\"/>\n<polygon fill=\"#000000\" stroke=\"#000000\" points=\"521.9027,-367.4002 518.0209,-357.5422 514.9079,-367.6693 521.9027,-367.4002\"/>\n</g>\n<!-- 6 -->\n<g id=\"node7\" class=\"node\">\n<title>6</title>\n<path fill=\"#fdf7f2\" stroke=\"#000000\" d=\"M821,-365C821,-365 643,-365 643,-365 637,-365 631,-359 631,-353 631,-353 631,-309 631,-309 631,-303 637,-297 643,-297 643,-297 821,-297 821,-297 827,-297 833,-303 833,-309 833,-309 833,-353 833,-353 833,-359 827,-365 821,-365\"/>\n<text text-anchor=\"middle\" x=\"732\" y=\"-349.8\" font-family=\"Helvetica,sans-Serif\" font-size=\"14.00\" fill=\"#000000\">extraction_type_class &lt;= 4.5</text>\n<text text-anchor=\"middle\" x=\"732\" y=\"-334.8\" font-family=\"Helvetica,sans-Serif\" font-size=\"14.00\" fill=\"#000000\">samples = 16.2%</text>\n<text text-anchor=\"middle\" x=\"732\" y=\"-319.8\" font-family=\"Helvetica,sans-Serif\" font-size=\"14.00\" fill=\"#000000\">value = [0.497, 0.043, 0.46]</text>\n<text text-anchor=\"middle\" x=\"732\" y=\"-304.8\" font-family=\"Helvetica,sans-Serif\" font-size=\"14.00\" fill=\"#000000\">class = functional</text>\n</g>\n<!-- 4&#45;&gt;6 -->\n<g id=\"edge6\" class=\"edge\">\n<title>4&#45;&gt;6</title>\n<path fill=\"none\" stroke=\"#000000\" d=\"M590.0893,-400.9465C610.4002,-390.9354 632.7633,-379.9129 653.6112,-369.6371\"/>\n<polygon fill=\"#000000\" stroke=\"#000000\" points=\"655.3332,-372.6905 662.7555,-365.13 652.2385,-366.4117 655.3332,-372.6905\"/>\n</g>\n<!-- 7 -->\n<g id=\"node8\" class=\"node\">\n<title>7</title>\n<path fill=\"#d8c1f7\" stroke=\"#000000\" d=\"M710,-253.5C710,-253.5 534,-253.5 534,-253.5 528,-253.5 522,-247.5 522,-241.5 522,-241.5 522,-212.5 522,-212.5 522,-206.5 528,-200.5 534,-200.5 534,-200.5 710,-200.5 710,-200.5 716,-200.5 722,-206.5 722,-212.5 722,-212.5 722,-241.5 722,-241.5 722,-247.5 716,-253.5 710,-253.5\"/>\n<text text-anchor=\"middle\" x=\"622\" y=\"-238.3\" font-family=\"Helvetica,sans-Serif\" font-size=\"14.00\" fill=\"#000000\">samples = 5.0%</text>\n<text text-anchor=\"middle\" x=\"622\" y=\"-223.3\" font-family=\"Helvetica,sans-Serif\" font-size=\"14.00\" fill=\"#000000\">value = [0.381, 0.045, 0.574]</text>\n<text text-anchor=\"middle\" x=\"622\" y=\"-208.3\" font-family=\"Helvetica,sans-Serif\" font-size=\"14.00\" fill=\"#000000\">class = non functional</text>\n</g>\n<!-- 6&#45;&gt;7 -->\n<g id=\"edge7\" class=\"edge\">\n<title>6&#45;&gt;7</title>\n<path fill=\"none\" stroke=\"#000000\" d=\"M695.9819,-296.9465C683.6325,-285.2707 669.8278,-272.219 657.5183,-260.5809\"/>\n<polygon fill=\"#000000\" stroke=\"#000000\" points=\"659.7445,-257.869 650.0734,-253.5422 654.9354,-262.9556 659.7445,-257.869\"/>\n</g>\n<!-- 8 -->\n<g id=\"node9\" class=\"node\">\n<title>8</title>\n<path fill=\"#f9e2d1\" stroke=\"#000000\" d=\"M930,-261C930,-261 752,-261 752,-261 746,-261 740,-255 740,-249 740,-249 740,-205 740,-205 740,-199 746,-193 752,-193 752,-193 930,-193 930,-193 936,-193 942,-199 942,-205 942,-205 942,-249 942,-249 942,-255 936,-261 930,-261\"/>\n<text text-anchor=\"middle\" x=\"841\" y=\"-245.8\" font-family=\"Helvetica,sans-Serif\" font-size=\"14.00\" fill=\"#000000\">extraction_type_class &lt;= 5.5</text>\n<text text-anchor=\"middle\" x=\"841\" y=\"-230.8\" font-family=\"Helvetica,sans-Serif\" font-size=\"14.00\" fill=\"#000000\">samples = 11.2%</text>\n<text text-anchor=\"middle\" x=\"841\" y=\"-215.8\" font-family=\"Helvetica,sans-Serif\" font-size=\"14.00\" fill=\"#000000\">value = [0.548, 0.042, 0.41]</text>\n<text text-anchor=\"middle\" x=\"841\" y=\"-200.8\" font-family=\"Helvetica,sans-Serif\" font-size=\"14.00\" fill=\"#000000\">class = functional</text>\n</g>\n<!-- 6&#45;&gt;8 -->\n<g id=\"edge8\" class=\"edge\">\n<title>6&#45;&gt;8</title>\n<path fill=\"none\" stroke=\"#000000\" d=\"M767.6907,-296.9465C777.2891,-287.7884 787.7747,-277.7838 797.7366,-268.2788\"/>\n<polygon fill=\"#000000\" stroke=\"#000000\" points=\"800.4102,-270.5655 805.2291,-261.13 795.5779,-265.5009 800.4102,-270.5655\"/>\n</g>\n<!-- 9 -->\n<g id=\"node10\" class=\"node\">\n<title>9</title>\n<path fill=\"#f9e4d5\" stroke=\"#000000\" d=\"M819,-149.5C819,-149.5 643,-149.5 643,-149.5 637,-149.5 631,-143.5 631,-137.5 631,-137.5 631,-108.5 631,-108.5 631,-102.5 637,-96.5 643,-96.5 643,-96.5 819,-96.5 819,-96.5 825,-96.5 831,-102.5 831,-108.5 831,-108.5 831,-137.5 831,-137.5 831,-143.5 825,-149.5 819,-149.5\"/>\n<text text-anchor=\"middle\" x=\"731\" y=\"-134.3\" font-family=\"Helvetica,sans-Serif\" font-size=\"14.00\" fill=\"#000000\">samples = 10.3%</text>\n<text text-anchor=\"middle\" x=\"731\" y=\"-119.3\" font-family=\"Helvetica,sans-Serif\" font-size=\"14.00\" fill=\"#000000\">value = [0.541, 0.042, 0.416]</text>\n<text text-anchor=\"middle\" x=\"731\" y=\"-104.3\" font-family=\"Helvetica,sans-Serif\" font-size=\"14.00\" fill=\"#000000\">class = functional</text>\n</g>\n<!-- 8&#45;&gt;9 -->\n<g id=\"edge9\" class=\"edge\">\n<title>8&#45;&gt;9</title>\n<path fill=\"none\" stroke=\"#000000\" d=\"M804.9819,-192.9465C792.6325,-181.2707 778.8278,-168.219 766.5183,-156.5809\"/>\n<polygon fill=\"#000000\" stroke=\"#000000\" points=\"768.7445,-153.869 759.0734,-149.5422 763.9354,-158.9556 768.7445,-153.869\"/>\n</g>\n<!-- 10 -->\n<g id=\"node11\" class=\"node\">\n<title>10</title>\n<path fill=\"#f4cbad\" stroke=\"#000000\" d=\"M1039,-157C1039,-157 861,-157 861,-157 855,-157 849,-151 849,-145 849,-145 849,-101 849,-101 849,-95 855,-89 861,-89 861,-89 1039,-89 1039,-89 1045,-89 1051,-95 1051,-101 1051,-101 1051,-145 1051,-145 1051,-151 1045,-157 1039,-157\"/>\n<text text-anchor=\"middle\" x=\"950\" y=\"-141.8\" font-family=\"Helvetica,sans-Serif\" font-size=\"14.00\" fill=\"#000000\">extraction_type_class &lt;= 6.5</text>\n<text text-anchor=\"middle\" x=\"950\" y=\"-126.8\" font-family=\"Helvetica,sans-Serif\" font-size=\"14.00\" fill=\"#000000\">samples = 0.9%</text>\n<text text-anchor=\"middle\" x=\"950\" y=\"-111.8\" font-family=\"Helvetica,sans-Serif\" font-size=\"14.00\" fill=\"#000000\">value = [0.614, 0.043, 0.343]</text>\n<text text-anchor=\"middle\" x=\"950\" y=\"-96.8\" font-family=\"Helvetica,sans-Serif\" font-size=\"14.00\" fill=\"#000000\">class = functional</text>\n</g>\n<!-- 8&#45;&gt;10 -->\n<g id=\"edge10\" class=\"edge\">\n<title>8&#45;&gt;10</title>\n<path fill=\"none\" stroke=\"#000000\" d=\"M876.6907,-192.9465C886.2891,-183.7884 896.7747,-173.7838 906.7366,-164.2788\"/>\n<polygon fill=\"#000000\" stroke=\"#000000\" points=\"909.4102,-166.5655 914.2291,-157.13 904.5779,-161.5009 909.4102,-166.5655\"/>\n</g>\n<!-- 11 -->\n<g id=\"node12\" class=\"node\">\n<title>11</title>\n<path fill=\"#f2bf9b\" stroke=\"#000000\" d=\"M929,-53C929,-53 753,-53 753,-53 747,-53 741,-47 741,-41 741,-41 741,-12 741,-12 741,-6 747,0 753,0 753,0 929,0 929,0 935,0 941,-6 941,-12 941,-12 941,-41 941,-41 941,-47 935,-53 929,-53\"/>\n<text text-anchor=\"middle\" x=\"841\" y=\"-37.8\" font-family=\"Helvetica,sans-Serif\" font-size=\"14.00\" fill=\"#000000\">samples = 0.7%</text>\n<text text-anchor=\"middle\" x=\"841\" y=\"-22.8\" font-family=\"Helvetica,sans-Serif\" font-size=\"14.00\" fill=\"#000000\">value = [0.657, 0.037, 0.306]</text>\n<text text-anchor=\"middle\" x=\"841\" y=\"-7.8\" font-family=\"Helvetica,sans-Serif\" font-size=\"14.00\" fill=\"#000000\">class = functional</text>\n</g>\n<!-- 10&#45;&gt;11 -->\n<g id=\"edge11\" class=\"edge\">\n<title>10&#45;&gt;11</title>\n<path fill=\"none\" stroke=\"#000000\" d=\"M911.5707,-88.9777C900.9173,-79.546 889.3641,-69.3178 878.7499,-59.9208\"/>\n<polygon fill=\"#000000\" stroke=\"#000000\" points=\"881.0207,-57.2566 871.2133,-53.2485 876.3806,-62.4978 881.0207,-57.2566\"/>\n</g>\n<!-- 12 -->\n<g id=\"node13\" class=\"node\">\n<title>12</title>\n<path fill=\"#f8f3fd\" stroke=\"#000000\" d=\"M1147,-53C1147,-53 971,-53 971,-53 965,-53 959,-47 959,-41 959,-41 959,-12 959,-12 959,-6 965,0 971,0 971,0 1147,0 1147,0 1153,0 1159,-6 1159,-12 1159,-12 1159,-41 1159,-41 1159,-47 1153,-53 1147,-53\"/>\n<text text-anchor=\"middle\" x=\"1059\" y=\"-37.8\" font-family=\"Helvetica,sans-Serif\" font-size=\"14.00\" fill=\"#000000\">samples = 0.2%</text>\n<text text-anchor=\"middle\" x=\"1059\" y=\"-22.8\" font-family=\"Helvetica,sans-Serif\" font-size=\"14.00\" fill=\"#000000\">value = [0.452, 0.065, 0.484]</text>\n<text text-anchor=\"middle\" x=\"1059\" y=\"-7.8\" font-family=\"Helvetica,sans-Serif\" font-size=\"14.00\" fill=\"#000000\">class = non functional</text>\n</g>\n<!-- 10&#45;&gt;12 -->\n<g id=\"edge12\" class=\"edge\">\n<title>10&#45;&gt;12</title>\n<path fill=\"none\" stroke=\"#000000\" d=\"M988.4293,-88.9777C999.0827,-79.546 1010.6359,-69.3178 1021.2501,-59.9208\"/>\n<polygon fill=\"#000000\" stroke=\"#000000\" points=\"1023.6194,-62.4978 1028.7867,-53.2485 1018.9793,-57.2566 1023.6194,-62.4978\"/>\n</g>\n</g>\n</svg>\n"
          },
          "metadata": {
            "tags": []
          }
        }
      ]
    },
    {
      "cell_type": "markdown",
      "metadata": {
        "colab_type": "text",
        "id": "P4EJi2GvgLVa"
      },
      "source": [
        "# Understand how tree ensembles reduce overfitting compared to a single decision tree with unlimited depth"
      ]
    },
    {
      "cell_type": "markdown",
      "metadata": {
        "id": "uzMWiIRfBtD4",
        "colab_type": "text"
      },
      "source": [
        "## Overview"
      ]
    },
    {
      "cell_type": "markdown",
      "metadata": {
        "colab_type": "text",
        "id": "0nNABF3HgLVg"
      },
      "source": [
        "### What's \"random\" about random forests?\n",
        "1. Each tree trains on a random bootstrap sample of the data. (In scikit-learn, for `RandomForestRegressor` and `RandomForestClassifier`, the `bootstrap` parameter's default is `True`.) This type of ensembling is called Bagging. (Bootstrap AGGregatING.)\n",
        "2. Each split considers a random subset of the features. (In scikit-learn, when the `max_features` parameter is not `None`.) \n",
        "\n",
        "For extra randomness, you can try [\"extremely randomized trees\"](https://scikit-learn.org/stable/modules/ensemble.html#extremely-randomized-trees)!\n",
        "\n",
        ">In extremely randomized trees (see [ExtraTreesClassifier](https://scikit-learn.org/stable/modules/generated/sklearn.ensemble.ExtraTreesClassifier.html) and [ExtraTreesRegressor](https://scikit-learn.org/stable/modules/generated/sklearn.ensemble.ExtraTreesRegressor.html) classes), randomness goes one step further in the way splits are computed. As in random forests, a random subset of candidate features is used, but instead of looking for the most discriminative thresholds, thresholds are drawn at random for each candidate feature and the best of these randomly-generated thresholds is picked as the splitting rule. This usually allows to reduce the variance of the model a bit more, at the expense of a slightly greater increase in bias"
      ]
    },
    {
      "cell_type": "markdown",
      "metadata": {
        "id": "qyRddy9qBtD5",
        "colab_type": "text"
      },
      "source": [
        "## Follow Along"
      ]
    },
    {
      "cell_type": "markdown",
      "metadata": {
        "colab_type": "text",
        "id": "pUYP619CgLVb"
      },
      "source": [
        "### Example: [predicting golf putts](https://statmodeling.stat.columbia.edu/2008/12/04/the_golf_puttin/)\n",
        "(1 feature, non-linear, regression)"
      ]
    },
    {
      "cell_type": "code",
      "metadata": {
        "colab_type": "code",
        "id": "b4640ukxgLVc",
        "colab": {}
      },
      "source": [
        "putts = pd.DataFrame(\n",
        "    columns=['distance', 'tries', 'successes'], \n",
        "    data = [[2, 1443, 1346],\n",
        "            [3, 694, 577],\n",
        "            [4, 455, 337],\n",
        "            [5, 353, 208],\n",
        "            [6, 272, 149],\n",
        "            [7, 256, 136],\n",
        "            [8, 240, 111],\n",
        "            [9, 217, 69],\n",
        "            [10, 200, 67],\n",
        "            [11, 237, 75],\n",
        "            [12, 202, 52],\n",
        "            [13, 192, 46],\n",
        "            [14, 174, 54],\n",
        "            [15, 167, 28],\n",
        "            [16, 201, 27],\n",
        "            [17, 195, 31],\n",
        "            [18, 191, 33],\n",
        "            [19, 147, 20],\n",
        "            [20, 152, 24]]\n",
        ")\n",
        "\n",
        "putts['rate of success'] = putts['successes'] / putts['tries']\n",
        "putts_X = putts[['distance']]\n",
        "putts_y = putts['rate of success']"
      ],
      "execution_count": 84,
      "outputs": []
    },
    {
      "cell_type": "code",
      "metadata": {
        "colab_type": "code",
        "id": "T0IpCcKggLVd",
        "colab": {
          "base_uri": "https://localhost:8080/",
          "height": 637,
          "referenced_widgets": [
            "c1e34079a2084ab3854a7988e7ed2ade",
            "e36e23878f8241f1b941c96f4a6fa7d0",
            "0e352bd2e0d84c959461e12295b30169",
            "5430d677c998434094dd7de04efbdeaa",
            "0a43a5f6fe8b4e05a15482d3c7b518c2",
            "8a0abac4fcd946eab2af110ab07abee6",
            "695185543cc84bef9e6b09c944351e55",
            "3fcad88876b049fcb3fc7b3e2ba4a0b1",
            "f3e7161de13b481ab7be114a4325014c",
            "ffa1af1ab0d042bf8fc86be66487db64"
          ]
        },
        "outputId": "0658bb38-7d97-4fd1-80dd-c0b9ec1245c0"
      },
      "source": [
        "%matplotlib inline\n",
        "import matplotlib.pyplot as plt\n",
        "from ipywidgets import interact\n",
        "from sklearn.ensemble import RandomForestRegressor\n",
        "from sklearn.tree import DecisionTreeRegressor\n",
        "\n",
        "def putt_trees(max_depth=1, n_estimators=1):\n",
        "    models = [DecisionTreeRegressor(max_depth=max_depth), \n",
        "              RandomForestRegressor(max_depth=max_depth, n_estimators=n_estimators)]\n",
        "    \n",
        "    for model in models:\n",
        "        name = model.__class__.__name__\n",
        "        model.fit(putts_X, putts_y)\n",
        "        ax = putts.plot('distance', 'rate of success', kind='scatter', title=name)\n",
        "        ax.step(putts_X, model.predict(putts_X), where='mid')\n",
        "        plt.show()\n",
        "        \n",
        "interact(putt_trees, max_depth=(1,6,1), n_estimators=(10,40,10));"
      ],
      "execution_count": 85,
      "outputs": [
        {
          "output_type": "display_data",
          "data": {
            "application/vnd.jupyter.widget-view+json": {
              "model_id": "c1e34079a2084ab3854a7988e7ed2ade",
              "version_minor": 0,
              "version_major": 2
            },
            "text/plain": [
              "interactive(children=(IntSlider(value=1, description='max_depth', max=6, min=1), IntSlider(value=10, descripti…"
            ]
          },
          "metadata": {
            "tags": []
          }
        }
      ]
    },
    {
      "cell_type": "markdown",
      "metadata": {
        "colab_type": "text",
        "id": "rq4Z_wQ_gLVj"
      },
      "source": [
        "### Go back to Tanzania Waterpumps ..."
      ]
    },
    {
      "cell_type": "markdown",
      "metadata": {
        "colab_type": "text",
        "id": "FoSE9iT6YXQz"
      },
      "source": [
        "#### Helper function to visualize predicted probabilities\n",
        "\n"
      ]
    },
    {
      "cell_type": "code",
      "metadata": {
        "colab_type": "code",
        "id": "HzIAjGpJgLVj",
        "colab": {}
      },
      "source": [
        "import itertools\n",
        "import seaborn as sns\n",
        "\n",
        "def pred_heatmap(model, X, features, class_index=-1, title='', num=100):\n",
        "    \"\"\"\n",
        "    Visualize predicted probabilities, for classifier fit on 2 numeric features\n",
        "    \n",
        "    Parameters\n",
        "    ----------\n",
        "    model : scikit-learn classifier, already fit\n",
        "    X : pandas dataframe, which was used to fit model\n",
        "    features : list of strings, column names of the 2 numeric features\n",
        "    class_index : integer, index of class label\n",
        "    title : string, title of plot\n",
        "    num : int, number of grid points for each feature\n",
        "    \n",
        "    Returns\n",
        "    -------\n",
        "    y_pred_proba : numpy array, predicted probabilities for class_index\n",
        "    \"\"\"\n",
        "    feature1, feature2 = features\n",
        "    min1, max1 = X[feature1].min(), X[feature1].max()\n",
        "    min2, max2 = X[feature2].min(), X[feature2].max()\n",
        "    x1 = np.linspace(min1, max1, num)\n",
        "    x2 = np.linspace(max2, min2, num)\n",
        "    combos = list(itertools.product(x1, x2))\n",
        "    y_pred_proba = model.predict_proba(combos)[:, class_index]\n",
        "    pred_grid = y_pred_proba.reshape(num, num).T\n",
        "    table = pd.DataFrame(pred_grid, columns=x1, index=x2)\n",
        "    sns.heatmap(table, vmin=0, vmax=1)\n",
        "    plt.xticks([])\n",
        "    plt.yticks([])\n",
        "    plt.xlabel(feature1)\n",
        "    plt.ylabel(feature2)\n",
        "    plt.title(title)\n",
        "    plt.show()\n",
        "    return y_pred_proba\n"
      ],
      "execution_count": 86,
      "outputs": []
    },
    {
      "cell_type": "markdown",
      "metadata": {
        "colab_type": "text",
        "id": "DiRfPqHjgLVl"
      },
      "source": [
        "### Compare Decision Tree, Random Forest, Logistic Regression"
      ]
    },
    {
      "cell_type": "code",
      "metadata": {
        "colab_type": "code",
        "id": "HKkMLXhMgLVl",
        "colab": {
          "base_uri": "https://localhost:8080/",
          "height": 864,
          "referenced_widgets": [
            "81f73c853ed643538e5c519d8f6b185b",
            "1cc6af434cd4494db8de8c201233c2dc",
            "0bd81b2db5f54c10b6042bc857e14cc1",
            "3434fa1cf3b443318f3e245b676629ce",
            "375cc66ab3944428b493c2e84b23b162",
            "26bfa8f0644c4957b62d272ee67aaac3",
            "ac4237663e324fe6847de3ec27aebe8c",
            "e534a9b0253b40aaa16404097986cbc4",
            "d72391754ccb404480540cd4bc51a530",
            "a35eeeeced4a42c9b0455f28907624cd"
          ]
        },
        "outputId": "60f6e5bc-e650-44a1-c024-bf6e355bd1cc"
      },
      "source": [
        "# Instructions\n",
        "# 1. Choose two features\n",
        "# 2. Run this code cell\n",
        "# 3. Interact with the widget sliders\n",
        "feature1 = 'longitude'\n",
        "feature2 = 'quantity'\n",
        "\n",
        "from sklearn.linear_model import LogisticRegression\n",
        "from sklearn.tree import DecisionTreeClassifier\n",
        "\n",
        "def get_X_y(df, feature1, feature2, target):\n",
        "    features = [feature1, feature2]\n",
        "    X = df[features]\n",
        "    y = df[target]\n",
        "    X = X.fillna(X.median())\n",
        "    X = OrdinalEncoder().fit_transform(X)\n",
        "    return X, y\n",
        "\n",
        "def compare_models(max_depth=1, n_estimators=1):\n",
        "    models = [DecisionTreeClassifier(max_depth=max_depth), \n",
        "              RandomForestClassifier(max_depth=max_depth, n_estimators=n_estimators), \n",
        "              LogisticRegression(solver='lbfgs', multi_class='auto')]\n",
        "    \n",
        "    for model in models:\n",
        "        name = model.__class__.__name__\n",
        "        model.fit(X, y)\n",
        "        pred_heatmap(model, X, [feature1, feature2], class_index=0, title=name)\n",
        "\n",
        "X, y = get_X_y(train, feature1, feature2, target='status_group')\n",
        "interact(compare_models, max_depth=(1,6,1), n_estimators=(10,40,10));"
      ],
      "execution_count": 82,
      "outputs": [
        {
          "output_type": "display_data",
          "data": {
            "application/vnd.jupyter.widget-view+json": {
              "model_id": "81f73c853ed643538e5c519d8f6b185b",
              "version_minor": 0,
              "version_major": 2
            },
            "text/plain": [
              "interactive(children=(IntSlider(value=1, description='max_depth', max=6, min=1), IntSlider(value=10, descripti…"
            ]
          },
          "metadata": {
            "tags": []
          }
        }
      ]
    },
    {
      "cell_type": "markdown",
      "metadata": {
        "colab_type": "text",
        "id": "hOQqjLEDgLVn"
      },
      "source": [
        "### Bagging"
      ]
    },
    {
      "cell_type": "code",
      "metadata": {
        "colab_type": "code",
        "id": "Hm4aPgs2gLVn",
        "colab": {
          "base_uri": "https://localhost:8080/",
          "height": 864,
          "referenced_widgets": [
            "8008023b4f594171937124b79a042597",
            "11e3d86a493e47d8be0b8f74fb77f578",
            "c780736eda7c4e7980011a56fe543132",
            "82c8ac238a28404ca0ec052416e0fd0a",
            "6b7e871d33bf483b9f0cd308dd0706e4",
            "03a9fe0adb704add8e8baa6d8033db50",
            "1e40a1f65df24015a348d12fc0df8f1d",
            "ca84c75babc841538bb7a32da1b48c2f",
            "a1304aa6fd024221b84a2ac9419bf1e2",
            "835d85d01233478db266565741abb25b"
          ]
        },
        "outputId": "08b5df0f-e85c-4faf-a354-4846852aa977"
      },
      "source": [
        "# Do-it-yourself Bagging Ensemble of Decision Trees (like a Random Forest)\n",
        "\n",
        "# Instructions\n",
        "# 1. Choose two features\n",
        "# 2. Run this code cell\n",
        "# 3. Interact with the widget sliders\n",
        "\n",
        "feature1 = 'longitude'\n",
        "feature2 = 'latitude'\n",
        "\n",
        "def waterpumps_bagging(max_depth=1, n_estimators=1):\n",
        "    predicteds = []\n",
        "    for i in range(n_estimators):\n",
        "        title = f'Tree {i+1}'\n",
        "        bootstrap_sample = train.sample(n=len(train), replace=True)\n",
        "        X, y = get_X_y(bootstrap_sample, feature1, feature2, target='status_group')\n",
        "        tree = DecisionTreeClassifier(max_depth=max_depth)\n",
        "        tree.fit(X, y)\n",
        "        predicted = pred_heatmap(tree, X, [feature1, feature2], class_index=0, title=title)\n",
        "        predicteds.append(predicted)\n",
        "    \n",
        "    ensembled = np.vstack(predicteds).mean(axis=0)\n",
        "    title = f'Ensemble of {n_estimators} trees, with max_depth={max_depth}'\n",
        "    sns.heatmap(ensembled.reshape(100, 100).T, vmin=0, vmax=1)\n",
        "    plt.title(title)\n",
        "    plt.xlabel(feature1)\n",
        "    plt.ylabel(feature2)\n",
        "    plt.xticks([])\n",
        "    plt.yticks([])\n",
        "    plt.show()\n",
        "        \n",
        "interact(waterpumps_bagging, max_depth=(1,6,1), n_estimators=(2,5,1));"
      ],
      "execution_count": 83,
      "outputs": [
        {
          "output_type": "display_data",
          "data": {
            "application/vnd.jupyter.widget-view+json": {
              "model_id": "8008023b4f594171937124b79a042597",
              "version_minor": 0,
              "version_major": 2
            },
            "text/plain": [
              "interactive(children=(IntSlider(value=1, description='max_depth', max=6, min=1), IntSlider(value=2, descriptio…"
            ]
          },
          "metadata": {
            "tags": []
          }
        }
      ]
    },
    {
      "cell_type": "markdown",
      "metadata": {
        "colab_type": "text",
        "id": "wYoSBi15akWP"
      },
      "source": [
        "# Review\n",
        "\n",
        "#### Try Tree Ensembles when you do machine learning with labeled, tabular data\n",
        "- \"Tree Ensembles\" means Random Forest or Gradient Boosting models. \n",
        "- [Tree Ensembles often have the best predictive accuracy](https://arxiv.org/abs/1708.05070) with labeled, tabular data.\n",
        "- Why? Because trees can fit non-linear, non-[monotonic](https://en.wikipedia.org/wiki/Monotonic_function) relationships, and [interactions](https://christophm.github.io/interpretable-ml-book/interaction.html) between features.\n",
        "- A single decision tree, grown to unlimited depth, will [overfit](http://www.r2d3.us/visual-intro-to-machine-learning-part-1/). We solve this problem by ensembling trees, with bagging (Random Forest) or boosting (Gradient Boosting).\n",
        "- Random Forest's advantage: may be less sensitive to hyperparameters. Gradient Boosting's advantage: may get better predictive accuracy.\n",
        "\n",
        "#### One-hot encoding isn’t the only way, and may not be the best way, of categorical encoding for tree ensembles.\n",
        "- For example, tree ensembles can work with arbitrary \"ordinal\" encoding! (Randomly assigning an integer to each category.) Compared to one-hot encoding, the dimensionality will be lower, and the predictive accuracy may be just as good or even better.\n"
      ]
    }
  ]
}